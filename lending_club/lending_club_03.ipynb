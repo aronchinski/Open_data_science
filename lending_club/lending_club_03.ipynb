{
 "cells": [
  {
   "cell_type": "markdown",
   "metadata": {
    "colab_type": "text",
    "id": "94vlB5BGUHRJ"
   },
   "source": [
    "## 1. Preprocessing"
   ]
  },
  {
   "cell_type": "code",
   "execution_count": 1,
   "metadata": {
    "colab": {},
    "colab_type": "code",
    "id": "uj66B4CZUHRS"
   },
   "outputs": [],
   "source": [
    "import pandas as pd\n",
    "import numpy as np\n",
    "import matplotlib.pyplot as plt\n",
    "from sklearn.pipeline import Pipeline\n",
    "from sklearn.preprocessing import StandardScaler\n",
    "from sklearn.linear_model import LogisticRegression\n",
    "from sklearn.model_selection import train_test_split\n",
    "from sklearn.metrics import accuracy_score, roc_auc_score \n",
    "from sklearn.metrics import confusion_matrix\n",
    "from sklearn.model_selection import GridSearchCV\n",
    "from sklearn.metrics import roc_curve, auc\n",
    "import seaborn as sns\n",
    "from sklearn.ensemble import GradientBoostingClassifier\n",
    "from sklearn.base import clone\n",
    "from sklearn import preprocessing\n",
    "from sklearn.impute import SimpleImputer\n",
    "from sklearn.tree import DecisionTreeClassifier\n",
    "from sklearn.ensemble import RandomForestClassifier"
   ]
  },
  {
   "cell_type": "markdown",
   "metadata": {
    "colab_type": "text",
    "id": "Y1ZaFH_GUHRk"
   },
   "source": [
    "Reading CSV:"
   ]
  },
  {
   "cell_type": "code",
   "execution_count": 2,
   "metadata": {
    "colab": {},
    "colab_type": "code",
    "id": "kj4o1uJ0UHRn"
   },
   "outputs": [
    {
     "name": "stderr",
     "output_type": "stream",
     "text": [
      "C:\\ProgramData\\Anaconda3\\lib\\site-packages\\IPython\\core\\interactiveshell.py:3049: DtypeWarning: Columns (49,129,130,131,134,135,136,139) have mixed types. Specify dtype option on import or set low_memory=False.\n",
      "  interactivity=interactivity, compiler=compiler, result=result)\n"
     ]
    }
   ],
   "source": [
    "df=pd.read_csv(\"LendingClub.csv\")"
   ]
  },
  {
   "cell_type": "markdown",
   "metadata": {},
   "source": [
    "fraction of NA's for mix_wars:"
   ]
  },
  {
   "cell_type": "code",
   "execution_count": 3,
   "metadata": {},
   "outputs": [
    {
     "data": {
      "text/plain": [
       "next_pymnt_d               0.999913\n",
       "hardship_type              0.999379\n",
       "hardship_reason            0.999379\n",
       "hardship_status            0.999379\n",
       "hardship_start_date        0.999379\n",
       "hardship_end_date          0.999379\n",
       "payment_plan_start_date    0.999379\n",
       "hardship_loan_status       0.999379\n",
       "dtype: float64"
      ]
     },
     "execution_count": 3,
     "metadata": {},
     "output_type": "execute_result"
    }
   ],
   "source": [
    "mix_vars=[49,129,130,131,134,135,136,139]\n",
    "df.iloc[:,mix_vars].apply(lambda x: x.isna().mean())"
   ]
  },
  {
   "cell_type": "markdown",
   "metadata": {},
   "source": [
    "Dropping mix_vars:"
   ]
  },
  {
   "cell_type": "code",
   "execution_count": 4,
   "metadata": {},
   "outputs": [],
   "source": [
    "df.drop(df.columns[mix_vars],axis=1,inplace=True)"
   ]
  },
  {
   "cell_type": "markdown",
   "metadata": {
    "colab_type": "text",
    "id": "Qfy8Ak89UHR0"
   },
   "source": [
    "First look:"
   ]
  },
  {
   "cell_type": "code",
   "execution_count": 5,
   "metadata": {},
   "outputs": [
    {
     "name": "stdout",
     "output_type": "stream",
     "text": [
      "<class 'pandas.core.frame.DataFrame'>\n",
      "RangeIndex: 413534 entries, 0 to 413533\n",
      "Columns: 144 entries, id to good_loan\n",
      "dtypes: float64(69), int64(46), object(29)\n",
      "memory usage: 454.3+ MB\n"
     ]
    }
   ],
   "source": [
    "df.info()"
   ]
  },
  {
   "cell_type": "code",
   "execution_count": 6,
   "metadata": {
    "colab": {
     "base_uri": "https://localhost:8080/",
     "height": 1179
    },
    "colab_type": "code",
    "id": "jzHHSzsWUHR5",
    "outputId": "6b03b87f-d4eb-4689-82bb-810302f831c8",
    "scrolled": true
   },
   "outputs": [
    {
     "data": {
      "text/html": [
       "<div>\n",
       "<style scoped>\n",
       "    .dataframe tbody tr th:only-of-type {\n",
       "        vertical-align: middle;\n",
       "    }\n",
       "\n",
       "    .dataframe tbody tr th {\n",
       "        vertical-align: top;\n",
       "    }\n",
       "\n",
       "    .dataframe thead th {\n",
       "        text-align: right;\n",
       "    }\n",
       "</style>\n",
       "<table border=\"1\" class=\"dataframe\">\n",
       "  <thead>\n",
       "    <tr style=\"text-align: right;\">\n",
       "      <th></th>\n",
       "      <th>count</th>\n",
       "      <th>unique</th>\n",
       "      <th>top</th>\n",
       "      <th>freq</th>\n",
       "      <th>mean</th>\n",
       "      <th>std</th>\n",
       "      <th>min</th>\n",
       "      <th>25%</th>\n",
       "      <th>50%</th>\n",
       "      <th>75%</th>\n",
       "      <th>max</th>\n",
       "    </tr>\n",
       "  </thead>\n",
       "  <tbody>\n",
       "    <tr>\n",
       "      <th>id</th>\n",
       "      <td>413534</td>\n",
       "      <td>NaN</td>\n",
       "      <td>NaN</td>\n",
       "      <td>NaN</td>\n",
       "      <td>2.01205e+07</td>\n",
       "      <td>1.31241e+07</td>\n",
       "      <td>57167</td>\n",
       "      <td>8.29579e+06</td>\n",
       "      <td>1.64422e+07</td>\n",
       "      <td>3.23698e+07</td>\n",
       "      <td>4.44091e+07</td>\n",
       "    </tr>\n",
       "    <tr>\n",
       "      <th>member_id</th>\n",
       "      <td>0</td>\n",
       "      <td>NaN</td>\n",
       "      <td>NaN</td>\n",
       "      <td>NaN</td>\n",
       "      <td>NaN</td>\n",
       "      <td>NaN</td>\n",
       "      <td>NaN</td>\n",
       "      <td>NaN</td>\n",
       "      <td>NaN</td>\n",
       "      <td>NaN</td>\n",
       "      <td>NaN</td>\n",
       "    </tr>\n",
       "    <tr>\n",
       "      <th>loan_amnt</th>\n",
       "      <td>413534</td>\n",
       "      <td>NaN</td>\n",
       "      <td>NaN</td>\n",
       "      <td>NaN</td>\n",
       "      <td>14403.2</td>\n",
       "      <td>8266.14</td>\n",
       "      <td>1000</td>\n",
       "      <td>8000</td>\n",
       "      <td>12050</td>\n",
       "      <td>20000</td>\n",
       "      <td>35000</td>\n",
       "    </tr>\n",
       "    <tr>\n",
       "      <th>funded_amnt</th>\n",
       "      <td>413534</td>\n",
       "      <td>NaN</td>\n",
       "      <td>NaN</td>\n",
       "      <td>NaN</td>\n",
       "      <td>14403.2</td>\n",
       "      <td>8266.14</td>\n",
       "      <td>1000</td>\n",
       "      <td>8000</td>\n",
       "      <td>12050</td>\n",
       "      <td>20000</td>\n",
       "      <td>35000</td>\n",
       "    </tr>\n",
       "    <tr>\n",
       "      <th>funded_amnt_inv</th>\n",
       "      <td>413534</td>\n",
       "      <td>NaN</td>\n",
       "      <td>NaN</td>\n",
       "      <td>NaN</td>\n",
       "      <td>14397.8</td>\n",
       "      <td>8263.23</td>\n",
       "      <td>950</td>\n",
       "      <td>8000</td>\n",
       "      <td>12050</td>\n",
       "      <td>20000</td>\n",
       "      <td>35000</td>\n",
       "    </tr>\n",
       "    <tr>\n",
       "      <th>term</th>\n",
       "      <td>413534</td>\n",
       "      <td>2</td>\n",
       "      <td>36 months</td>\n",
       "      <td>318766</td>\n",
       "      <td>NaN</td>\n",
       "      <td>NaN</td>\n",
       "      <td>NaN</td>\n",
       "      <td>NaN</td>\n",
       "      <td>NaN</td>\n",
       "      <td>NaN</td>\n",
       "      <td>NaN</td>\n",
       "    </tr>\n",
       "    <tr>\n",
       "      <th>int_rate</th>\n",
       "      <td>413534</td>\n",
       "      <td>160</td>\n",
       "      <td>12.99%</td>\n",
       "      <td>16547</td>\n",
       "      <td>NaN</td>\n",
       "      <td>NaN</td>\n",
       "      <td>NaN</td>\n",
       "      <td>NaN</td>\n",
       "      <td>NaN</td>\n",
       "      <td>NaN</td>\n",
       "      <td>NaN</td>\n",
       "    </tr>\n",
       "    <tr>\n",
       "      <th>installment</th>\n",
       "      <td>413534</td>\n",
       "      <td>NaN</td>\n",
       "      <td>NaN</td>\n",
       "      <td>NaN</td>\n",
       "      <td>442.01</td>\n",
       "      <td>247.577</td>\n",
       "      <td>4.93</td>\n",
       "      <td>263.55</td>\n",
       "      <td>385.35</td>\n",
       "      <td>580.73</td>\n",
       "      <td>1409.99</td>\n",
       "    </tr>\n",
       "    <tr>\n",
       "      <th>grade</th>\n",
       "      <td>413534</td>\n",
       "      <td>7</td>\n",
       "      <td>B</td>\n",
       "      <td>121329</td>\n",
       "      <td>NaN</td>\n",
       "      <td>NaN</td>\n",
       "      <td>NaN</td>\n",
       "      <td>NaN</td>\n",
       "      <td>NaN</td>\n",
       "      <td>NaN</td>\n",
       "      <td>NaN</td>\n",
       "    </tr>\n",
       "    <tr>\n",
       "      <th>sub_grade</th>\n",
       "      <td>413534</td>\n",
       "      <td>35</td>\n",
       "      <td>B4</td>\n",
       "      <td>27056</td>\n",
       "      <td>NaN</td>\n",
       "      <td>NaN</td>\n",
       "      <td>NaN</td>\n",
       "      <td>NaN</td>\n",
       "      <td>NaN</td>\n",
       "      <td>NaN</td>\n",
       "      <td>NaN</td>\n",
       "    </tr>\n",
       "    <tr>\n",
       "      <th>emp_title</th>\n",
       "      <td>388881</td>\n",
       "      <td>159634</td>\n",
       "      <td>Teacher</td>\n",
       "      <td>6147</td>\n",
       "      <td>NaN</td>\n",
       "      <td>NaN</td>\n",
       "      <td>NaN</td>\n",
       "      <td>NaN</td>\n",
       "      <td>NaN</td>\n",
       "      <td>NaN</td>\n",
       "      <td>NaN</td>\n",
       "    </tr>\n",
       "    <tr>\n",
       "      <th>emp_length</th>\n",
       "      <td>392515</td>\n",
       "      <td>11</td>\n",
       "      <td>10+ years</td>\n",
       "      <td>136937</td>\n",
       "      <td>NaN</td>\n",
       "      <td>NaN</td>\n",
       "      <td>NaN</td>\n",
       "      <td>NaN</td>\n",
       "      <td>NaN</td>\n",
       "      <td>NaN</td>\n",
       "      <td>NaN</td>\n",
       "    </tr>\n",
       "    <tr>\n",
       "      <th>home_ownership</th>\n",
       "      <td>413534</td>\n",
       "      <td>4</td>\n",
       "      <td>MORTGAGE</td>\n",
       "      <td>208980</td>\n",
       "      <td>NaN</td>\n",
       "      <td>NaN</td>\n",
       "      <td>NaN</td>\n",
       "      <td>NaN</td>\n",
       "      <td>NaN</td>\n",
       "      <td>NaN</td>\n",
       "      <td>NaN</td>\n",
       "    </tr>\n",
       "    <tr>\n",
       "      <th>annual_inc</th>\n",
       "      <td>413534</td>\n",
       "      <td>NaN</td>\n",
       "      <td>NaN</td>\n",
       "      <td>NaN</td>\n",
       "      <td>73926.6</td>\n",
       "      <td>54982.8</td>\n",
       "      <td>3000</td>\n",
       "      <td>45000</td>\n",
       "      <td>63665</td>\n",
       "      <td>90000</td>\n",
       "      <td>8.70658e+06</td>\n",
       "    </tr>\n",
       "    <tr>\n",
       "      <th>verification_status</th>\n",
       "      <td>413534</td>\n",
       "      <td>3</td>\n",
       "      <td>Source Verified</td>\n",
       "      <td>144197</td>\n",
       "      <td>NaN</td>\n",
       "      <td>NaN</td>\n",
       "      <td>NaN</td>\n",
       "      <td>NaN</td>\n",
       "      <td>NaN</td>\n",
       "      <td>NaN</td>\n",
       "      <td>NaN</td>\n",
       "    </tr>\n",
       "    <tr>\n",
       "      <th>issue_d</th>\n",
       "      <td>413534</td>\n",
       "      <td>27</td>\n",
       "      <td>Oct-14</td>\n",
       "      <td>34385</td>\n",
       "      <td>NaN</td>\n",
       "      <td>NaN</td>\n",
       "      <td>NaN</td>\n",
       "      <td>NaN</td>\n",
       "      <td>NaN</td>\n",
       "      <td>NaN</td>\n",
       "      <td>NaN</td>\n",
       "    </tr>\n",
       "    <tr>\n",
       "      <th>loan_status</th>\n",
       "      <td>413534</td>\n",
       "      <td>3</td>\n",
       "      <td>Fully Paid</td>\n",
       "      <td>339221</td>\n",
       "      <td>NaN</td>\n",
       "      <td>NaN</td>\n",
       "      <td>NaN</td>\n",
       "      <td>NaN</td>\n",
       "      <td>NaN</td>\n",
       "      <td>NaN</td>\n",
       "      <td>NaN</td>\n",
       "    </tr>\n",
       "    <tr>\n",
       "      <th>pymnt_plan</th>\n",
       "      <td>413534</td>\n",
       "      <td>1</td>\n",
       "      <td>n</td>\n",
       "      <td>413534</td>\n",
       "      <td>NaN</td>\n",
       "      <td>NaN</td>\n",
       "      <td>NaN</td>\n",
       "      <td>NaN</td>\n",
       "      <td>NaN</td>\n",
       "      <td>NaN</td>\n",
       "      <td>NaN</td>\n",
       "    </tr>\n",
       "    <tr>\n",
       "      <th>url</th>\n",
       "      <td>413534</td>\n",
       "      <td>413534</td>\n",
       "      <td>https://lendingclub.com/browse/loanDetail.acti...</td>\n",
       "      <td>1</td>\n",
       "      <td>NaN</td>\n",
       "      <td>NaN</td>\n",
       "      <td>NaN</td>\n",
       "      <td>NaN</td>\n",
       "      <td>NaN</td>\n",
       "      <td>NaN</td>\n",
       "      <td>NaN</td>\n",
       "    </tr>\n",
       "    <tr>\n",
       "      <th>desc</th>\n",
       "      <td>61216</td>\n",
       "      <td>60166</td>\n",
       "      <td>Borrower added on 03/17/14 &gt; Debt consolidat...</td>\n",
       "      <td>11</td>\n",
       "      <td>NaN</td>\n",
       "      <td>NaN</td>\n",
       "      <td>NaN</td>\n",
       "      <td>NaN</td>\n",
       "      <td>NaN</td>\n",
       "      <td>NaN</td>\n",
       "      <td>NaN</td>\n",
       "    </tr>\n",
       "    <tr>\n",
       "      <th>purpose</th>\n",
       "      <td>413534</td>\n",
       "      <td>13</td>\n",
       "      <td>debt_consolidation</td>\n",
       "      <td>249729</td>\n",
       "      <td>NaN</td>\n",
       "      <td>NaN</td>\n",
       "      <td>NaN</td>\n",
       "      <td>NaN</td>\n",
       "      <td>NaN</td>\n",
       "      <td>NaN</td>\n",
       "      <td>NaN</td>\n",
       "    </tr>\n",
       "    <tr>\n",
       "      <th>title</th>\n",
       "      <td>413529</td>\n",
       "      <td>32260</td>\n",
       "      <td>Debt consolidation</td>\n",
       "      <td>188297</td>\n",
       "      <td>NaN</td>\n",
       "      <td>NaN</td>\n",
       "      <td>NaN</td>\n",
       "      <td>NaN</td>\n",
       "      <td>NaN</td>\n",
       "      <td>NaN</td>\n",
       "      <td>NaN</td>\n",
       "    </tr>\n",
       "    <tr>\n",
       "      <th>zip_code</th>\n",
       "      <td>413534</td>\n",
       "      <td>881</td>\n",
       "      <td>945xx</td>\n",
       "      <td>4680</td>\n",
       "      <td>NaN</td>\n",
       "      <td>NaN</td>\n",
       "      <td>NaN</td>\n",
       "      <td>NaN</td>\n",
       "      <td>NaN</td>\n",
       "      <td>NaN</td>\n",
       "      <td>NaN</td>\n",
       "    </tr>\n",
       "    <tr>\n",
       "      <th>addr_state</th>\n",
       "      <td>413534</td>\n",
       "      <td>50</td>\n",
       "      <td>CA</td>\n",
       "      <td>62413</td>\n",
       "      <td>NaN</td>\n",
       "      <td>NaN</td>\n",
       "      <td>NaN</td>\n",
       "      <td>NaN</td>\n",
       "      <td>NaN</td>\n",
       "      <td>NaN</td>\n",
       "      <td>NaN</td>\n",
       "    </tr>\n",
       "    <tr>\n",
       "      <th>dti</th>\n",
       "      <td>413534</td>\n",
       "      <td>NaN</td>\n",
       "      <td>NaN</td>\n",
       "      <td>NaN</td>\n",
       "      <td>17.8196</td>\n",
       "      <td>8.01709</td>\n",
       "      <td>0</td>\n",
       "      <td>11.79</td>\n",
       "      <td>17.37</td>\n",
       "      <td>23.53</td>\n",
       "      <td>39.99</td>\n",
       "    </tr>\n",
       "    <tr>\n",
       "      <th>delinq_2yrs</th>\n",
       "      <td>413534</td>\n",
       "      <td>NaN</td>\n",
       "      <td>NaN</td>\n",
       "      <td>NaN</td>\n",
       "      <td>0.313882</td>\n",
       "      <td>0.851423</td>\n",
       "      <td>0</td>\n",
       "      <td>0</td>\n",
       "      <td>0</td>\n",
       "      <td>0</td>\n",
       "      <td>29</td>\n",
       "    </tr>\n",
       "    <tr>\n",
       "      <th>earliest_cr_line</th>\n",
       "      <td>413534</td>\n",
       "      <td>664</td>\n",
       "      <td>Aug-01</td>\n",
       "      <td>3277</td>\n",
       "      <td>NaN</td>\n",
       "      <td>NaN</td>\n",
       "      <td>NaN</td>\n",
       "      <td>NaN</td>\n",
       "      <td>NaN</td>\n",
       "      <td>NaN</td>\n",
       "      <td>NaN</td>\n",
       "    </tr>\n",
       "    <tr>\n",
       "      <th>fico_range_low</th>\n",
       "      <td>413534</td>\n",
       "      <td>NaN</td>\n",
       "      <td>NaN</td>\n",
       "      <td>NaN</td>\n",
       "      <td>693.138</td>\n",
       "      <td>29.2605</td>\n",
       "      <td>660</td>\n",
       "      <td>670</td>\n",
       "      <td>685</td>\n",
       "      <td>705</td>\n",
       "      <td>845</td>\n",
       "    </tr>\n",
       "    <tr>\n",
       "      <th>fico_range_high</th>\n",
       "      <td>413534</td>\n",
       "      <td>NaN</td>\n",
       "      <td>NaN</td>\n",
       "      <td>NaN</td>\n",
       "      <td>697.138</td>\n",
       "      <td>29.2609</td>\n",
       "      <td>664</td>\n",
       "      <td>674</td>\n",
       "      <td>689</td>\n",
       "      <td>709</td>\n",
       "      <td>850</td>\n",
       "    </tr>\n",
       "    <tr>\n",
       "      <th>inq_last_6mths</th>\n",
       "      <td>413534</td>\n",
       "      <td>NaN</td>\n",
       "      <td>NaN</td>\n",
       "      <td>NaN</td>\n",
       "      <td>0.748838</td>\n",
       "      <td>1.01936</td>\n",
       "      <td>0</td>\n",
       "      <td>0</td>\n",
       "      <td>0</td>\n",
       "      <td>1</td>\n",
       "      <td>6</td>\n",
       "    </tr>\n",
       "    <tr>\n",
       "      <th>...</th>\n",
       "      <td>...</td>\n",
       "      <td>...</td>\n",
       "      <td>...</td>\n",
       "      <td>...</td>\n",
       "      <td>...</td>\n",
       "      <td>...</td>\n",
       "      <td>...</td>\n",
       "      <td>...</td>\n",
       "      <td>...</td>\n",
       "      <td>...</td>\n",
       "      <td>...</td>\n",
       "    </tr>\n",
       "    <tr>\n",
       "      <th>revol_bal_joint</th>\n",
       "      <td>0</td>\n",
       "      <td>NaN</td>\n",
       "      <td>NaN</td>\n",
       "      <td>NaN</td>\n",
       "      <td>NaN</td>\n",
       "      <td>NaN</td>\n",
       "      <td>NaN</td>\n",
       "      <td>NaN</td>\n",
       "      <td>NaN</td>\n",
       "      <td>NaN</td>\n",
       "      <td>NaN</td>\n",
       "    </tr>\n",
       "    <tr>\n",
       "      <th>sec_app_fico_range_low</th>\n",
       "      <td>0</td>\n",
       "      <td>NaN</td>\n",
       "      <td>NaN</td>\n",
       "      <td>NaN</td>\n",
       "      <td>NaN</td>\n",
       "      <td>NaN</td>\n",
       "      <td>NaN</td>\n",
       "      <td>NaN</td>\n",
       "      <td>NaN</td>\n",
       "      <td>NaN</td>\n",
       "      <td>NaN</td>\n",
       "    </tr>\n",
       "    <tr>\n",
       "      <th>sec_app_fico_range_high</th>\n",
       "      <td>0</td>\n",
       "      <td>NaN</td>\n",
       "      <td>NaN</td>\n",
       "      <td>NaN</td>\n",
       "      <td>NaN</td>\n",
       "      <td>NaN</td>\n",
       "      <td>NaN</td>\n",
       "      <td>NaN</td>\n",
       "      <td>NaN</td>\n",
       "      <td>NaN</td>\n",
       "      <td>NaN</td>\n",
       "    </tr>\n",
       "    <tr>\n",
       "      <th>sec_app_earliest_cr_line</th>\n",
       "      <td>0</td>\n",
       "      <td>NaN</td>\n",
       "      <td>NaN</td>\n",
       "      <td>NaN</td>\n",
       "      <td>NaN</td>\n",
       "      <td>NaN</td>\n",
       "      <td>NaN</td>\n",
       "      <td>NaN</td>\n",
       "      <td>NaN</td>\n",
       "      <td>NaN</td>\n",
       "      <td>NaN</td>\n",
       "    </tr>\n",
       "    <tr>\n",
       "      <th>sec_app_inq_last_6mths</th>\n",
       "      <td>0</td>\n",
       "      <td>NaN</td>\n",
       "      <td>NaN</td>\n",
       "      <td>NaN</td>\n",
       "      <td>NaN</td>\n",
       "      <td>NaN</td>\n",
       "      <td>NaN</td>\n",
       "      <td>NaN</td>\n",
       "      <td>NaN</td>\n",
       "      <td>NaN</td>\n",
       "      <td>NaN</td>\n",
       "    </tr>\n",
       "    <tr>\n",
       "      <th>sec_app_mort_acc</th>\n",
       "      <td>0</td>\n",
       "      <td>NaN</td>\n",
       "      <td>NaN</td>\n",
       "      <td>NaN</td>\n",
       "      <td>NaN</td>\n",
       "      <td>NaN</td>\n",
       "      <td>NaN</td>\n",
       "      <td>NaN</td>\n",
       "      <td>NaN</td>\n",
       "      <td>NaN</td>\n",
       "      <td>NaN</td>\n",
       "    </tr>\n",
       "    <tr>\n",
       "      <th>sec_app_open_acc</th>\n",
       "      <td>0</td>\n",
       "      <td>NaN</td>\n",
       "      <td>NaN</td>\n",
       "      <td>NaN</td>\n",
       "      <td>NaN</td>\n",
       "      <td>NaN</td>\n",
       "      <td>NaN</td>\n",
       "      <td>NaN</td>\n",
       "      <td>NaN</td>\n",
       "      <td>NaN</td>\n",
       "      <td>NaN</td>\n",
       "    </tr>\n",
       "    <tr>\n",
       "      <th>sec_app_revol_util</th>\n",
       "      <td>0</td>\n",
       "      <td>NaN</td>\n",
       "      <td>NaN</td>\n",
       "      <td>NaN</td>\n",
       "      <td>NaN</td>\n",
       "      <td>NaN</td>\n",
       "      <td>NaN</td>\n",
       "      <td>NaN</td>\n",
       "      <td>NaN</td>\n",
       "      <td>NaN</td>\n",
       "      <td>NaN</td>\n",
       "    </tr>\n",
       "    <tr>\n",
       "      <th>sec_app_open_act_il</th>\n",
       "      <td>0</td>\n",
       "      <td>NaN</td>\n",
       "      <td>NaN</td>\n",
       "      <td>NaN</td>\n",
       "      <td>NaN</td>\n",
       "      <td>NaN</td>\n",
       "      <td>NaN</td>\n",
       "      <td>NaN</td>\n",
       "      <td>NaN</td>\n",
       "      <td>NaN</td>\n",
       "      <td>NaN</td>\n",
       "    </tr>\n",
       "    <tr>\n",
       "      <th>sec_app_num_rev_accts</th>\n",
       "      <td>0</td>\n",
       "      <td>NaN</td>\n",
       "      <td>NaN</td>\n",
       "      <td>NaN</td>\n",
       "      <td>NaN</td>\n",
       "      <td>NaN</td>\n",
       "      <td>NaN</td>\n",
       "      <td>NaN</td>\n",
       "      <td>NaN</td>\n",
       "      <td>NaN</td>\n",
       "      <td>NaN</td>\n",
       "    </tr>\n",
       "    <tr>\n",
       "      <th>sec_app_chargeoff_within_12_mths</th>\n",
       "      <td>0</td>\n",
       "      <td>NaN</td>\n",
       "      <td>NaN</td>\n",
       "      <td>NaN</td>\n",
       "      <td>NaN</td>\n",
       "      <td>NaN</td>\n",
       "      <td>NaN</td>\n",
       "      <td>NaN</td>\n",
       "      <td>NaN</td>\n",
       "      <td>NaN</td>\n",
       "      <td>NaN</td>\n",
       "    </tr>\n",
       "    <tr>\n",
       "      <th>sec_app_collections_12_mths_ex_med</th>\n",
       "      <td>0</td>\n",
       "      <td>NaN</td>\n",
       "      <td>NaN</td>\n",
       "      <td>NaN</td>\n",
       "      <td>NaN</td>\n",
       "      <td>NaN</td>\n",
       "      <td>NaN</td>\n",
       "      <td>NaN</td>\n",
       "      <td>NaN</td>\n",
       "      <td>NaN</td>\n",
       "      <td>NaN</td>\n",
       "    </tr>\n",
       "    <tr>\n",
       "      <th>sec_app_mths_since_last_major_derog</th>\n",
       "      <td>0</td>\n",
       "      <td>NaN</td>\n",
       "      <td>NaN</td>\n",
       "      <td>NaN</td>\n",
       "      <td>NaN</td>\n",
       "      <td>NaN</td>\n",
       "      <td>NaN</td>\n",
       "      <td>NaN</td>\n",
       "      <td>NaN</td>\n",
       "      <td>NaN</td>\n",
       "      <td>NaN</td>\n",
       "    </tr>\n",
       "    <tr>\n",
       "      <th>hardship_flag</th>\n",
       "      <td>413534</td>\n",
       "      <td>1</td>\n",
       "      <td>N</td>\n",
       "      <td>413534</td>\n",
       "      <td>NaN</td>\n",
       "      <td>NaN</td>\n",
       "      <td>NaN</td>\n",
       "      <td>NaN</td>\n",
       "      <td>NaN</td>\n",
       "      <td>NaN</td>\n",
       "      <td>NaN</td>\n",
       "    </tr>\n",
       "    <tr>\n",
       "      <th>deferral_term</th>\n",
       "      <td>257</td>\n",
       "      <td>NaN</td>\n",
       "      <td>NaN</td>\n",
       "      <td>NaN</td>\n",
       "      <td>3</td>\n",
       "      <td>0</td>\n",
       "      <td>3</td>\n",
       "      <td>3</td>\n",
       "      <td>3</td>\n",
       "      <td>3</td>\n",
       "      <td>3</td>\n",
       "    </tr>\n",
       "    <tr>\n",
       "      <th>hardship_amount</th>\n",
       "      <td>257</td>\n",
       "      <td>NaN</td>\n",
       "      <td>NaN</td>\n",
       "      <td>NaN</td>\n",
       "      <td>99.8878</td>\n",
       "      <td>83.8056</td>\n",
       "      <td>1.47</td>\n",
       "      <td>23.76</td>\n",
       "      <td>80.07</td>\n",
       "      <td>160.11</td>\n",
       "      <td>357.45</td>\n",
       "    </tr>\n",
       "    <tr>\n",
       "      <th>hardship_length</th>\n",
       "      <td>257</td>\n",
       "      <td>NaN</td>\n",
       "      <td>NaN</td>\n",
       "      <td>NaN</td>\n",
       "      <td>3</td>\n",
       "      <td>0</td>\n",
       "      <td>3</td>\n",
       "      <td>3</td>\n",
       "      <td>3</td>\n",
       "      <td>3</td>\n",
       "      <td>3</td>\n",
       "    </tr>\n",
       "    <tr>\n",
       "      <th>hardship_dpd</th>\n",
       "      <td>257</td>\n",
       "      <td>NaN</td>\n",
       "      <td>NaN</td>\n",
       "      <td>NaN</td>\n",
       "      <td>14.8716</td>\n",
       "      <td>9.27252</td>\n",
       "      <td>0</td>\n",
       "      <td>9</td>\n",
       "      <td>16</td>\n",
       "      <td>22</td>\n",
       "      <td>32</td>\n",
       "    </tr>\n",
       "    <tr>\n",
       "      <th>orig_projected_additional_accrued_interest</th>\n",
       "      <td>142</td>\n",
       "      <td>NaN</td>\n",
       "      <td>NaN</td>\n",
       "      <td>NaN</td>\n",
       "      <td>250.165</td>\n",
       "      <td>242.43</td>\n",
       "      <td>4.41</td>\n",
       "      <td>52.665</td>\n",
       "      <td>147.33</td>\n",
       "      <td>411.893</td>\n",
       "      <td>1011.78</td>\n",
       "    </tr>\n",
       "    <tr>\n",
       "      <th>hardship_payoff_balance_amount</th>\n",
       "      <td>257</td>\n",
       "      <td>NaN</td>\n",
       "      <td>NaN</td>\n",
       "      <td>NaN</td>\n",
       "      <td>7398.92</td>\n",
       "      <td>5469.69</td>\n",
       "      <td>174.15</td>\n",
       "      <td>2520.9</td>\n",
       "      <td>6413.49</td>\n",
       "      <td>11117.1</td>\n",
       "      <td>24254.1</td>\n",
       "    </tr>\n",
       "    <tr>\n",
       "      <th>hardship_last_payment_amount</th>\n",
       "      <td>257</td>\n",
       "      <td>NaN</td>\n",
       "      <td>NaN</td>\n",
       "      <td>NaN</td>\n",
       "      <td>179.817</td>\n",
       "      <td>176.256</td>\n",
       "      <td>0.04</td>\n",
       "      <td>33.25</td>\n",
       "      <td>135.11</td>\n",
       "      <td>272.77</td>\n",
       "      <td>999.95</td>\n",
       "    </tr>\n",
       "    <tr>\n",
       "      <th>disbursement_method</th>\n",
       "      <td>413534</td>\n",
       "      <td>1</td>\n",
       "      <td>Cash</td>\n",
       "      <td>413534</td>\n",
       "      <td>NaN</td>\n",
       "      <td>NaN</td>\n",
       "      <td>NaN</td>\n",
       "      <td>NaN</td>\n",
       "      <td>NaN</td>\n",
       "      <td>NaN</td>\n",
       "      <td>NaN</td>\n",
       "    </tr>\n",
       "    <tr>\n",
       "      <th>debt_settlement_flag</th>\n",
       "      <td>413534</td>\n",
       "      <td>2</td>\n",
       "      <td>N</td>\n",
       "      <td>407118</td>\n",
       "      <td>NaN</td>\n",
       "      <td>NaN</td>\n",
       "      <td>NaN</td>\n",
       "      <td>NaN</td>\n",
       "      <td>NaN</td>\n",
       "      <td>NaN</td>\n",
       "      <td>NaN</td>\n",
       "    </tr>\n",
       "    <tr>\n",
       "      <th>debt_settlement_flag_date</th>\n",
       "      <td>6416</td>\n",
       "      <td>51</td>\n",
       "      <td>Jan-18</td>\n",
       "      <td>539</td>\n",
       "      <td>NaN</td>\n",
       "      <td>NaN</td>\n",
       "      <td>NaN</td>\n",
       "      <td>NaN</td>\n",
       "      <td>NaN</td>\n",
       "      <td>NaN</td>\n",
       "      <td>NaN</td>\n",
       "    </tr>\n",
       "    <tr>\n",
       "      <th>settlement_status</th>\n",
       "      <td>6416</td>\n",
       "      <td>3</td>\n",
       "      <td>COMPLETE</td>\n",
       "      <td>3196</td>\n",
       "      <td>NaN</td>\n",
       "      <td>NaN</td>\n",
       "      <td>NaN</td>\n",
       "      <td>NaN</td>\n",
       "      <td>NaN</td>\n",
       "      <td>NaN</td>\n",
       "      <td>NaN</td>\n",
       "    </tr>\n",
       "    <tr>\n",
       "      <th>settlement_date</th>\n",
       "      <td>6416</td>\n",
       "      <td>57</td>\n",
       "      <td>Apr-17</td>\n",
       "      <td>433</td>\n",
       "      <td>NaN</td>\n",
       "      <td>NaN</td>\n",
       "      <td>NaN</td>\n",
       "      <td>NaN</td>\n",
       "      <td>NaN</td>\n",
       "      <td>NaN</td>\n",
       "      <td>NaN</td>\n",
       "    </tr>\n",
       "    <tr>\n",
       "      <th>settlement_amount</th>\n",
       "      <td>6416</td>\n",
       "      <td>NaN</td>\n",
       "      <td>NaN</td>\n",
       "      <td>NaN</td>\n",
       "      <td>4680.92</td>\n",
       "      <td>3424.6</td>\n",
       "      <td>44.21</td>\n",
       "      <td>2100</td>\n",
       "      <td>3950</td>\n",
       "      <td>6394.52</td>\n",
       "      <td>33601</td>\n",
       "    </tr>\n",
       "    <tr>\n",
       "      <th>settlement_percentage</th>\n",
       "      <td>6416</td>\n",
       "      <td>NaN</td>\n",
       "      <td>NaN</td>\n",
       "      <td>NaN</td>\n",
       "      <td>46.8993</td>\n",
       "      <td>9.5621</td>\n",
       "      <td>0.55</td>\n",
       "      <td>45</td>\n",
       "      <td>45</td>\n",
       "      <td>50</td>\n",
       "      <td>521.35</td>\n",
       "    </tr>\n",
       "    <tr>\n",
       "      <th>settlement_term</th>\n",
       "      <td>6416</td>\n",
       "      <td>NaN</td>\n",
       "      <td>NaN</td>\n",
       "      <td>NaN</td>\n",
       "      <td>8.27291</td>\n",
       "      <td>8.56429</td>\n",
       "      <td>0</td>\n",
       "      <td>0</td>\n",
       "      <td>6</td>\n",
       "      <td>15</td>\n",
       "      <td>36</td>\n",
       "    </tr>\n",
       "    <tr>\n",
       "      <th>good_loan</th>\n",
       "      <td>413534</td>\n",
       "      <td>NaN</td>\n",
       "      <td>NaN</td>\n",
       "      <td>NaN</td>\n",
       "      <td>0.179702</td>\n",
       "      <td>0.38394</td>\n",
       "      <td>0</td>\n",
       "      <td>0</td>\n",
       "      <td>0</td>\n",
       "      <td>0</td>\n",
       "      <td>1</td>\n",
       "    </tr>\n",
       "  </tbody>\n",
       "</table>\n",
       "<p>144 rows × 11 columns</p>\n",
       "</div>"
      ],
      "text/plain": [
       "                                             count  unique  \\\n",
       "id                                          413534     NaN   \n",
       "member_id                                        0     NaN   \n",
       "loan_amnt                                   413534     NaN   \n",
       "funded_amnt                                 413534     NaN   \n",
       "funded_amnt_inv                             413534     NaN   \n",
       "term                                        413534       2   \n",
       "int_rate                                    413534     160   \n",
       "installment                                 413534     NaN   \n",
       "grade                                       413534       7   \n",
       "sub_grade                                   413534      35   \n",
       "emp_title                                   388881  159634   \n",
       "emp_length                                  392515      11   \n",
       "home_ownership                              413534       4   \n",
       "annual_inc                                  413534     NaN   \n",
       "verification_status                         413534       3   \n",
       "issue_d                                     413534      27   \n",
       "loan_status                                 413534       3   \n",
       "pymnt_plan                                  413534       1   \n",
       "url                                         413534  413534   \n",
       "desc                                         61216   60166   \n",
       "purpose                                     413534      13   \n",
       "title                                       413529   32260   \n",
       "zip_code                                    413534     881   \n",
       "addr_state                                  413534      50   \n",
       "dti                                         413534     NaN   \n",
       "delinq_2yrs                                 413534     NaN   \n",
       "earliest_cr_line                            413534     664   \n",
       "fico_range_low                              413534     NaN   \n",
       "fico_range_high                             413534     NaN   \n",
       "inq_last_6mths                              413534     NaN   \n",
       "...                                            ...     ...   \n",
       "revol_bal_joint                                  0     NaN   \n",
       "sec_app_fico_range_low                           0     NaN   \n",
       "sec_app_fico_range_high                          0     NaN   \n",
       "sec_app_earliest_cr_line                         0     NaN   \n",
       "sec_app_inq_last_6mths                           0     NaN   \n",
       "sec_app_mort_acc                                 0     NaN   \n",
       "sec_app_open_acc                                 0     NaN   \n",
       "sec_app_revol_util                               0     NaN   \n",
       "sec_app_open_act_il                              0     NaN   \n",
       "sec_app_num_rev_accts                            0     NaN   \n",
       "sec_app_chargeoff_within_12_mths                 0     NaN   \n",
       "sec_app_collections_12_mths_ex_med               0     NaN   \n",
       "sec_app_mths_since_last_major_derog              0     NaN   \n",
       "hardship_flag                               413534       1   \n",
       "deferral_term                                  257     NaN   \n",
       "hardship_amount                                257     NaN   \n",
       "hardship_length                                257     NaN   \n",
       "hardship_dpd                                   257     NaN   \n",
       "orig_projected_additional_accrued_interest     142     NaN   \n",
       "hardship_payoff_balance_amount                 257     NaN   \n",
       "hardship_last_payment_amount                   257     NaN   \n",
       "disbursement_method                         413534       1   \n",
       "debt_settlement_flag                        413534       2   \n",
       "debt_settlement_flag_date                     6416      51   \n",
       "settlement_status                             6416       3   \n",
       "settlement_date                               6416      57   \n",
       "settlement_amount                             6416     NaN   \n",
       "settlement_percentage                         6416     NaN   \n",
       "settlement_term                               6416     NaN   \n",
       "good_loan                                   413534     NaN   \n",
       "\n",
       "                                                                                          top  \\\n",
       "id                                                                                        NaN   \n",
       "member_id                                                                                 NaN   \n",
       "loan_amnt                                                                                 NaN   \n",
       "funded_amnt                                                                               NaN   \n",
       "funded_amnt_inv                                                                           NaN   \n",
       "term                                                                                36 months   \n",
       "int_rate                                                                               12.99%   \n",
       "installment                                                                               NaN   \n",
       "grade                                                                                       B   \n",
       "sub_grade                                                                                  B4   \n",
       "emp_title                                                                             Teacher   \n",
       "emp_length                                                                          10+ years   \n",
       "home_ownership                                                                       MORTGAGE   \n",
       "annual_inc                                                                                NaN   \n",
       "verification_status                                                           Source Verified   \n",
       "issue_d                                                                                Oct-14   \n",
       "loan_status                                                                        Fully Paid   \n",
       "pymnt_plan                                                                                  n   \n",
       "url                                         https://lendingclub.com/browse/loanDetail.acti...   \n",
       "desc                                          Borrower added on 03/17/14 > Debt consolidat...   \n",
       "purpose                                                                    debt_consolidation   \n",
       "title                                                                      Debt consolidation   \n",
       "zip_code                                                                                945xx   \n",
       "addr_state                                                                                 CA   \n",
       "dti                                                                                       NaN   \n",
       "delinq_2yrs                                                                               NaN   \n",
       "earliest_cr_line                                                                       Aug-01   \n",
       "fico_range_low                                                                            NaN   \n",
       "fico_range_high                                                                           NaN   \n",
       "inq_last_6mths                                                                            NaN   \n",
       "...                                                                                       ...   \n",
       "revol_bal_joint                                                                           NaN   \n",
       "sec_app_fico_range_low                                                                    NaN   \n",
       "sec_app_fico_range_high                                                                   NaN   \n",
       "sec_app_earliest_cr_line                                                                  NaN   \n",
       "sec_app_inq_last_6mths                                                                    NaN   \n",
       "sec_app_mort_acc                                                                          NaN   \n",
       "sec_app_open_acc                                                                          NaN   \n",
       "sec_app_revol_util                                                                        NaN   \n",
       "sec_app_open_act_il                                                                       NaN   \n",
       "sec_app_num_rev_accts                                                                     NaN   \n",
       "sec_app_chargeoff_within_12_mths                                                          NaN   \n",
       "sec_app_collections_12_mths_ex_med                                                        NaN   \n",
       "sec_app_mths_since_last_major_derog                                                       NaN   \n",
       "hardship_flag                                                                               N   \n",
       "deferral_term                                                                             NaN   \n",
       "hardship_amount                                                                           NaN   \n",
       "hardship_length                                                                           NaN   \n",
       "hardship_dpd                                                                              NaN   \n",
       "orig_projected_additional_accrued_interest                                                NaN   \n",
       "hardship_payoff_balance_amount                                                            NaN   \n",
       "hardship_last_payment_amount                                                              NaN   \n",
       "disbursement_method                                                                      Cash   \n",
       "debt_settlement_flag                                                                        N   \n",
       "debt_settlement_flag_date                                                              Jan-18   \n",
       "settlement_status                                                                    COMPLETE   \n",
       "settlement_date                                                                        Apr-17   \n",
       "settlement_amount                                                                         NaN   \n",
       "settlement_percentage                                                                     NaN   \n",
       "settlement_term                                                                           NaN   \n",
       "good_loan                                                                                 NaN   \n",
       "\n",
       "                                              freq         mean          std  \\\n",
       "id                                             NaN  2.01205e+07  1.31241e+07   \n",
       "member_id                                      NaN          NaN          NaN   \n",
       "loan_amnt                                      NaN      14403.2      8266.14   \n",
       "funded_amnt                                    NaN      14403.2      8266.14   \n",
       "funded_amnt_inv                                NaN      14397.8      8263.23   \n",
       "term                                        318766          NaN          NaN   \n",
       "int_rate                                     16547          NaN          NaN   \n",
       "installment                                    NaN       442.01      247.577   \n",
       "grade                                       121329          NaN          NaN   \n",
       "sub_grade                                    27056          NaN          NaN   \n",
       "emp_title                                     6147          NaN          NaN   \n",
       "emp_length                                  136937          NaN          NaN   \n",
       "home_ownership                              208980          NaN          NaN   \n",
       "annual_inc                                     NaN      73926.6      54982.8   \n",
       "verification_status                         144197          NaN          NaN   \n",
       "issue_d                                      34385          NaN          NaN   \n",
       "loan_status                                 339221          NaN          NaN   \n",
       "pymnt_plan                                  413534          NaN          NaN   \n",
       "url                                              1          NaN          NaN   \n",
       "desc                                            11          NaN          NaN   \n",
       "purpose                                     249729          NaN          NaN   \n",
       "title                                       188297          NaN          NaN   \n",
       "zip_code                                      4680          NaN          NaN   \n",
       "addr_state                                   62413          NaN          NaN   \n",
       "dti                                            NaN      17.8196      8.01709   \n",
       "delinq_2yrs                                    NaN     0.313882     0.851423   \n",
       "earliest_cr_line                              3277          NaN          NaN   \n",
       "fico_range_low                                 NaN      693.138      29.2605   \n",
       "fico_range_high                                NaN      697.138      29.2609   \n",
       "inq_last_6mths                                 NaN     0.748838      1.01936   \n",
       "...                                            ...          ...          ...   \n",
       "revol_bal_joint                                NaN          NaN          NaN   \n",
       "sec_app_fico_range_low                         NaN          NaN          NaN   \n",
       "sec_app_fico_range_high                        NaN          NaN          NaN   \n",
       "sec_app_earliest_cr_line                       NaN          NaN          NaN   \n",
       "sec_app_inq_last_6mths                         NaN          NaN          NaN   \n",
       "sec_app_mort_acc                               NaN          NaN          NaN   \n",
       "sec_app_open_acc                               NaN          NaN          NaN   \n",
       "sec_app_revol_util                             NaN          NaN          NaN   \n",
       "sec_app_open_act_il                            NaN          NaN          NaN   \n",
       "sec_app_num_rev_accts                          NaN          NaN          NaN   \n",
       "sec_app_chargeoff_within_12_mths               NaN          NaN          NaN   \n",
       "sec_app_collections_12_mths_ex_med             NaN          NaN          NaN   \n",
       "sec_app_mths_since_last_major_derog            NaN          NaN          NaN   \n",
       "hardship_flag                               413534          NaN          NaN   \n",
       "deferral_term                                  NaN            3            0   \n",
       "hardship_amount                                NaN      99.8878      83.8056   \n",
       "hardship_length                                NaN            3            0   \n",
       "hardship_dpd                                   NaN      14.8716      9.27252   \n",
       "orig_projected_additional_accrued_interest     NaN      250.165       242.43   \n",
       "hardship_payoff_balance_amount                 NaN      7398.92      5469.69   \n",
       "hardship_last_payment_amount                   NaN      179.817      176.256   \n",
       "disbursement_method                         413534          NaN          NaN   \n",
       "debt_settlement_flag                        407118          NaN          NaN   \n",
       "debt_settlement_flag_date                      539          NaN          NaN   \n",
       "settlement_status                             3196          NaN          NaN   \n",
       "settlement_date                                433          NaN          NaN   \n",
       "settlement_amount                              NaN      4680.92       3424.6   \n",
       "settlement_percentage                          NaN      46.8993       9.5621   \n",
       "settlement_term                                NaN      8.27291      8.56429   \n",
       "good_loan                                      NaN     0.179702      0.38394   \n",
       "\n",
       "                                               min          25%          50%  \\\n",
       "id                                           57167  8.29579e+06  1.64422e+07   \n",
       "member_id                                      NaN          NaN          NaN   \n",
       "loan_amnt                                     1000         8000        12050   \n",
       "funded_amnt                                   1000         8000        12050   \n",
       "funded_amnt_inv                                950         8000        12050   \n",
       "term                                           NaN          NaN          NaN   \n",
       "int_rate                                       NaN          NaN          NaN   \n",
       "installment                                   4.93       263.55       385.35   \n",
       "grade                                          NaN          NaN          NaN   \n",
       "sub_grade                                      NaN          NaN          NaN   \n",
       "emp_title                                      NaN          NaN          NaN   \n",
       "emp_length                                     NaN          NaN          NaN   \n",
       "home_ownership                                 NaN          NaN          NaN   \n",
       "annual_inc                                    3000        45000        63665   \n",
       "verification_status                            NaN          NaN          NaN   \n",
       "issue_d                                        NaN          NaN          NaN   \n",
       "loan_status                                    NaN          NaN          NaN   \n",
       "pymnt_plan                                     NaN          NaN          NaN   \n",
       "url                                            NaN          NaN          NaN   \n",
       "desc                                           NaN          NaN          NaN   \n",
       "purpose                                        NaN          NaN          NaN   \n",
       "title                                          NaN          NaN          NaN   \n",
       "zip_code                                       NaN          NaN          NaN   \n",
       "addr_state                                     NaN          NaN          NaN   \n",
       "dti                                              0        11.79        17.37   \n",
       "delinq_2yrs                                      0            0            0   \n",
       "earliest_cr_line                               NaN          NaN          NaN   \n",
       "fico_range_low                                 660          670          685   \n",
       "fico_range_high                                664          674          689   \n",
       "inq_last_6mths                                   0            0            0   \n",
       "...                                            ...          ...          ...   \n",
       "revol_bal_joint                                NaN          NaN          NaN   \n",
       "sec_app_fico_range_low                         NaN          NaN          NaN   \n",
       "sec_app_fico_range_high                        NaN          NaN          NaN   \n",
       "sec_app_earliest_cr_line                       NaN          NaN          NaN   \n",
       "sec_app_inq_last_6mths                         NaN          NaN          NaN   \n",
       "sec_app_mort_acc                               NaN          NaN          NaN   \n",
       "sec_app_open_acc                               NaN          NaN          NaN   \n",
       "sec_app_revol_util                             NaN          NaN          NaN   \n",
       "sec_app_open_act_il                            NaN          NaN          NaN   \n",
       "sec_app_num_rev_accts                          NaN          NaN          NaN   \n",
       "sec_app_chargeoff_within_12_mths               NaN          NaN          NaN   \n",
       "sec_app_collections_12_mths_ex_med             NaN          NaN          NaN   \n",
       "sec_app_mths_since_last_major_derog            NaN          NaN          NaN   \n",
       "hardship_flag                                  NaN          NaN          NaN   \n",
       "deferral_term                                    3            3            3   \n",
       "hardship_amount                               1.47        23.76        80.07   \n",
       "hardship_length                                  3            3            3   \n",
       "hardship_dpd                                     0            9           16   \n",
       "orig_projected_additional_accrued_interest    4.41       52.665       147.33   \n",
       "hardship_payoff_balance_amount              174.15       2520.9      6413.49   \n",
       "hardship_last_payment_amount                  0.04        33.25       135.11   \n",
       "disbursement_method                            NaN          NaN          NaN   \n",
       "debt_settlement_flag                           NaN          NaN          NaN   \n",
       "debt_settlement_flag_date                      NaN          NaN          NaN   \n",
       "settlement_status                              NaN          NaN          NaN   \n",
       "settlement_date                                NaN          NaN          NaN   \n",
       "settlement_amount                            44.21         2100         3950   \n",
       "settlement_percentage                         0.55           45           45   \n",
       "settlement_term                                  0            0            6   \n",
       "good_loan                                        0            0            0   \n",
       "\n",
       "                                                    75%          max  \n",
       "id                                          3.23698e+07  4.44091e+07  \n",
       "member_id                                           NaN          NaN  \n",
       "loan_amnt                                         20000        35000  \n",
       "funded_amnt                                       20000        35000  \n",
       "funded_amnt_inv                                   20000        35000  \n",
       "term                                                NaN          NaN  \n",
       "int_rate                                            NaN          NaN  \n",
       "installment                                      580.73      1409.99  \n",
       "grade                                               NaN          NaN  \n",
       "sub_grade                                           NaN          NaN  \n",
       "emp_title                                           NaN          NaN  \n",
       "emp_length                                          NaN          NaN  \n",
       "home_ownership                                      NaN          NaN  \n",
       "annual_inc                                        90000  8.70658e+06  \n",
       "verification_status                                 NaN          NaN  \n",
       "issue_d                                             NaN          NaN  \n",
       "loan_status                                         NaN          NaN  \n",
       "pymnt_plan                                          NaN          NaN  \n",
       "url                                                 NaN          NaN  \n",
       "desc                                                NaN          NaN  \n",
       "purpose                                             NaN          NaN  \n",
       "title                                               NaN          NaN  \n",
       "zip_code                                            NaN          NaN  \n",
       "addr_state                                          NaN          NaN  \n",
       "dti                                               23.53        39.99  \n",
       "delinq_2yrs                                           0           29  \n",
       "earliest_cr_line                                    NaN          NaN  \n",
       "fico_range_low                                      705          845  \n",
       "fico_range_high                                     709          850  \n",
       "inq_last_6mths                                        1            6  \n",
       "...                                                 ...          ...  \n",
       "revol_bal_joint                                     NaN          NaN  \n",
       "sec_app_fico_range_low                              NaN          NaN  \n",
       "sec_app_fico_range_high                             NaN          NaN  \n",
       "sec_app_earliest_cr_line                            NaN          NaN  \n",
       "sec_app_inq_last_6mths                              NaN          NaN  \n",
       "sec_app_mort_acc                                    NaN          NaN  \n",
       "sec_app_open_acc                                    NaN          NaN  \n",
       "sec_app_revol_util                                  NaN          NaN  \n",
       "sec_app_open_act_il                                 NaN          NaN  \n",
       "sec_app_num_rev_accts                               NaN          NaN  \n",
       "sec_app_chargeoff_within_12_mths                    NaN          NaN  \n",
       "sec_app_collections_12_mths_ex_med                  NaN          NaN  \n",
       "sec_app_mths_since_last_major_derog                 NaN          NaN  \n",
       "hardship_flag                                       NaN          NaN  \n",
       "deferral_term                                         3            3  \n",
       "hardship_amount                                  160.11       357.45  \n",
       "hardship_length                                       3            3  \n",
       "hardship_dpd                                         22           32  \n",
       "orig_projected_additional_accrued_interest      411.893      1011.78  \n",
       "hardship_payoff_balance_amount                  11117.1      24254.1  \n",
       "hardship_last_payment_amount                     272.77       999.95  \n",
       "disbursement_method                                 NaN          NaN  \n",
       "debt_settlement_flag                                NaN          NaN  \n",
       "debt_settlement_flag_date                           NaN          NaN  \n",
       "settlement_status                                   NaN          NaN  \n",
       "settlement_date                                     NaN          NaN  \n",
       "settlement_amount                               6394.52        33601  \n",
       "settlement_percentage                                50       521.35  \n",
       "settlement_term                                      15           36  \n",
       "good_loan                                             0            1  \n",
       "\n",
       "[144 rows x 11 columns]"
      ]
     },
     "execution_count": 6,
     "metadata": {},
     "output_type": "execute_result"
    }
   ],
   "source": [
    "df.describe(include=\"all\").T"
   ]
  },
  {
   "cell_type": "markdown",
   "metadata": {},
   "source": [
    "Dropping vars from doc:"
   ]
  },
  {
   "cell_type": "code",
   "execution_count": 9,
   "metadata": {},
   "outputs": [],
   "source": [
    "doc_vars=[\"funded_amnt\",\"last_fico_range_high\",\"last_fico_range_low\",\"last_credit_pull_d\", \"total_pymnt\", \"total_rec_prncp\", \n",
    "         \"total_rec_int\", \"last_pymnt_amnt\", \"last_pymnt_d\", \"out_prncp\", \"out_prncp_inv\", \"pymnt_plan\", \"hardship_flag\",\n",
    "          \"hardship_amount\", \"debt_settlement_flag\",\n",
    "          \"debt_settlement_flag_date\", \"settlement_percentage\"]"
   ]
  },
  {
   "cell_type": "code",
   "execution_count": 10,
   "metadata": {},
   "outputs": [],
   "source": [
    "df.drop(doc_vars,axis=1,inplace=True)"
   ]
  },
  {
   "cell_type": "markdown",
   "metadata": {
    "colab_type": "text",
    "id": "F6nYudnfUHUZ"
   },
   "source": [
    "\"emp_title\" has a big amount of unique categorical values. \"Zip_code\" has a big amount of unique values and is unnesessary, because there is addr_state variable.\n",
    "We'll drop those variables."
   ]
  },
  {
   "cell_type": "code",
   "execution_count": 11,
   "metadata": {},
   "outputs": [],
   "source": [
    "drop_vars=[]"
   ]
  },
  {
   "cell_type": "code",
   "execution_count": 12,
   "metadata": {
    "colab": {
     "base_uri": "https://localhost:8080/",
     "height": 35
    },
    "colab_type": "code",
    "id": "AQgJp8TsUHVC",
    "outputId": "fdb6eaef-205e-4b5a-aa53-7b0e81e457b8"
   },
   "outputs": [
    {
     "data": {
      "text/plain": [
       "['emp_title', 'zip_code', 'id', 'url']"
      ]
     },
     "execution_count": 12,
     "metadata": {},
     "output_type": "execute_result"
    }
   ],
   "source": [
    "drop_vars=drop_vars+[\"emp_title\",\"zip_code\",\"id\",\"url\"]\n",
    "drop_vars"
   ]
  },
  {
   "cell_type": "markdown",
   "metadata": {},
   "source": [
    "\"title\" variable repeats \"puprpose\" and contains much noise(useless informatrion). We'll drop it."
   ]
  },
  {
   "cell_type": "code",
   "execution_count": 13,
   "metadata": {},
   "outputs": [
    {
     "data": {
      "text/plain": [
       "debt_consolidation    0.603890\n",
       "credit_card           0.237209\n",
       "home_improvement      0.054153\n",
       "other                 0.044942\n",
       "major_purchase        0.016719\n",
       "small_business        0.009789\n",
       "medical               0.008928\n",
       "car                   0.008009\n",
       "moving                0.005528\n",
       "vacation              0.004998\n",
       "house                 0.003898\n",
       "wedding               0.001432\n",
       "renewable_energy      0.000505\n",
       "Name: purpose, dtype: float64"
      ]
     },
     "execution_count": 13,
     "metadata": {},
     "output_type": "execute_result"
    }
   ],
   "source": [
    "df[\"purpose\"].value_counts(normalize=True)"
   ]
  },
  {
   "cell_type": "code",
   "execution_count": 14,
   "metadata": {},
   "outputs": [
    {
     "data": {
      "text/plain": [
       "Debt consolidation           0.455342\n",
       "Credit card refinancing      0.173753\n",
       "Home improvement             0.040135\n",
       "Other                        0.035274\n",
       "Debt Consolidation           0.021578\n",
       "Major purchase               0.012664\n",
       "Consolidation                0.008464\n",
       "Business                     0.008203\n",
       "Medical expenses             0.007506\n",
       "debt consolidation           0.007013\n",
       "Car financing                0.005961\n",
       "Moving and relocation        0.004321\n",
       "Vacation                     0.004174\n",
       "consolidation                0.003415\n",
       "Credit Card Consolidation    0.003340\n",
       "Home buying                  0.002646\n",
       "Debt Consolidation Loan      0.002532\n",
       "Consolidation Loan           0.002525\n",
       "Home Improvement             0.002285\n",
       "Credit Card Refinance        0.002123\n",
       "Name: title, dtype: float64"
      ]
     },
     "execution_count": 14,
     "metadata": {},
     "output_type": "execute_result"
    }
   ],
   "source": [
    "df[\"title\"].value_counts(normalize=True)[0:20]"
   ]
  },
  {
   "cell_type": "code",
   "execution_count": 15,
   "metadata": {},
   "outputs": [],
   "source": [
    "drop_vars=drop_vars+[\"title\"]"
   ]
  },
  {
   "cell_type": "markdown",
   "metadata": {},
   "source": [
    "Fraction of NA's for each variable:"
   ]
  },
  {
   "cell_type": "code",
   "execution_count": 16,
   "metadata": {},
   "outputs": [
    {
     "data": {
      "text/plain": [
       "member_id                                     1.000000\n",
       "emp_title                                     0.059615\n",
       "emp_length                                    0.050828\n",
       "desc                                          0.851969\n",
       "title                                         0.000012\n",
       "mths_since_last_delinq                        0.512945\n",
       "mths_since_last_record                        0.838171\n",
       "revol_util                                    0.000520\n",
       "mths_since_last_major_derog                   0.738878\n",
       "annual_inc_joint                              1.000000\n",
       "dti_joint                                     1.000000\n",
       "verification_status_joint                     1.000000\n",
       "open_acc_6m                                   1.000000\n",
       "open_act_il                                   1.000000\n",
       "open_il_12m                                   1.000000\n",
       "open_il_24m                                   1.000000\n",
       "mths_since_rcnt_il                            1.000000\n",
       "total_bal_il                                  1.000000\n",
       "il_util                                       1.000000\n",
       "open_rv_12m                                   1.000000\n",
       "open_rv_24m                                   1.000000\n",
       "max_bal_bc                                    1.000000\n",
       "all_util                                      1.000000\n",
       "inq_fi                                        1.000000\n",
       "total_cu_tl                                   1.000000\n",
       "inq_last_12m                                  1.000000\n",
       "avg_cur_bal                                   0.000029\n",
       "bc_open_to_buy                                0.009566\n",
       "bc_util                                       0.010219\n",
       "mo_sin_old_il_acct                            0.033589\n",
       "mths_since_recent_bc                          0.008715\n",
       "mths_since_recent_bc_dlq                      0.748226\n",
       "mths_since_recent_inq                         0.096747\n",
       "mths_since_recent_revol_delinq                0.657815\n",
       "num_tl_120dpd_2m                              0.023529\n",
       "pct_tl_nvr_dlq                                0.000341\n",
       "percent_bc_gt_75                              0.009893\n",
       "revol_bal_joint                               1.000000\n",
       "sec_app_fico_range_low                        1.000000\n",
       "sec_app_fico_range_high                       1.000000\n",
       "sec_app_earliest_cr_line                      1.000000\n",
       "sec_app_inq_last_6mths                        1.000000\n",
       "sec_app_mort_acc                              1.000000\n",
       "sec_app_open_acc                              1.000000\n",
       "sec_app_revol_util                            1.000000\n",
       "sec_app_open_act_il                           1.000000\n",
       "sec_app_num_rev_accts                         1.000000\n",
       "sec_app_chargeoff_within_12_mths              1.000000\n",
       "sec_app_collections_12_mths_ex_med            1.000000\n",
       "sec_app_mths_since_last_major_derog           1.000000\n",
       "deferral_term                                 0.999379\n",
       "hardship_length                               0.999379\n",
       "hardship_dpd                                  0.999379\n",
       "orig_projected_additional_accrued_interest    0.999657\n",
       "hardship_payoff_balance_amount                0.999379\n",
       "hardship_last_payment_amount                  0.999379\n",
       "settlement_status                             0.984485\n",
       "settlement_date                               0.984485\n",
       "settlement_amount                             0.984485\n",
       "settlement_term                               0.984485\n",
       "dtype: float64"
      ]
     },
     "execution_count": 16,
     "metadata": {},
     "output_type": "execute_result"
    }
   ],
   "source": [
    "na_vars=df.columns[df.isna().any()].tolist()\n",
    "na_vars\n",
    "na_frac=df[na_vars].isna().mean()\n",
    "na_frac"
   ]
  },
  {
   "cell_type": "markdown",
   "metadata": {},
   "source": [
    "We'll drop the variables  with NA fraction greater than 0.5"
   ]
  },
  {
   "cell_type": "code",
   "execution_count": 17,
   "metadata": {
    "scrolled": true
   },
   "outputs": [],
   "source": [
    "thr=0.5\n",
    "t=na_frac[na_frac>thr].index.tolist()\n",
    "drop_vars=drop_vars+t\n",
    "drop_vars=list(set(drop_vars))"
   ]
  },
  {
   "cell_type": "code",
   "execution_count": 18,
   "metadata": {},
   "outputs": [],
   "source": [
    "df.drop(labels=drop_vars,axis=1,inplace=True)\n",
    "drop_vars=[]"
   ]
  },
  {
   "cell_type": "markdown",
   "metadata": {},
   "source": [
    "Getting the fractions of remaining variables with NA:"
   ]
  },
  {
   "cell_type": "code",
   "execution_count": 19,
   "metadata": {},
   "outputs": [
    {
     "data": {
      "text/plain": [
       "emp_length               0.050828\n",
       "revol_util               0.000520\n",
       "avg_cur_bal              0.000029\n",
       "bc_open_to_buy           0.009566\n",
       "bc_util                  0.010219\n",
       "mo_sin_old_il_acct       0.033589\n",
       "mths_since_recent_bc     0.008715\n",
       "mths_since_recent_inq    0.096747\n",
       "num_tl_120dpd_2m         0.023529\n",
       "pct_tl_nvr_dlq           0.000341\n",
       "percent_bc_gt_75         0.009893\n",
       "dtype: float64"
      ]
     },
     "execution_count": 19,
     "metadata": {},
     "output_type": "execute_result"
    }
   ],
   "source": [
    "na_vars=df.columns[df.isna().any()].tolist()\n",
    "na_vars\n",
    "na_frac=df[na_vars].isna().mean()\n",
    "na_frac"
   ]
  },
  {
   "cell_type": "markdown",
   "metadata": {},
   "source": [
    "We'll handle the problem of NA's on the modelling stage."
   ]
  },
  {
   "cell_type": "markdown",
   "metadata": {},
   "source": [
    "Getting object variables list:"
   ]
  },
  {
   "cell_type": "code",
   "execution_count": 20,
   "metadata": {},
   "outputs": [
    {
     "data": {
      "text/plain": [
       "['term',\n",
       " 'int_rate',\n",
       " 'grade',\n",
       " 'sub_grade',\n",
       " 'emp_length',\n",
       " 'home_ownership',\n",
       " 'verification_status',\n",
       " 'issue_d',\n",
       " 'loan_status',\n",
       " 'purpose',\n",
       " 'addr_state',\n",
       " 'earliest_cr_line',\n",
       " 'revol_util',\n",
       " 'initial_list_status',\n",
       " 'application_type',\n",
       " 'disbursement_method']"
      ]
     },
     "execution_count": 20,
     "metadata": {},
     "output_type": "execute_result"
    }
   ],
   "source": [
    "obj_vars=df.columns.values[df.dtypes==object]\n",
    "obj_vars.tolist()"
   ]
  },
  {
   "cell_type": "markdown",
   "metadata": {},
   "source": [
    "dropping variables with 1 unique value:"
   ]
  },
  {
   "cell_type": "code",
   "execution_count": 21,
   "metadata": {},
   "outputs": [
    {
     "name": "stdout",
     "output_type": "stream",
     "text": [
      "['policy_code', 'application_type', 'disbursement_method']\n"
     ]
    }
   ],
   "source": [
    "un_val=df.apply(lambda x: len(x[~x.isna()].unique()))\n",
    "t=un_val[un_val==1].index.tolist()\n",
    "print(t)\n",
    "df.drop(t,axis=1,inplace=True)"
   ]
  },
  {
   "cell_type": "markdown",
   "metadata": {
    "colab_type": "text",
    "id": "GeSErMf3UHTN"
   },
   "source": [
    "Unique values of grade and sub_grade variables:"
   ]
  },
  {
   "cell_type": "code",
   "execution_count": 22,
   "metadata": {
    "colab": {
     "base_uri": "https://localhost:8080/",
     "height": 182
    },
    "colab_type": "code",
    "id": "Av4M16k1UHTW",
    "outputId": "73cb8d9a-02a4-41c7-bb87-ad6c54b62c32"
   },
   "outputs": [
    {
     "data": {
      "text/plain": [
       "grade\n",
       "A    [A, A1, A2, A3, A4, A5]\n",
       "B    [B, B1, B2, B3, B4, B5]\n",
       "C    [C, C1, C2, C3, C4, C5]\n",
       "D    [D, D1, D2, D3, D4, D5]\n",
       "E    [E, E1, E2, E3, E4, E5]\n",
       "F    [F, F1, F2, F3, F4, F5]\n",
       "G    [G, G1, G2, G3, G4, G5]\n",
       "dtype: object"
      ]
     },
     "execution_count": 22,
     "metadata": {},
     "output_type": "execute_result"
    }
   ],
   "source": [
    "df[[\"grade\",\"sub_grade\"]].groupby([\"grade\"]).apply(np.unique)"
   ]
  },
  {
   "cell_type": "markdown",
   "metadata": {
    "colab_type": "text",
    "id": "jtUTiJa3UHTt"
   },
   "source": [
    "We can see, any value of grade has unique values only from its own sub-group. So, we can drop \"grade\" variable. \"sub_grade\"  will be turned into an integer, because all its values are comparable."
   ]
  },
  {
   "cell_type": "code",
   "execution_count": 23,
   "metadata": {
    "colab": {},
    "colab_type": "code",
    "id": "IX6Z6YTTUHT3"
   },
   "outputs": [],
   "source": [
    "df.drop([\"grade\"],axis=1,inplace=True)"
   ]
  },
  {
   "cell_type": "code",
   "execution_count": 24,
   "metadata": {
    "colab": {
     "base_uri": "https://localhost:8080/",
     "height": 1156
    },
    "colab_type": "code",
    "id": "mjlRRY_yeOmW",
    "outputId": "bca3cbb7-d49c-47f3-f7a2-42a46d8aebf7"
   },
   "outputs": [
    {
     "data": {
      "text/plain": [
       "0          8\n",
       "1          6\n",
       "2         19\n",
       "3          8\n",
       "4         15\n",
       "5         13\n",
       "6         14\n",
       "7          8\n",
       "8         13\n",
       "9          8\n",
       "10        11\n",
       "11        15\n",
       "12         4\n",
       "13        14\n",
       "14         7\n",
       "15        22\n",
       "16         9\n",
       "17        10\n",
       "18         6\n",
       "19        24\n",
       "20        18\n",
       "21         6\n",
       "22         6\n",
       "23        13\n",
       "24         6\n",
       "25        14\n",
       "26         8\n",
       "27        15\n",
       "28        28\n",
       "29        17\n",
       "          ..\n",
       "413504    23\n",
       "413505    15\n",
       "413506    11\n",
       "413507     7\n",
       "413508     5\n",
       "413509     4\n",
       "413510    11\n",
       "413511    15\n",
       "413512     5\n",
       "413513    12\n",
       "413514     5\n",
       "413515    11\n",
       "413516    17\n",
       "413517    11\n",
       "413518     4\n",
       "413519    12\n",
       "413520    15\n",
       "413521     5\n",
       "413522    13\n",
       "413523    11\n",
       "413524    14\n",
       "413525     6\n",
       "413526    11\n",
       "413527    11\n",
       "413528     3\n",
       "413529     1\n",
       "413530     4\n",
       "413531    25\n",
       "413532     6\n",
       "413533    12\n",
       "Name: sub_grade, Length: 413534, dtype: int32"
      ]
     },
     "execution_count": 24,
     "metadata": {},
     "output_type": "execute_result"
    }
   ],
   "source": [
    "a=np.sort(df[\"sub_grade\"].unique()).tolist()\n",
    "le=preprocessing.LabelEncoder()\n",
    "le.fit(a)\n",
    "le.transform(a)\n",
    "df[\"sub_grade\"]=le.transform(df[\"sub_grade\"])\n",
    "df[\"sub_grade\"]"
   ]
  },
  {
   "cell_type": "markdown",
   "metadata": {},
   "source": [
    "updating object vars:"
   ]
  },
  {
   "cell_type": "code",
   "execution_count": 25,
   "metadata": {},
   "outputs": [
    {
     "data": {
      "text/plain": [
       "['term',\n",
       " 'int_rate',\n",
       " 'emp_length',\n",
       " 'home_ownership',\n",
       " 'verification_status',\n",
       " 'issue_d',\n",
       " 'loan_status',\n",
       " 'purpose',\n",
       " 'addr_state',\n",
       " 'earliest_cr_line',\n",
       " 'revol_util',\n",
       " 'initial_list_status']"
      ]
     },
     "execution_count": 25,
     "metadata": {},
     "output_type": "execute_result"
    }
   ],
   "source": [
    "obj_vars=df.columns[df.dtypes==\"object\"].values.tolist()\n",
    "obj_vars"
   ]
  },
  {
   "cell_type": "markdown",
   "metadata": {},
   "source": [
    "unique values of object variables:"
   ]
  },
  {
   "cell_type": "code",
   "execution_count": 26,
   "metadata": {},
   "outputs": [
    {
     "data": {
      "text/plain": [
       "term                                            [ 36 months,  60 months]\n",
       "int_rate               [11.67%, 10.15%, 18.24%, 12.35%, 17.77%, 14.49...\n",
       "emp_length             [10+ years, 4 years, 8 years, 5 years, 1 year,...\n",
       "home_ownership                                [MORTGAGE, RENT, OWN, ANY]\n",
       "verification_status            [Not Verified, Source Verified, Verified]\n",
       "issue_d                [Oct-14, May-14, Aug-13, May-13, Jul-14, Oct-1...\n",
       "loan_status                           [Fully Paid, Charged Off, Default]\n",
       "purpose                [debt_consolidation, credit_card, small_busine...\n",
       "addr_state             [NY, MT, NJ, TX, CA, FL, PA, MA, GA, NV, AR, V...\n",
       "earliest_cr_line       [Jan-95, Jul-85, Aug-09, Jun-99, Nov-98, Jul-0...\n",
       "revol_util             [64.80%, 47.50%, 39.10%, 73.40%, 81.80%, 80.70...\n",
       "initial_list_status                                               [f, w]\n",
       "dtype: object"
      ]
     },
     "execution_count": 26,
     "metadata": {},
     "output_type": "execute_result"
    }
   ],
   "source": [
    "df[obj_vars].apply(lambda x: x[~x.isna()].unique().tolist())"
   ]
  },
  {
   "cell_type": "markdown",
   "metadata": {},
   "source": [
    "Processing \"int_rate\" and \"revol_util\" and casting them into float:"
   ]
  },
  {
   "cell_type": "code",
   "execution_count": 27,
   "metadata": {
    "scrolled": true
   },
   "outputs": [
    {
     "data": {
      "text/plain": [
       "int_rate      float64\n",
       "revol_util    float64\n",
       "dtype: object"
      ]
     },
     "execution_count": 27,
     "metadata": {},
     "output_type": "execute_result"
    }
   ],
   "source": [
    "for i in [\"int_rate\", \"revol_util\"]:\n",
    "    na_ind=df[i].isna()\n",
    "    df.loc[~na_ind,i]=(df.loc[~na_ind,i]\n",
    "                              .apply(lambda x: x[0:-1])).astype(float)\n",
    "    df[i]=df[i].astype(float)\n",
    "df[[\"int_rate\", \"revol_util\"]].dtypes"
   ]
  },
  {
   "cell_type": "markdown",
   "metadata": {},
   "source": [
    "Processing date variables:"
   ]
  },
  {
   "cell_type": "code",
   "execution_count": 30,
   "metadata": {},
   "outputs": [],
   "source": [
    "date_vars=[\"earliest_cr_line\",\"issue_d\"]"
   ]
  },
  {
   "cell_type": "code",
   "execution_count": 31,
   "metadata": {},
   "outputs": [
    {
     "data": {
      "text/html": [
       "<div>\n",
       "<style scoped>\n",
       "    .dataframe tbody tr th:only-of-type {\n",
       "        vertical-align: middle;\n",
       "    }\n",
       "\n",
       "    .dataframe tbody tr th {\n",
       "        vertical-align: top;\n",
       "    }\n",
       "\n",
       "    .dataframe thead th {\n",
       "        text-align: right;\n",
       "    }\n",
       "</style>\n",
       "<table border=\"1\" class=\"dataframe\">\n",
       "  <thead>\n",
       "    <tr style=\"text-align: right;\">\n",
       "      <th></th>\n",
       "      <th>earliest_cr_line</th>\n",
       "      <th>issue_d</th>\n",
       "    </tr>\n",
       "  </thead>\n",
       "  <tbody>\n",
       "    <tr>\n",
       "      <th>0</th>\n",
       "      <td>Jan-95</td>\n",
       "      <td>Oct-14</td>\n",
       "    </tr>\n",
       "    <tr>\n",
       "      <th>1</th>\n",
       "      <td>Jul-85</td>\n",
       "      <td>Oct-14</td>\n",
       "    </tr>\n",
       "    <tr>\n",
       "      <th>2</th>\n",
       "      <td>Aug-09</td>\n",
       "      <td>May-14</td>\n",
       "    </tr>\n",
       "    <tr>\n",
       "      <th>3</th>\n",
       "      <td>Jun-99</td>\n",
       "      <td>Aug-13</td>\n",
       "    </tr>\n",
       "    <tr>\n",
       "      <th>4</th>\n",
       "      <td>Nov-98</td>\n",
       "      <td>May-13</td>\n",
       "    </tr>\n",
       "  </tbody>\n",
       "</table>\n",
       "</div>"
      ],
      "text/plain": [
       "  earliest_cr_line issue_d\n",
       "0           Jan-95  Oct-14\n",
       "1           Jul-85  Oct-14\n",
       "2           Aug-09  May-14\n",
       "3           Jun-99  Aug-13\n",
       "4           Nov-98  May-13"
      ]
     },
     "execution_count": 31,
     "metadata": {},
     "output_type": "execute_result"
    }
   ],
   "source": [
    "df[date_vars].iloc[0:5,:]"
   ]
  },
  {
   "cell_type": "code",
   "execution_count": 32,
   "metadata": {},
   "outputs": [],
   "source": [
    "def proc_date(x):\n",
    "    t=x.copy()\n",
    "    c_year=19\n",
    "    t=t.apply(lambda x: x[-2:]).astype(float)\n",
    "    if t.max()>c_year:\n",
    "        t=t-t[t>c_year].min()\n",
    "        t[t<0]=t[t<0]+100\n",
    "    return t"
   ]
  },
  {
   "cell_type": "code",
   "execution_count": 33,
   "metadata": {},
   "outputs": [
    {
     "data": {
      "text/plain": [
       "earliest_cr_line    float64\n",
       "issue_d             float64\n",
       "dtype: object"
      ]
     },
     "execution_count": 33,
     "metadata": {},
     "output_type": "execute_result"
    }
   ],
   "source": [
    "for i in date_vars:\n",
    "    na_ind=df[i].isna()\n",
    "    df.loc[~na_ind,i]=(proc_date(df.loc[~na_ind,i]))\n",
    "    df[i]=df[i].astype(float)\n",
    "df[date_vars].dtypes"
   ]
  },
  {
   "cell_type": "markdown",
   "metadata": {},
   "source": [
    "updating object vars:"
   ]
  },
  {
   "cell_type": "code",
   "execution_count": 34,
   "metadata": {},
   "outputs": [
    {
     "data": {
      "text/plain": [
       "term                    2\n",
       "emp_length             11\n",
       "home_ownership          4\n",
       "verification_status     3\n",
       "loan_status             3\n",
       "purpose                13\n",
       "addr_state             50\n",
       "initial_list_status     2\n",
       "dtype: int64"
      ]
     },
     "execution_count": 34,
     "metadata": {},
     "output_type": "execute_result"
    }
   ],
   "source": [
    "obj_vars=df.columns[df.dtypes==\"object\"].values.tolist()\n",
    "un_val[obj_vars]"
   ]
  },
  {
   "cell_type": "markdown",
   "metadata": {},
   "source": [
    "Object variables with more than 49 categories:"
   ]
  },
  {
   "cell_type": "code",
   "execution_count": 35,
   "metadata": {},
   "outputs": [
    {
     "data": {
      "text/html": [
       "<div>\n",
       "<style scoped>\n",
       "    .dataframe tbody tr th:only-of-type {\n",
       "        vertical-align: middle;\n",
       "    }\n",
       "\n",
       "    .dataframe tbody tr th {\n",
       "        vertical-align: top;\n",
       "    }\n",
       "\n",
       "    .dataframe thead th {\n",
       "        text-align: right;\n",
       "    }\n",
       "</style>\n",
       "<table border=\"1\" class=\"dataframe\">\n",
       "  <thead>\n",
       "    <tr style=\"text-align: right;\">\n",
       "      <th></th>\n",
       "      <th>count</th>\n",
       "      <th>unique</th>\n",
       "      <th>top</th>\n",
       "      <th>freq</th>\n",
       "    </tr>\n",
       "  </thead>\n",
       "  <tbody>\n",
       "    <tr>\n",
       "      <th>addr_state</th>\n",
       "      <td>413534</td>\n",
       "      <td>50</td>\n",
       "      <td>CA</td>\n",
       "      <td>62413</td>\n",
       "    </tr>\n",
       "  </tbody>\n",
       "</table>\n",
       "</div>"
      ],
      "text/plain": [
       "             count unique top   freq\n",
       "addr_state  413534     50  CA  62413"
      ]
     },
     "execution_count": 35,
     "metadata": {},
     "output_type": "execute_result"
    }
   ],
   "source": [
    "un_list=un_val[un_val>=50].index.tolist()\n",
    "obj_un=set(un_list).intersection(set(obj_vars))\n",
    "df[obj_un].describe().T"
   ]
  },
  {
   "cell_type": "code",
   "execution_count": 36,
   "metadata": {},
   "outputs": [
    {
     "data": {
      "text/html": [
       "<div>\n",
       "<style scoped>\n",
       "    .dataframe tbody tr th:only-of-type {\n",
       "        vertical-align: middle;\n",
       "    }\n",
       "\n",
       "    .dataframe tbody tr th {\n",
       "        vertical-align: top;\n",
       "    }\n",
       "\n",
       "    .dataframe thead th {\n",
       "        text-align: right;\n",
       "    }\n",
       "</style>\n",
       "<table border=\"1\" class=\"dataframe\">\n",
       "  <thead>\n",
       "    <tr style=\"text-align: right;\">\n",
       "      <th></th>\n",
       "      <th>count</th>\n",
       "      <th>unique</th>\n",
       "      <th>top</th>\n",
       "      <th>freq</th>\n",
       "    </tr>\n",
       "  </thead>\n",
       "  <tbody>\n",
       "    <tr>\n",
       "      <th>term</th>\n",
       "      <td>413534</td>\n",
       "      <td>2</td>\n",
       "      <td>36 months</td>\n",
       "      <td>318766</td>\n",
       "    </tr>\n",
       "    <tr>\n",
       "      <th>emp_length</th>\n",
       "      <td>392515</td>\n",
       "      <td>11</td>\n",
       "      <td>10+ years</td>\n",
       "      <td>136937</td>\n",
       "    </tr>\n",
       "    <tr>\n",
       "      <th>home_ownership</th>\n",
       "      <td>413534</td>\n",
       "      <td>4</td>\n",
       "      <td>MORTGAGE</td>\n",
       "      <td>208980</td>\n",
       "    </tr>\n",
       "    <tr>\n",
       "      <th>verification_status</th>\n",
       "      <td>413534</td>\n",
       "      <td>3</td>\n",
       "      <td>Source Verified</td>\n",
       "      <td>144197</td>\n",
       "    </tr>\n",
       "    <tr>\n",
       "      <th>loan_status</th>\n",
       "      <td>413534</td>\n",
       "      <td>3</td>\n",
       "      <td>Fully Paid</td>\n",
       "      <td>339221</td>\n",
       "    </tr>\n",
       "    <tr>\n",
       "      <th>purpose</th>\n",
       "      <td>413534</td>\n",
       "      <td>13</td>\n",
       "      <td>debt_consolidation</td>\n",
       "      <td>249729</td>\n",
       "    </tr>\n",
       "    <tr>\n",
       "      <th>addr_state</th>\n",
       "      <td>413534</td>\n",
       "      <td>50</td>\n",
       "      <td>CA</td>\n",
       "      <td>62413</td>\n",
       "    </tr>\n",
       "    <tr>\n",
       "      <th>initial_list_status</th>\n",
       "      <td>413534</td>\n",
       "      <td>2</td>\n",
       "      <td>f</td>\n",
       "      <td>238504</td>\n",
       "    </tr>\n",
       "  </tbody>\n",
       "</table>\n",
       "</div>"
      ],
      "text/plain": [
       "                      count unique                 top    freq\n",
       "term                 413534      2           36 months  318766\n",
       "emp_length           392515     11           10+ years  136937\n",
       "home_ownership       413534      4            MORTGAGE  208980\n",
       "verification_status  413534      3     Source Verified  144197\n",
       "loan_status          413534      3          Fully Paid  339221\n",
       "purpose              413534     13  debt_consolidation  249729\n",
       "addr_state           413534     50                  CA   62413\n",
       "initial_list_status  413534      2                   f  238504"
      ]
     },
     "execution_count": 36,
     "metadata": {},
     "output_type": "execute_result"
    }
   ],
   "source": [
    "df[obj_vars].describe().T"
   ]
  },
  {
   "cell_type": "markdown",
   "metadata": {},
   "source": [
    "Removing categories with small fraction of \"addr_state\" variable."
   ]
  },
  {
   "cell_type": "code",
   "execution_count": 37,
   "metadata": {
    "scrolled": true
   },
   "outputs": [
    {
     "data": {
      "text/plain": [
       "CA    0.150926\n",
       "NY    0.082944\n",
       "TX    0.079715\n",
       "FL    0.066955\n",
       "IL    0.039460\n",
       "NJ    0.036689\n",
       "PA    0.034747\n",
       "OH    0.032684\n",
       "GA    0.031760\n",
       "VA    0.029248\n",
       "NC    0.027821\n",
       "MI    0.026056\n",
       "AZ    0.023645\n",
       "WA    0.023089\n",
       "MD    0.023086\n",
       "MA    0.022073\n",
       "CO    0.021870\n",
       "MN    0.018262\n",
       "IN    0.017133\n",
       "MO    0.015844\n",
       "TN    0.015725\n",
       "NV    0.014577\n",
       "CT    0.014318\n",
       "OR    0.013423\n",
       "WI    0.013128\n",
       "AL    0.012367\n",
       "LA    0.011755\n",
       "SC    0.011590\n",
       "KY    0.009574\n",
       "KS    0.009078\n",
       "OK    0.009039\n",
       "UT    0.007634\n",
       "AR    0.007409\n",
       "NM    0.005702\n",
       "HI    0.005380\n",
       "WV    0.005085\n",
       "NH    0.004706\n",
       "RI    0.004271\n",
       "MS    0.003458\n",
       "MT    0.003074\n",
       "DC    0.002800\n",
       "DE    0.002725\n",
       "AK    0.002682\n",
       "WY    0.002452\n",
       "SD    0.002147\n",
       "VT    0.001874\n",
       "ID    0.000007\n",
       "IA    0.000005\n",
       "NE    0.000005\n",
       "ME    0.000002\n",
       "Name: addr_state, dtype: float64"
      ]
     },
     "execution_count": 37,
     "metadata": {},
     "output_type": "execute_result"
    }
   ],
   "source": [
    "df[\"addr_state\"].value_counts(normalize=True)"
   ]
  },
  {
   "cell_type": "code",
   "execution_count": 38,
   "metadata": {},
   "outputs": [],
   "source": [
    "def del_frac(x, thr):\n",
    "    t=df[\"addr_state\"].value_counts(normalize=True)\n",
    "    l=t[t>t.max()*thr].index.tolist()\n",
    "    ind=x.isin(l)\n",
    "    x=x.copy()\n",
    "    x.loc[~ind]=\"DEFAULT\"\n",
    "    return x"
   ]
  },
  {
   "cell_type": "code",
   "execution_count": 39,
   "metadata": {
    "scrolled": true
   },
   "outputs": [
    {
     "data": {
      "text/plain": [
       "0              NY\n",
       "1         DEFAULT\n",
       "2              NJ\n",
       "3              TX\n",
       "4              CA\n",
       "5              TX\n",
       "6              CA\n",
       "7              FL\n",
       "8              NY\n",
       "9              PA\n",
       "10        DEFAULT\n",
       "11             GA\n",
       "12             TX\n",
       "13             CA\n",
       "14        DEFAULT\n",
       "15             PA\n",
       "16        DEFAULT\n",
       "17        DEFAULT\n",
       "18        DEFAULT\n",
       "19        DEFAULT\n",
       "20        DEFAULT\n",
       "21        DEFAULT\n",
       "22        DEFAULT\n",
       "23             IL\n",
       "24             CA\n",
       "25        DEFAULT\n",
       "26             CA\n",
       "27             GA\n",
       "28             TX\n",
       "29             NY\n",
       "           ...   \n",
       "413504    DEFAULT\n",
       "413505         CA\n",
       "413506         CA\n",
       "413507    DEFAULT\n",
       "413508         TX\n",
       "413509    DEFAULT\n",
       "413510    DEFAULT\n",
       "413511    DEFAULT\n",
       "413512         PA\n",
       "413513         PA\n",
       "413514         NY\n",
       "413515    DEFAULT\n",
       "413516         CA\n",
       "413517    DEFAULT\n",
       "413518         IL\n",
       "413519         FL\n",
       "413520         GA\n",
       "413521         NY\n",
       "413522         GA\n",
       "413523    DEFAULT\n",
       "413524    DEFAULT\n",
       "413525         CA\n",
       "413526    DEFAULT\n",
       "413527         NY\n",
       "413528    DEFAULT\n",
       "413529         NY\n",
       "413530         IL\n",
       "413531    DEFAULT\n",
       "413532         CA\n",
       "413533    DEFAULT\n",
       "Name: addr_state, Length: 413534, dtype: object"
      ]
     },
     "execution_count": 39,
     "metadata": {},
     "output_type": "execute_result"
    }
   ],
   "source": [
    "na_ind=df[\"addr_state\"].isna()\n",
    "df.loc[~na_ind,\"addr_state\"]=del_frac(df.loc[~na_ind,\"addr_state\"],0.2)\n",
    "df[\"addr_state\"]"
   ]
  },
  {
   "cell_type": "markdown",
   "metadata": {
    "colab_type": "text",
    "id": "j-bqaOxkUHW2"
   },
   "source": [
    "Processing \"emp_length\" variable: values \"10+ years\" will be replaced with number 15, as the mean of that frequency of population. NA's will be replaced with random values from var's distribution."
   ]
  },
  {
   "cell_type": "code",
   "execution_count": 40,
   "metadata": {
    "colab": {
     "base_uri": "https://localhost:8080/",
     "height": 72
    },
    "colab_type": "code",
    "id": "ocoRKlaQUHW4",
    "outputId": "cf6058e0-f6ee-4edf-98ec-c433aa4bc152"
   },
   "outputs": [
    {
     "data": {
      "text/plain": [
       "array(['10+ years', '4 years', '8 years', '5 years', '1 year', '< 1 year',\n",
       "       '7 years', '2 years', '3 years', nan, '9 years', '6 years'],\n",
       "      dtype=object)"
      ]
     },
     "execution_count": 40,
     "metadata": {},
     "output_type": "execute_result"
    }
   ],
   "source": [
    "df[\"emp_length\"].unique()"
   ]
  },
  {
   "cell_type": "code",
   "execution_count": 41,
   "metadata": {
    "colab": {},
    "colab_type": "code",
    "id": "Uc72CiXxUHXg"
   },
   "outputs": [],
   "source": [
    "def repl (x):\n",
    "    if x.startswith(\"<\"):\n",
    "        return 0\n",
    "    elif x.startswith(\"10\"):\n",
    "        return 15\n",
    "    else:\n",
    "        return int(x[0])"
   ]
  },
  {
   "cell_type": "code",
   "execution_count": 42,
   "metadata": {
    "colab": {
     "base_uri": "https://localhost:8080/",
     "height": 1156
    },
    "colab_type": "code",
    "id": "C7AkyRrsUHXn",
    "outputId": "be5b65a5-d5eb-45c6-90f1-3af96a180ad9",
    "scrolled": true
   },
   "outputs": [
    {
     "data": {
      "text/plain": [
       "0          15\n",
       "1          15\n",
       "2           4\n",
       "3           8\n",
       "4           5\n",
       "5           4\n",
       "6           1\n",
       "7           1\n",
       "8           0\n",
       "9           7\n",
       "10         15\n",
       "11         15\n",
       "12         15\n",
       "13          2\n",
       "14          4\n",
       "15          3\n",
       "16         15\n",
       "17          3\n",
       "18        NaN\n",
       "19          9\n",
       "20         15\n",
       "21          1\n",
       "22         15\n",
       "23        NaN\n",
       "24          8\n",
       "25          5\n",
       "26         15\n",
       "27         15\n",
       "28          8\n",
       "29         15\n",
       "         ... \n",
       "413504      8\n",
       "413505      7\n",
       "413506      8\n",
       "413507      4\n",
       "413508      1\n",
       "413509      0\n",
       "413510      9\n",
       "413511     15\n",
       "413512      7\n",
       "413513     15\n",
       "413514      6\n",
       "413515      3\n",
       "413516     15\n",
       "413517      2\n",
       "413518     15\n",
       "413519      9\n",
       "413520    NaN\n",
       "413521      8\n",
       "413522      3\n",
       "413523      3\n",
       "413524      9\n",
       "413525     15\n",
       "413526     15\n",
       "413527     15\n",
       "413528      7\n",
       "413529     15\n",
       "413530      5\n",
       "413531      7\n",
       "413532      5\n",
       "413533      5\n",
       "Name: emp_length, Length: 413534, dtype: object"
      ]
     },
     "execution_count": 42,
     "metadata": {},
     "output_type": "execute_result"
    }
   ],
   "source": [
    "na_ind=df[\"emp_length\"].isna()\n",
    "df.loc[~na_ind,\"emp_length\"]=df.loc[~na_ind,\"emp_length\"].apply(repl)\n",
    "df[\"emp_length\"]"
   ]
  },
  {
   "cell_type": "markdown",
   "metadata": {},
   "source": [
    "Processing response variable:"
   ]
  },
  {
   "cell_type": "code",
   "execution_count": 43,
   "metadata": {},
   "outputs": [
    {
     "data": {
      "text/plain": [
       "False"
      ]
     },
     "execution_count": 43,
     "metadata": {},
     "output_type": "execute_result"
    }
   ],
   "source": [
    "df[\"loan_status\"].isna().any()"
   ]
  },
  {
   "cell_type": "code",
   "execution_count": 44,
   "metadata": {},
   "outputs": [
    {
     "data": {
      "text/plain": [
       "0         0\n",
       "1         0\n",
       "2         0\n",
       "3         0\n",
       "4         0\n",
       "5         0\n",
       "6         0\n",
       "7         0\n",
       "8         0\n",
       "9         0\n",
       "10        0\n",
       "11        0\n",
       "12        0\n",
       "13        1\n",
       "14        0\n",
       "15        1\n",
       "16        0\n",
       "17        0\n",
       "18        0\n",
       "19        0\n",
       "20        1\n",
       "21        0\n",
       "22        0\n",
       "23        0\n",
       "24        0\n",
       "25        0\n",
       "26        0\n",
       "27        0\n",
       "28        1\n",
       "29        0\n",
       "         ..\n",
       "413504    0\n",
       "413505    0\n",
       "413506    0\n",
       "413507    0\n",
       "413508    0\n",
       "413509    1\n",
       "413510    0\n",
       "413511    1\n",
       "413512    0\n",
       "413513    0\n",
       "413514    0\n",
       "413515    0\n",
       "413516    0\n",
       "413517    0\n",
       "413518    0\n",
       "413519    1\n",
       "413520    0\n",
       "413521    1\n",
       "413522    0\n",
       "413523    0\n",
       "413524    0\n",
       "413525    0\n",
       "413526    0\n",
       "413527    0\n",
       "413528    0\n",
       "413529    0\n",
       "413530    0\n",
       "413531    1\n",
       "413532    0\n",
       "413533    0\n",
       "Name: loan_status, Length: 413534, dtype: int64"
      ]
     },
     "execution_count": 44,
     "metadata": {},
     "output_type": "execute_result"
    }
   ],
   "source": [
    "df[\"loan_status\"].replace({\"Charged Off\": 1, \"Default\": 1, \"Fully Paid\": 0},inplace=True)\n",
    "df[\"loan_status\"]"
   ]
  },
  {
   "cell_type": "code",
   "execution_count": 45,
   "metadata": {
    "colab": {
     "base_uri": "https://localhost:8080/",
     "height": 476
    },
    "colab_type": "code",
    "id": "S8Irsu9X8LD2",
    "outputId": "01f12699-70a9-468b-ff61-277b7605a515"
   },
   "outputs": [
    {
     "data": {
      "text/plain": [
       "['loan_amnt',\n",
       " 'funded_amnt_inv',\n",
       " 'int_rate',\n",
       " 'installment',\n",
       " 'sub_grade',\n",
       " 'annual_inc',\n",
       " 'issue_d',\n",
       " 'loan_status',\n",
       " 'dti',\n",
       " 'delinq_2yrs',\n",
       " 'earliest_cr_line',\n",
       " 'fico_range_low',\n",
       " 'fico_range_high',\n",
       " 'inq_last_6mths',\n",
       " 'open_acc',\n",
       " 'pub_rec',\n",
       " 'revol_bal',\n",
       " 'revol_util',\n",
       " 'total_acc',\n",
       " 'total_pymnt_inv',\n",
       " 'total_rec_late_fee',\n",
       " 'recoveries',\n",
       " 'collection_recovery_fee',\n",
       " 'collections_12_mths_ex_med',\n",
       " 'acc_now_delinq',\n",
       " 'tot_coll_amt',\n",
       " 'tot_cur_bal',\n",
       " 'total_rev_hi_lim',\n",
       " 'acc_open_past_24mths',\n",
       " 'avg_cur_bal',\n",
       " 'bc_open_to_buy',\n",
       " 'bc_util',\n",
       " 'chargeoff_within_12_mths',\n",
       " 'delinq_amnt',\n",
       " 'mo_sin_old_il_acct',\n",
       " 'mo_sin_old_rev_tl_op',\n",
       " 'mo_sin_rcnt_rev_tl_op',\n",
       " 'mo_sin_rcnt_tl',\n",
       " 'mort_acc',\n",
       " 'mths_since_recent_bc',\n",
       " 'mths_since_recent_inq',\n",
       " 'num_accts_ever_120_pd',\n",
       " 'num_actv_bc_tl',\n",
       " 'num_actv_rev_tl',\n",
       " 'num_bc_sats',\n",
       " 'num_bc_tl',\n",
       " 'num_il_tl',\n",
       " 'num_op_rev_tl',\n",
       " 'num_rev_accts',\n",
       " 'num_rev_tl_bal_gt_0',\n",
       " 'num_sats',\n",
       " 'num_tl_120dpd_2m',\n",
       " 'num_tl_30dpd',\n",
       " 'num_tl_90g_dpd_24m',\n",
       " 'num_tl_op_past_12m',\n",
       " 'pct_tl_nvr_dlq',\n",
       " 'percent_bc_gt_75',\n",
       " 'pub_rec_bankruptcies',\n",
       " 'tax_liens',\n",
       " 'tot_hi_cred_lim',\n",
       " 'total_bal_ex_mort',\n",
       " 'total_bc_limit',\n",
       " 'total_il_high_credit_limit',\n",
       " 'good_loan']"
      ]
     },
     "execution_count": 45,
     "metadata": {},
     "output_type": "execute_result"
    }
   ],
   "source": [
    "num_vars=list(df.dtypes[df.dtypes!=np.dtype('O')].index)\n",
    "obj_vars=list(df.dtypes[df.dtypes==np.dtype('O')].index)\n",
    "num_vars"
   ]
  },
  {
   "cell_type": "markdown",
   "metadata": {
    "colab_type": "text",
    "id": "NEYTWCVZUHY7"
   },
   "source": [
    "## 2. EDA"
   ]
  },
  {
   "cell_type": "code",
   "execution_count": 46,
   "metadata": {
    "colab": {
     "base_uri": "https://localhost:8080/",
     "height": 320
    },
    "colab_type": "code",
    "id": "Rteb6nESUHY9",
    "outputId": "cf2f72f3-2d51-4403-a3ec-071804e1318c"
   },
   "outputs": [
    {
     "data": {
      "text/html": [
       "<div>\n",
       "<style scoped>\n",
       "    .dataframe tbody tr th:only-of-type {\n",
       "        vertical-align: middle;\n",
       "    }\n",
       "\n",
       "    .dataframe tbody tr th {\n",
       "        vertical-align: top;\n",
       "    }\n",
       "\n",
       "    .dataframe thead th {\n",
       "        text-align: right;\n",
       "    }\n",
       "</style>\n",
       "<table border=\"1\" class=\"dataframe\">\n",
       "  <thead>\n",
       "    <tr style=\"text-align: right;\">\n",
       "      <th></th>\n",
       "      <th>loan_amnt</th>\n",
       "      <th>funded_amnt_inv</th>\n",
       "      <th>term</th>\n",
       "      <th>int_rate</th>\n",
       "      <th>installment</th>\n",
       "      <th>sub_grade</th>\n",
       "      <th>emp_length</th>\n",
       "      <th>home_ownership</th>\n",
       "      <th>annual_inc</th>\n",
       "      <th>verification_status</th>\n",
       "      <th>...</th>\n",
       "      <th>num_tl_op_past_12m</th>\n",
       "      <th>pct_tl_nvr_dlq</th>\n",
       "      <th>percent_bc_gt_75</th>\n",
       "      <th>pub_rec_bankruptcies</th>\n",
       "      <th>tax_liens</th>\n",
       "      <th>tot_hi_cred_lim</th>\n",
       "      <th>total_bal_ex_mort</th>\n",
       "      <th>total_bc_limit</th>\n",
       "      <th>total_il_high_credit_limit</th>\n",
       "      <th>good_loan</th>\n",
       "    </tr>\n",
       "  </thead>\n",
       "  <tbody>\n",
       "    <tr>\n",
       "      <th>count</th>\n",
       "      <td>413534.000000</td>\n",
       "      <td>413534.000000</td>\n",
       "      <td>413534</td>\n",
       "      <td>413534.000000</td>\n",
       "      <td>413534.000000</td>\n",
       "      <td>413534.000000</td>\n",
       "      <td>392515.0</td>\n",
       "      <td>413534</td>\n",
       "      <td>4.135340e+05</td>\n",
       "      <td>413534</td>\n",
       "      <td>...</td>\n",
       "      <td>413534.000000</td>\n",
       "      <td>413393.000000</td>\n",
       "      <td>409443.000000</td>\n",
       "      <td>413534.000000</td>\n",
       "      <td>413534.000000</td>\n",
       "      <td>4.135340e+05</td>\n",
       "      <td>4.135340e+05</td>\n",
       "      <td>413534.000000</td>\n",
       "      <td>4.135340e+05</td>\n",
       "      <td>413534.000000</td>\n",
       "    </tr>\n",
       "    <tr>\n",
       "      <th>unique</th>\n",
       "      <td>NaN</td>\n",
       "      <td>NaN</td>\n",
       "      <td>2</td>\n",
       "      <td>NaN</td>\n",
       "      <td>NaN</td>\n",
       "      <td>NaN</td>\n",
       "      <td>11.0</td>\n",
       "      <td>4</td>\n",
       "      <td>NaN</td>\n",
       "      <td>3</td>\n",
       "      <td>...</td>\n",
       "      <td>NaN</td>\n",
       "      <td>NaN</td>\n",
       "      <td>NaN</td>\n",
       "      <td>NaN</td>\n",
       "      <td>NaN</td>\n",
       "      <td>NaN</td>\n",
       "      <td>NaN</td>\n",
       "      <td>NaN</td>\n",
       "      <td>NaN</td>\n",
       "      <td>NaN</td>\n",
       "    </tr>\n",
       "    <tr>\n",
       "      <th>top</th>\n",
       "      <td>NaN</td>\n",
       "      <td>NaN</td>\n",
       "      <td>36 months</td>\n",
       "      <td>NaN</td>\n",
       "      <td>NaN</td>\n",
       "      <td>NaN</td>\n",
       "      <td>15.0</td>\n",
       "      <td>MORTGAGE</td>\n",
       "      <td>NaN</td>\n",
       "      <td>Source Verified</td>\n",
       "      <td>...</td>\n",
       "      <td>NaN</td>\n",
       "      <td>NaN</td>\n",
       "      <td>NaN</td>\n",
       "      <td>NaN</td>\n",
       "      <td>NaN</td>\n",
       "      <td>NaN</td>\n",
       "      <td>NaN</td>\n",
       "      <td>NaN</td>\n",
       "      <td>NaN</td>\n",
       "      <td>NaN</td>\n",
       "    </tr>\n",
       "    <tr>\n",
       "      <th>freq</th>\n",
       "      <td>NaN</td>\n",
       "      <td>NaN</td>\n",
       "      <td>318766</td>\n",
       "      <td>NaN</td>\n",
       "      <td>NaN</td>\n",
       "      <td>NaN</td>\n",
       "      <td>136937.0</td>\n",
       "      <td>208980</td>\n",
       "      <td>NaN</td>\n",
       "      <td>144197</td>\n",
       "      <td>...</td>\n",
       "      <td>NaN</td>\n",
       "      <td>NaN</td>\n",
       "      <td>NaN</td>\n",
       "      <td>NaN</td>\n",
       "      <td>NaN</td>\n",
       "      <td>NaN</td>\n",
       "      <td>NaN</td>\n",
       "      <td>NaN</td>\n",
       "      <td>NaN</td>\n",
       "      <td>NaN</td>\n",
       "    </tr>\n",
       "    <tr>\n",
       "      <th>mean</th>\n",
       "      <td>14403.164855</td>\n",
       "      <td>14397.751971</td>\n",
       "      <td>NaN</td>\n",
       "      <td>13.639690</td>\n",
       "      <td>442.010009</td>\n",
       "      <td>10.929541</td>\n",
       "      <td>NaN</td>\n",
       "      <td>NaN</td>\n",
       "      <td>7.392663e+04</td>\n",
       "      <td>NaN</td>\n",
       "      <td>...</td>\n",
       "      <td>1.979450</td>\n",
       "      <td>94.578029</td>\n",
       "      <td>50.944594</td>\n",
       "      <td>0.129999</td>\n",
       "      <td>0.045846</td>\n",
       "      <td>1.667059e+05</td>\n",
       "      <td>4.669880e+04</td>\n",
       "      <td>20136.299634</td>\n",
       "      <td>3.814422e+04</td>\n",
       "      <td>0.179702</td>\n",
       "    </tr>\n",
       "    <tr>\n",
       "      <th>std</th>\n",
       "      <td>8266.140282</td>\n",
       "      <td>8263.225895</td>\n",
       "      <td>NaN</td>\n",
       "      <td>4.388482</td>\n",
       "      <td>247.576997</td>\n",
       "      <td>6.426699</td>\n",
       "      <td>NaN</td>\n",
       "      <td>NaN</td>\n",
       "      <td>5.498279e+04</td>\n",
       "      <td>NaN</td>\n",
       "      <td>...</td>\n",
       "      <td>1.619808</td>\n",
       "      <td>8.209900</td>\n",
       "      <td>34.840875</td>\n",
       "      <td>0.367329</td>\n",
       "      <td>0.378309</td>\n",
       "      <td>1.701839e+05</td>\n",
       "      <td>4.477358e+04</td>\n",
       "      <td>20009.782242</td>\n",
       "      <td>4.021170e+04</td>\n",
       "      <td>0.383940</td>\n",
       "    </tr>\n",
       "    <tr>\n",
       "      <th>min</th>\n",
       "      <td>1000.000000</td>\n",
       "      <td>950.000000</td>\n",
       "      <td>NaN</td>\n",
       "      <td>5.930000</td>\n",
       "      <td>4.930000</td>\n",
       "      <td>0.000000</td>\n",
       "      <td>NaN</td>\n",
       "      <td>NaN</td>\n",
       "      <td>3.000000e+03</td>\n",
       "      <td>NaN</td>\n",
       "      <td>...</td>\n",
       "      <td>0.000000</td>\n",
       "      <td>7.700000</td>\n",
       "      <td>0.000000</td>\n",
       "      <td>0.000000</td>\n",
       "      <td>0.000000</td>\n",
       "      <td>0.000000e+00</td>\n",
       "      <td>0.000000e+00</td>\n",
       "      <td>0.000000</td>\n",
       "      <td>0.000000e+00</td>\n",
       "      <td>0.000000</td>\n",
       "    </tr>\n",
       "    <tr>\n",
       "      <th>25%</th>\n",
       "      <td>8000.000000</td>\n",
       "      <td>8000.000000</td>\n",
       "      <td>NaN</td>\n",
       "      <td>10.490000</td>\n",
       "      <td>263.550000</td>\n",
       "      <td>6.000000</td>\n",
       "      <td>NaN</td>\n",
       "      <td>NaN</td>\n",
       "      <td>4.500000e+04</td>\n",
       "      <td>NaN</td>\n",
       "      <td>...</td>\n",
       "      <td>1.000000</td>\n",
       "      <td>92.000000</td>\n",
       "      <td>22.200000</td>\n",
       "      <td>0.000000</td>\n",
       "      <td>0.000000</td>\n",
       "      <td>4.596500e+04</td>\n",
       "      <td>2.000625e+04</td>\n",
       "      <td>7200.000000</td>\n",
       "      <td>1.236900e+04</td>\n",
       "      <td>0.000000</td>\n",
       "    </tr>\n",
       "    <tr>\n",
       "      <th>50%</th>\n",
       "      <td>12050.000000</td>\n",
       "      <td>12050.000000</td>\n",
       "      <td>NaN</td>\n",
       "      <td>13.350000</td>\n",
       "      <td>385.350000</td>\n",
       "      <td>10.000000</td>\n",
       "      <td>NaN</td>\n",
       "      <td>NaN</td>\n",
       "      <td>6.366500e+04</td>\n",
       "      <td>NaN</td>\n",
       "      <td>...</td>\n",
       "      <td>2.000000</td>\n",
       "      <td>100.000000</td>\n",
       "      <td>50.000000</td>\n",
       "      <td>0.000000</td>\n",
       "      <td>0.000000</td>\n",
       "      <td>1.066060e+05</td>\n",
       "      <td>3.534900e+04</td>\n",
       "      <td>14000.000000</td>\n",
       "      <td>2.857200e+04</td>\n",
       "      <td>0.000000</td>\n",
       "    </tr>\n",
       "    <tr>\n",
       "      <th>75%</th>\n",
       "      <td>20000.000000</td>\n",
       "      <td>20000.000000</td>\n",
       "      <td>NaN</td>\n",
       "      <td>16.290000</td>\n",
       "      <td>580.730000</td>\n",
       "      <td>15.000000</td>\n",
       "      <td>NaN</td>\n",
       "      <td>NaN</td>\n",
       "      <td>9.000000e+04</td>\n",
       "      <td>NaN</td>\n",
       "      <td>...</td>\n",
       "      <td>3.000000</td>\n",
       "      <td>100.000000</td>\n",
       "      <td>80.000000</td>\n",
       "      <td>0.000000</td>\n",
       "      <td>0.000000</td>\n",
       "      <td>2.431728e+05</td>\n",
       "      <td>5.854275e+04</td>\n",
       "      <td>26200.000000</td>\n",
       "      <td>5.146100e+04</td>\n",
       "      <td>0.000000</td>\n",
       "    </tr>\n",
       "    <tr>\n",
       "      <th>max</th>\n",
       "      <td>35000.000000</td>\n",
       "      <td>35000.000000</td>\n",
       "      <td>NaN</td>\n",
       "      <td>26.060000</td>\n",
       "      <td>1409.990000</td>\n",
       "      <td>34.000000</td>\n",
       "      <td>NaN</td>\n",
       "      <td>NaN</td>\n",
       "      <td>8.706582e+06</td>\n",
       "      <td>NaN</td>\n",
       "      <td>...</td>\n",
       "      <td>26.000000</td>\n",
       "      <td>100.000000</td>\n",
       "      <td>100.000000</td>\n",
       "      <td>12.000000</td>\n",
       "      <td>63.000000</td>\n",
       "      <td>9.999999e+06</td>\n",
       "      <td>2.688920e+06</td>\n",
       "      <td>760000.000000</td>\n",
       "      <td>1.241783e+06</td>\n",
       "      <td>1.000000</td>\n",
       "    </tr>\n",
       "  </tbody>\n",
       "</table>\n",
       "<p>11 rows × 71 columns</p>\n",
       "</div>"
      ],
      "text/plain": [
       "            loan_amnt  funded_amnt_inv        term       int_rate  \\\n",
       "count   413534.000000    413534.000000      413534  413534.000000   \n",
       "unique            NaN              NaN           2            NaN   \n",
       "top               NaN              NaN   36 months            NaN   \n",
       "freq              NaN              NaN      318766            NaN   \n",
       "mean     14403.164855     14397.751971         NaN      13.639690   \n",
       "std       8266.140282      8263.225895         NaN       4.388482   \n",
       "min       1000.000000       950.000000         NaN       5.930000   \n",
       "25%       8000.000000      8000.000000         NaN      10.490000   \n",
       "50%      12050.000000     12050.000000         NaN      13.350000   \n",
       "75%      20000.000000     20000.000000         NaN      16.290000   \n",
       "max      35000.000000     35000.000000         NaN      26.060000   \n",
       "\n",
       "          installment      sub_grade  emp_length home_ownership    annual_inc  \\\n",
       "count   413534.000000  413534.000000    392515.0         413534  4.135340e+05   \n",
       "unique            NaN            NaN        11.0              4           NaN   \n",
       "top               NaN            NaN        15.0       MORTGAGE           NaN   \n",
       "freq              NaN            NaN    136937.0         208980           NaN   \n",
       "mean       442.010009      10.929541         NaN            NaN  7.392663e+04   \n",
       "std        247.576997       6.426699         NaN            NaN  5.498279e+04   \n",
       "min          4.930000       0.000000         NaN            NaN  3.000000e+03   \n",
       "25%        263.550000       6.000000         NaN            NaN  4.500000e+04   \n",
       "50%        385.350000      10.000000         NaN            NaN  6.366500e+04   \n",
       "75%        580.730000      15.000000         NaN            NaN  9.000000e+04   \n",
       "max       1409.990000      34.000000         NaN            NaN  8.706582e+06   \n",
       "\n",
       "       verification_status  ...  num_tl_op_past_12m  pct_tl_nvr_dlq  \\\n",
       "count               413534  ...       413534.000000   413393.000000   \n",
       "unique                   3  ...                 NaN             NaN   \n",
       "top        Source Verified  ...                 NaN             NaN   \n",
       "freq                144197  ...                 NaN             NaN   \n",
       "mean                   NaN  ...            1.979450       94.578029   \n",
       "std                    NaN  ...            1.619808        8.209900   \n",
       "min                    NaN  ...            0.000000        7.700000   \n",
       "25%                    NaN  ...            1.000000       92.000000   \n",
       "50%                    NaN  ...            2.000000      100.000000   \n",
       "75%                    NaN  ...            3.000000      100.000000   \n",
       "max                    NaN  ...           26.000000      100.000000   \n",
       "\n",
       "       percent_bc_gt_75 pub_rec_bankruptcies      tax_liens  tot_hi_cred_lim  \\\n",
       "count     409443.000000        413534.000000  413534.000000     4.135340e+05   \n",
       "unique              NaN                  NaN            NaN              NaN   \n",
       "top                 NaN                  NaN            NaN              NaN   \n",
       "freq                NaN                  NaN            NaN              NaN   \n",
       "mean          50.944594             0.129999       0.045846     1.667059e+05   \n",
       "std           34.840875             0.367329       0.378309     1.701839e+05   \n",
       "min            0.000000             0.000000       0.000000     0.000000e+00   \n",
       "25%           22.200000             0.000000       0.000000     4.596500e+04   \n",
       "50%           50.000000             0.000000       0.000000     1.066060e+05   \n",
       "75%           80.000000             0.000000       0.000000     2.431728e+05   \n",
       "max          100.000000            12.000000      63.000000     9.999999e+06   \n",
       "\n",
       "        total_bal_ex_mort  total_bc_limit  total_il_high_credit_limit  \\\n",
       "count        4.135340e+05   413534.000000                4.135340e+05   \n",
       "unique                NaN             NaN                         NaN   \n",
       "top                   NaN             NaN                         NaN   \n",
       "freq                  NaN             NaN                         NaN   \n",
       "mean         4.669880e+04    20136.299634                3.814422e+04   \n",
       "std          4.477358e+04    20009.782242                4.021170e+04   \n",
       "min          0.000000e+00        0.000000                0.000000e+00   \n",
       "25%          2.000625e+04     7200.000000                1.236900e+04   \n",
       "50%          3.534900e+04    14000.000000                2.857200e+04   \n",
       "75%          5.854275e+04    26200.000000                5.146100e+04   \n",
       "max          2.688920e+06   760000.000000                1.241783e+06   \n",
       "\n",
       "            good_loan  \n",
       "count   413534.000000  \n",
       "unique            NaN  \n",
       "top               NaN  \n",
       "freq              NaN  \n",
       "mean         0.179702  \n",
       "std          0.383940  \n",
       "min          0.000000  \n",
       "25%          0.000000  \n",
       "50%          0.000000  \n",
       "75%          0.000000  \n",
       "max          1.000000  \n",
       "\n",
       "[11 rows x 71 columns]"
      ]
     },
     "execution_count": 46,
     "metadata": {},
     "output_type": "execute_result"
    }
   ],
   "source": [
    "df.describe(include=\"all\")"
   ]
  },
  {
   "cell_type": "code",
   "execution_count": 47,
   "metadata": {},
   "outputs": [
    {
     "data": {
      "text/plain": [
       "0    0.820298\n",
       "1    0.179702\n",
       "Name: loan_status, dtype: float64"
      ]
     },
     "execution_count": 47,
     "metadata": {},
     "output_type": "execute_result"
    }
   ],
   "source": [
    "df[\"loan_status\"].value_counts(normalize=True)"
   ]
  },
  {
   "cell_type": "markdown",
   "metadata": {
    "colab_type": "text",
    "id": "lJQ5lXfwUHZI"
   },
   "source": [
    "Response variable distribution:"
   ]
  },
  {
   "cell_type": "code",
   "execution_count": 48,
   "metadata": {
    "colab": {
     "base_uri": "https://localhost:8080/",
     "height": 287
    },
    "colab_type": "code",
    "id": "jY7unx8DUHZK",
    "outputId": "c7ff6996-e684-4b34-b2e7-62a0bbb0564b"
   },
   "outputs": [
    {
     "data": {
      "text/plain": [
       "<matplotlib.axes._subplots.AxesSubplot at 0x1d974ce32e8>"
      ]
     },
     "execution_count": 48,
     "metadata": {},
     "output_type": "execute_result"
    },
    {
     "data": {
      "image/png": "[encoded data removed]",
      "text/plain": [
       "<Figure size 432x288 with 1 Axes>"
      ]
     },
     "metadata": {
      "needs_background": "light"
     },
     "output_type": "display_data"
    }
   ],
   "source": [
    "df[\"loan_status\"].plot(kind=\"hist\")"
   ]
  },
  {
   "cell_type": "markdown",
   "metadata": {},
   "source": [
    "Gettig index of NA values in any numeric variable:"
   ]
  },
  {
   "cell_type": "code",
   "execution_count": 49,
   "metadata": {},
   "outputs": [],
   "source": [
    "def get_na(x):\n",
    "    nms=x.columns.values.tolist()\n",
    "    na_ind=x[nms[0]].isna()\n",
    "    for i in nms[1:]:\n",
    "        na_ind=na_ind|x[i].isna()\n",
    "    return na_ind"
   ]
  },
  {
   "cell_type": "code",
   "execution_count": 50,
   "metadata": {},
   "outputs": [
    {
     "data": {
      "text/plain": [
       "False"
      ]
     },
     "execution_count": 50,
     "metadata": {},
     "output_type": "execute_result"
    }
   ],
   "source": [
    "na_ind=get_na(df[num_vars])\n",
    "df.loc[~na_ind,num_vars].isna().any().any()"
   ]
  },
  {
   "cell_type": "markdown",
   "metadata": {},
   "source": [
    "Finding and dropping variables with the correlation over 0.8:"
   ]
  },
  {
   "cell_type": "code",
   "execution_count": 51,
   "metadata": {},
   "outputs": [],
   "source": [
    "cor = abs(df.loc[~na_ind,num_vars].corr())"
   ]
  },
  {
   "cell_type": "code",
   "execution_count": 52,
   "metadata": {},
   "outputs": [],
   "source": [
    "def get_corr(x,thr):\n",
    "    nms=x.columns.values.tolist()\n",
    "    arr=[]\n",
    "    for i in nms:\n",
    "        x.loc[i,i]=0\n",
    "        ind=x[i]>thr\n",
    "        vars=x.loc[ind,i].index.values.tolist()\n",
    "        if len(vars)!=0:\n",
    "            arr.append([i,vars])\n",
    "    return arr"
   ]
  },
  {
   "cell_type": "code",
   "execution_count": 53,
   "metadata": {
    "scrolled": true
   },
   "outputs": [
    {
     "data": {
      "text/plain": [
       "[['loan_amnt', ['funded_amnt_inv', 'installment', 'total_pymnt_inv']],\n",
       " ['funded_amnt_inv', ['loan_amnt', 'installment', 'total_pymnt_inv']],\n",
       " ['int_rate', ['sub_grade']],\n",
       " ['installment', ['loan_amnt', 'funded_amnt_inv', 'total_pymnt_inv']],\n",
       " ['sub_grade', ['int_rate']],\n",
       " ['loan_status', ['good_loan']],\n",
       " ['earliest_cr_line', ['mo_sin_old_rev_tl_op']],\n",
       " ['fico_range_low', ['fico_range_high']],\n",
       " ['fico_range_high', ['fico_range_low']],\n",
       " ['open_acc', ['num_op_rev_tl', 'num_sats']],\n",
       " ['revol_bal', ['total_rev_hi_lim']],\n",
       " ['revol_util', ['bc_util']],\n",
       " ['total_pymnt_inv', ['loan_amnt', 'funded_amnt_inv', 'installment']],\n",
       " ['recoveries', ['collection_recovery_fee']],\n",
       " ['collection_recovery_fee', ['recoveries']],\n",
       " ['tot_cur_bal', ['avg_cur_bal', 'tot_hi_cred_lim']],\n",
       " ['total_rev_hi_lim', ['revol_bal']],\n",
       " ['avg_cur_bal', ['tot_cur_bal', 'tot_hi_cred_lim']],\n",
       " ['bc_open_to_buy', ['total_bc_limit']],\n",
       " ['bc_util', ['revol_util', 'percent_bc_gt_75']],\n",
       " ['mo_sin_old_rev_tl_op', ['earliest_cr_line']],\n",
       " ['num_actv_bc_tl', ['num_bc_sats']],\n",
       " ['num_actv_rev_tl', ['num_rev_tl_bal_gt_0']],\n",
       " ['num_bc_sats', ['num_actv_bc_tl']],\n",
       " ['num_bc_tl', ['num_rev_accts']],\n",
       " ['num_op_rev_tl', ['open_acc', 'num_rev_tl_bal_gt_0', 'num_sats']],\n",
       " ['num_rev_accts', ['num_bc_tl']],\n",
       " ['num_rev_tl_bal_gt_0', ['num_actv_rev_tl', 'num_op_rev_tl']],\n",
       " ['num_sats', ['open_acc', 'num_op_rev_tl']],\n",
       " ['percent_bc_gt_75', ['bc_util']],\n",
       " ['tot_hi_cred_lim', ['tot_cur_bal', 'avg_cur_bal']],\n",
       " ['total_bal_ex_mort', ['total_il_high_credit_limit']],\n",
       " ['total_bc_limit', ['bc_open_to_buy']],\n",
       " ['total_il_high_credit_limit', ['total_bal_ex_mort']],\n",
       " ['good_loan', ['loan_status']]]"
      ]
     },
     "execution_count": 53,
     "metadata": {},
     "output_type": "execute_result"
    }
   ],
   "source": [
    "cor_arr=get_corr(cor,0.8)\n",
    "cor_arr"
   ]
  },
  {
   "cell_type": "code",
   "execution_count": 54,
   "metadata": {},
   "outputs": [
    {
     "name": "stdout",
     "output_type": "stream",
     "text": [
      "['good_loan']\n",
      "drop:  {'mo_sin_old_rev_tl_op', 'total_bc_limit', 'fico_range_high', 'num_sats', 'num_rev_tl_bal_gt_0', 'total_rev_hi_lim', 'num_bc_sats', 'funded_amnt_inv', 'tot_hi_cred_lim', 'num_op_rev_tl', 'installment', 'bc_util', 'total_il_high_credit_limit', 'good_loan', 'collection_recovery_fee', 'sub_grade', 'avg_cur_bal', 'total_pymnt_inv', 'num_rev_accts'}\n",
      "save:  {'total_bal_ex_mort', 'num_actv_bc_tl', 'num_bc_tl', 'fico_range_low', 'earliest_cr_line', 'tot_cur_bal', 'num_actv_rev_tl', 'loan_amnt', 'percent_bc_gt_75', 'bc_open_to_buy', 'int_rate', 'revol_util', 'recoveries', 'open_acc', 'revol_bal'}\n"
     ]
    }
   ],
   "source": [
    "resp_list=[]\n",
    "for ind,i in enumerate(cor_arr):\n",
    "    if i[0]==\"loan_status\":\n",
    "        resp_list=i[1]\n",
    "        del cor_arr[ind]\n",
    "print(resp_list)\n",
    "\n",
    "for ind,i in enumerate(cor_arr):\n",
    "    if i[0] in resp_list:\n",
    "        del cor_arr[ind]\n",
    "\n",
    "drop_cor=set()\n",
    "save_cor=set()\n",
    "\n",
    "for i in cor_arr:\n",
    "    if not i[0] in drop_cor:\n",
    "        save_cor.add(i[0])\n",
    "        drop_cor.update(i[1])\n",
    "\n",
    "drop_cor.update(resp_list)\n",
    "print(\"drop: \", drop_cor)\n",
    "print(\"save: \", save_cor)\n",
    "\n",
    "uncor_vars=list(save_cor)"
   ]
  },
  {
   "cell_type": "code",
   "execution_count": 55,
   "metadata": {
    "scrolled": true
   },
   "outputs": [
    {
     "data": {
      "text/plain": [
       "['loan_amnt',\n",
       " 'term',\n",
       " 'int_rate',\n",
       " 'emp_length',\n",
       " 'home_ownership',\n",
       " 'annual_inc',\n",
       " 'verification_status',\n",
       " 'issue_d',\n",
       " 'loan_status',\n",
       " 'purpose',\n",
       " 'addr_state',\n",
       " 'dti',\n",
       " 'delinq_2yrs',\n",
       " 'earliest_cr_line',\n",
       " 'fico_range_low',\n",
       " 'inq_last_6mths',\n",
       " 'open_acc',\n",
       " 'pub_rec',\n",
       " 'revol_bal',\n",
       " 'revol_util',\n",
       " 'total_acc',\n",
       " 'initial_list_status',\n",
       " 'total_rec_late_fee',\n",
       " 'recoveries',\n",
       " 'collections_12_mths_ex_med',\n",
       " 'acc_now_delinq',\n",
       " 'tot_coll_amt',\n",
       " 'tot_cur_bal',\n",
       " 'acc_open_past_24mths',\n",
       " 'bc_open_to_buy',\n",
       " 'chargeoff_within_12_mths',\n",
       " 'delinq_amnt',\n",
       " 'mo_sin_old_il_acct',\n",
       " 'mo_sin_rcnt_rev_tl_op',\n",
       " 'mo_sin_rcnt_tl',\n",
       " 'mort_acc',\n",
       " 'mths_since_recent_bc',\n",
       " 'mths_since_recent_inq',\n",
       " 'num_accts_ever_120_pd',\n",
       " 'num_actv_bc_tl',\n",
       " 'num_actv_rev_tl',\n",
       " 'num_bc_tl',\n",
       " 'num_il_tl',\n",
       " 'num_tl_120dpd_2m',\n",
       " 'num_tl_30dpd',\n",
       " 'num_tl_90g_dpd_24m',\n",
       " 'num_tl_op_past_12m',\n",
       " 'pct_tl_nvr_dlq',\n",
       " 'percent_bc_gt_75',\n",
       " 'pub_rec_bankruptcies',\n",
       " 'tax_liens',\n",
       " 'total_bal_ex_mort']"
      ]
     },
     "execution_count": 55,
     "metadata": {},
     "output_type": "execute_result"
    }
   ],
   "source": [
    "df.drop(list(drop_cor),axis=1,inplace=True)\n",
    "df.columns.values.tolist()"
   ]
  },
  {
   "cell_type": "markdown",
   "metadata": {},
   "source": [
    "Updating list of numeric variables:"
   ]
  },
  {
   "cell_type": "code",
   "execution_count": 56,
   "metadata": {},
   "outputs": [],
   "source": [
    "num_vars=list(df.dtypes[df.dtypes!=np.dtype('O')].index)"
   ]
  },
  {
   "cell_type": "code",
   "execution_count": 57,
   "metadata": {},
   "outputs": [
    {
     "data": {
      "text/html": [
       "<div>\n",
       "<style scoped>\n",
       "    .dataframe tbody tr th:only-of-type {\n",
       "        vertical-align: middle;\n",
       "    }\n",
       "\n",
       "    .dataframe tbody tr th {\n",
       "        vertical-align: top;\n",
       "    }\n",
       "\n",
       "    .dataframe thead th {\n",
       "        text-align: right;\n",
       "    }\n",
       "</style>\n",
       "<table border=\"1\" class=\"dataframe\">\n",
       "  <thead>\n",
       "    <tr style=\"text-align: right;\">\n",
       "      <th></th>\n",
       "      <th>loan_amnt</th>\n",
       "      <th>int_rate</th>\n",
       "      <th>annual_inc</th>\n",
       "      <th>issue_d</th>\n",
       "      <th>loan_status</th>\n",
       "      <th>dti</th>\n",
       "      <th>delinq_2yrs</th>\n",
       "      <th>earliest_cr_line</th>\n",
       "      <th>fico_range_low</th>\n",
       "      <th>inq_last_6mths</th>\n",
       "      <th>...</th>\n",
       "      <th>num_il_tl</th>\n",
       "      <th>num_tl_120dpd_2m</th>\n",
       "      <th>num_tl_30dpd</th>\n",
       "      <th>num_tl_90g_dpd_24m</th>\n",
       "      <th>num_tl_op_past_12m</th>\n",
       "      <th>pct_tl_nvr_dlq</th>\n",
       "      <th>percent_bc_gt_75</th>\n",
       "      <th>pub_rec_bankruptcies</th>\n",
       "      <th>tax_liens</th>\n",
       "      <th>total_bal_ex_mort</th>\n",
       "    </tr>\n",
       "  </thead>\n",
       "  <tbody>\n",
       "    <tr>\n",
       "      <th>count</th>\n",
       "      <td>413534.000000</td>\n",
       "      <td>413534.000000</td>\n",
       "      <td>4.135340e+05</td>\n",
       "      <td>413534.000000</td>\n",
       "      <td>413534.000000</td>\n",
       "      <td>413534.000000</td>\n",
       "      <td>413534.000000</td>\n",
       "      <td>413534.000000</td>\n",
       "      <td>413534.000000</td>\n",
       "      <td>413534.000000</td>\n",
       "      <td>...</td>\n",
       "      <td>413534.000000</td>\n",
       "      <td>403804.000000</td>\n",
       "      <td>413534.000000</td>\n",
       "      <td>413534.000000</td>\n",
       "      <td>413534.000000</td>\n",
       "      <td>413393.000000</td>\n",
       "      <td>409443.000000</td>\n",
       "      <td>413534.000000</td>\n",
       "      <td>413534.000000</td>\n",
       "      <td>4.135340e+05</td>\n",
       "    </tr>\n",
       "    <tr>\n",
       "      <th>mean</th>\n",
       "      <td>14403.164855</td>\n",
       "      <td>13.639690</td>\n",
       "      <td>7.392663e+04</td>\n",
       "      <td>13.862381</td>\n",
       "      <td>0.179702</td>\n",
       "      <td>17.819634</td>\n",
       "      <td>0.313882</td>\n",
       "      <td>53.490492</td>\n",
       "      <td>693.138339</td>\n",
       "      <td>0.748838</td>\n",
       "      <td>...</td>\n",
       "      <td>8.300812</td>\n",
       "      <td>0.000837</td>\n",
       "      <td>0.003277</td>\n",
       "      <td>0.085517</td>\n",
       "      <td>1.979450</td>\n",
       "      <td>94.578029</td>\n",
       "      <td>50.944594</td>\n",
       "      <td>0.129999</td>\n",
       "      <td>0.045846</td>\n",
       "      <td>4.669880e+04</td>\n",
       "    </tr>\n",
       "    <tr>\n",
       "      <th>std</th>\n",
       "      <td>8266.140282</td>\n",
       "      <td>4.388482</td>\n",
       "      <td>5.498279e+04</td>\n",
       "      <td>0.683788</td>\n",
       "      <td>0.383940</td>\n",
       "      <td>8.017086</td>\n",
       "      <td>0.851423</td>\n",
       "      <td>7.385449</td>\n",
       "      <td>29.260498</td>\n",
       "      <td>1.019364</td>\n",
       "      <td>...</td>\n",
       "      <td>7.154415</td>\n",
       "      <td>0.030340</td>\n",
       "      <td>0.061666</td>\n",
       "      <td>0.465747</td>\n",
       "      <td>1.619808</td>\n",
       "      <td>8.209900</td>\n",
       "      <td>34.840875</td>\n",
       "      <td>0.367329</td>\n",
       "      <td>0.378309</td>\n",
       "      <td>4.477358e+04</td>\n",
       "    </tr>\n",
       "    <tr>\n",
       "      <th>min</th>\n",
       "      <td>1000.000000</td>\n",
       "      <td>5.930000</td>\n",
       "      <td>3.000000e+03</td>\n",
       "      <td>13.000000</td>\n",
       "      <td>0.000000</td>\n",
       "      <td>0.000000</td>\n",
       "      <td>0.000000</td>\n",
       "      <td>0.000000</td>\n",
       "      <td>660.000000</td>\n",
       "      <td>0.000000</td>\n",
       "      <td>...</td>\n",
       "      <td>0.000000</td>\n",
       "      <td>0.000000</td>\n",
       "      <td>0.000000</td>\n",
       "      <td>0.000000</td>\n",
       "      <td>0.000000</td>\n",
       "      <td>7.700000</td>\n",
       "      <td>0.000000</td>\n",
       "      <td>0.000000</td>\n",
       "      <td>0.000000</td>\n",
       "      <td>0.000000e+00</td>\n",
       "    </tr>\n",
       "    <tr>\n",
       "      <th>25%</th>\n",
       "      <td>8000.000000</td>\n",
       "      <td>10.490000</td>\n",
       "      <td>4.500000e+04</td>\n",
       "      <td>13.000000</td>\n",
       "      <td>0.000000</td>\n",
       "      <td>11.790000</td>\n",
       "      <td>0.000000</td>\n",
       "      <td>50.000000</td>\n",
       "      <td>670.000000</td>\n",
       "      <td>0.000000</td>\n",
       "      <td>...</td>\n",
       "      <td>3.000000</td>\n",
       "      <td>0.000000</td>\n",
       "      <td>0.000000</td>\n",
       "      <td>0.000000</td>\n",
       "      <td>1.000000</td>\n",
       "      <td>92.000000</td>\n",
       "      <td>22.200000</td>\n",
       "      <td>0.000000</td>\n",
       "      <td>0.000000</td>\n",
       "      <td>2.000625e+04</td>\n",
       "    </tr>\n",
       "    <tr>\n",
       "      <th>50%</th>\n",
       "      <td>12050.000000</td>\n",
       "      <td>13.350000</td>\n",
       "      <td>6.366500e+04</td>\n",
       "      <td>14.000000</td>\n",
       "      <td>0.000000</td>\n",
       "      <td>17.370000</td>\n",
       "      <td>0.000000</td>\n",
       "      <td>55.000000</td>\n",
       "      <td>685.000000</td>\n",
       "      <td>0.000000</td>\n",
       "      <td>...</td>\n",
       "      <td>6.000000</td>\n",
       "      <td>0.000000</td>\n",
       "      <td>0.000000</td>\n",
       "      <td>0.000000</td>\n",
       "      <td>2.000000</td>\n",
       "      <td>100.000000</td>\n",
       "      <td>50.000000</td>\n",
       "      <td>0.000000</td>\n",
       "      <td>0.000000</td>\n",
       "      <td>3.534900e+04</td>\n",
       "    </tr>\n",
       "    <tr>\n",
       "      <th>75%</th>\n",
       "      <td>20000.000000</td>\n",
       "      <td>16.290000</td>\n",
       "      <td>9.000000e+04</td>\n",
       "      <td>14.000000</td>\n",
       "      <td>0.000000</td>\n",
       "      <td>23.530000</td>\n",
       "      <td>0.000000</td>\n",
       "      <td>58.000000</td>\n",
       "      <td>705.000000</td>\n",
       "      <td>1.000000</td>\n",
       "      <td>...</td>\n",
       "      <td>11.000000</td>\n",
       "      <td>0.000000</td>\n",
       "      <td>0.000000</td>\n",
       "      <td>0.000000</td>\n",
       "      <td>3.000000</td>\n",
       "      <td>100.000000</td>\n",
       "      <td>80.000000</td>\n",
       "      <td>0.000000</td>\n",
       "      <td>0.000000</td>\n",
       "      <td>5.854275e+04</td>\n",
       "    </tr>\n",
       "    <tr>\n",
       "      <th>max</th>\n",
       "      <td>35000.000000</td>\n",
       "      <td>26.060000</td>\n",
       "      <td>8.706582e+06</td>\n",
       "      <td>15.000000</td>\n",
       "      <td>1.000000</td>\n",
       "      <td>39.990000</td>\n",
       "      <td>29.000000</td>\n",
       "      <td>68.000000</td>\n",
       "      <td>845.000000</td>\n",
       "      <td>6.000000</td>\n",
       "      <td>...</td>\n",
       "      <td>150.000000</td>\n",
       "      <td>3.000000</td>\n",
       "      <td>4.000000</td>\n",
       "      <td>24.000000</td>\n",
       "      <td>26.000000</td>\n",
       "      <td>100.000000</td>\n",
       "      <td>100.000000</td>\n",
       "      <td>12.000000</td>\n",
       "      <td>63.000000</td>\n",
       "      <td>2.688920e+06</td>\n",
       "    </tr>\n",
       "  </tbody>\n",
       "</table>\n",
       "<p>8 rows × 45 columns</p>\n",
       "</div>"
      ],
      "text/plain": [
       "           loan_amnt       int_rate    annual_inc        issue_d  \\\n",
       "count  413534.000000  413534.000000  4.135340e+05  413534.000000   \n",
       "mean    14403.164855      13.639690  7.392663e+04      13.862381   \n",
       "std      8266.140282       4.388482  5.498279e+04       0.683788   \n",
       "min      1000.000000       5.930000  3.000000e+03      13.000000   \n",
       "25%      8000.000000      10.490000  4.500000e+04      13.000000   \n",
       "50%     12050.000000      13.350000  6.366500e+04      14.000000   \n",
       "75%     20000.000000      16.290000  9.000000e+04      14.000000   \n",
       "max     35000.000000      26.060000  8.706582e+06      15.000000   \n",
       "\n",
       "         loan_status            dti    delinq_2yrs  earliest_cr_line  \\\n",
       "count  413534.000000  413534.000000  413534.000000     413534.000000   \n",
       "mean        0.179702      17.819634       0.313882         53.490492   \n",
       "std         0.383940       8.017086       0.851423          7.385449   \n",
       "min         0.000000       0.000000       0.000000          0.000000   \n",
       "25%         0.000000      11.790000       0.000000         50.000000   \n",
       "50%         0.000000      17.370000       0.000000         55.000000   \n",
       "75%         0.000000      23.530000       0.000000         58.000000   \n",
       "max         1.000000      39.990000      29.000000         68.000000   \n",
       "\n",
       "       fico_range_low  inq_last_6mths  ...      num_il_tl  num_tl_120dpd_2m  \\\n",
       "count   413534.000000   413534.000000  ...  413534.000000     403804.000000   \n",
       "mean       693.138339        0.748838  ...       8.300812          0.000837   \n",
       "std         29.260498        1.019364  ...       7.154415          0.030340   \n",
       "min        660.000000        0.000000  ...       0.000000          0.000000   \n",
       "25%        670.000000        0.000000  ...       3.000000          0.000000   \n",
       "50%        685.000000        0.000000  ...       6.000000          0.000000   \n",
       "75%        705.000000        1.000000  ...      11.000000          0.000000   \n",
       "max        845.000000        6.000000  ...     150.000000          3.000000   \n",
       "\n",
       "        num_tl_30dpd  num_tl_90g_dpd_24m  num_tl_op_past_12m  pct_tl_nvr_dlq  \\\n",
       "count  413534.000000       413534.000000       413534.000000   413393.000000   \n",
       "mean        0.003277            0.085517            1.979450       94.578029   \n",
       "std         0.061666            0.465747            1.619808        8.209900   \n",
       "min         0.000000            0.000000            0.000000        7.700000   \n",
       "25%         0.000000            0.000000            1.000000       92.000000   \n",
       "50%         0.000000            0.000000            2.000000      100.000000   \n",
       "75%         0.000000            0.000000            3.000000      100.000000   \n",
       "max         4.000000           24.000000           26.000000      100.000000   \n",
       "\n",
       "       percent_bc_gt_75  pub_rec_bankruptcies      tax_liens  \\\n",
       "count     409443.000000         413534.000000  413534.000000   \n",
       "mean          50.944594              0.129999       0.045846   \n",
       "std           34.840875              0.367329       0.378309   \n",
       "min            0.000000              0.000000       0.000000   \n",
       "25%           22.200000              0.000000       0.000000   \n",
       "50%           50.000000              0.000000       0.000000   \n",
       "75%           80.000000              0.000000       0.000000   \n",
       "max          100.000000             12.000000      63.000000   \n",
       "\n",
       "       total_bal_ex_mort  \n",
       "count       4.135340e+05  \n",
       "mean        4.669880e+04  \n",
       "std         4.477358e+04  \n",
       "min         0.000000e+00  \n",
       "25%         2.000625e+04  \n",
       "50%         3.534900e+04  \n",
       "75%         5.854275e+04  \n",
       "max         2.688920e+06  \n",
       "\n",
       "[8 rows x 45 columns]"
      ]
     },
     "execution_count": 57,
     "metadata": {},
     "output_type": "execute_result"
    }
   ],
   "source": [
    "df.describe()"
   ]
  },
  {
   "cell_type": "markdown",
   "metadata": {
    "colab_type": "text",
    "id": "bnbHwv9-UHZW"
   },
   "source": [
    "## 3. Modelling"
   ]
  },
  {
   "cell_type": "markdown",
   "metadata": {
    "colab_type": "text",
    "id": "RKvCfsm6UHZX"
   },
   "source": [
    "Getting response variable:"
   ]
  },
  {
   "cell_type": "code",
   "execution_count": 58,
   "metadata": {
    "colab": {},
    "colab_type": "code",
    "id": "JvnA8xsiUHZY"
   },
   "outputs": [],
   "source": [
    "y=df[\"loan_status\"]\n",
    "df.drop(labels=[\"loan_status\"],axis=1, inplace=True)"
   ]
  },
  {
   "cell_type": "markdown",
   "metadata": {
    "colab_type": "text",
    "id": "b2uv4EHpUHZh"
   },
   "source": [
    "Splitting into the train and test sets:"
   ]
  },
  {
   "cell_type": "code",
   "execution_count": 59,
   "metadata": {
    "colab": {},
    "colab_type": "code",
    "id": "pDvof_q0UHZi"
   },
   "outputs": [],
   "source": [
    "X_train, X_test, y_train, y_test = train_test_split(df,y,test_size=0.3, random_state=30, stratify=y)"
   ]
  },
  {
   "cell_type": "markdown",
   "metadata": {
    "colab_type": "text",
    "id": "jxatDY-EUHYe"
   },
   "source": [
    "Getting the list of object variables:"
   ]
  },
  {
   "cell_type": "code",
   "execution_count": 60,
   "metadata": {
    "colab": {
     "base_uri": "https://localhost:8080/",
     "height": 300
    },
    "colab_type": "code",
    "id": "SZ1yJ3eVUHYg",
    "outputId": "f4777452-bf75-4c38-d442-6e30519a70a4"
   },
   "outputs": [
    {
     "data": {
      "text/html": [
       "<div>\n",
       "<style scoped>\n",
       "    .dataframe tbody tr th:only-of-type {\n",
       "        vertical-align: middle;\n",
       "    }\n",
       "\n",
       "    .dataframe tbody tr th {\n",
       "        vertical-align: top;\n",
       "    }\n",
       "\n",
       "    .dataframe thead th {\n",
       "        text-align: right;\n",
       "    }\n",
       "</style>\n",
       "<table border=\"1\" class=\"dataframe\">\n",
       "  <thead>\n",
       "    <tr style=\"text-align: right;\">\n",
       "      <th></th>\n",
       "      <th>count</th>\n",
       "      <th>unique</th>\n",
       "      <th>top</th>\n",
       "      <th>freq</th>\n",
       "    </tr>\n",
       "  </thead>\n",
       "  <tbody>\n",
       "    <tr>\n",
       "      <th>term</th>\n",
       "      <td>413534</td>\n",
       "      <td>2</td>\n",
       "      <td>36 months</td>\n",
       "      <td>318766</td>\n",
       "    </tr>\n",
       "    <tr>\n",
       "      <th>emp_length</th>\n",
       "      <td>392515</td>\n",
       "      <td>11</td>\n",
       "      <td>15</td>\n",
       "      <td>136937</td>\n",
       "    </tr>\n",
       "    <tr>\n",
       "      <th>home_ownership</th>\n",
       "      <td>413534</td>\n",
       "      <td>4</td>\n",
       "      <td>MORTGAGE</td>\n",
       "      <td>208980</td>\n",
       "    </tr>\n",
       "    <tr>\n",
       "      <th>verification_status</th>\n",
       "      <td>413534</td>\n",
       "      <td>3</td>\n",
       "      <td>Source Verified</td>\n",
       "      <td>144197</td>\n",
       "    </tr>\n",
       "    <tr>\n",
       "      <th>purpose</th>\n",
       "      <td>413534</td>\n",
       "      <td>13</td>\n",
       "      <td>debt_consolidation</td>\n",
       "      <td>249729</td>\n",
       "    </tr>\n",
       "    <tr>\n",
       "      <th>addr_state</th>\n",
       "      <td>413534</td>\n",
       "      <td>10</td>\n",
       "      <td>DEFAULT</td>\n",
       "      <td>183659</td>\n",
       "    </tr>\n",
       "    <tr>\n",
       "      <th>initial_list_status</th>\n",
       "      <td>413534</td>\n",
       "      <td>2</td>\n",
       "      <td>f</td>\n",
       "      <td>238504</td>\n",
       "    </tr>\n",
       "  </tbody>\n",
       "</table>\n",
       "</div>"
      ],
      "text/plain": [
       "                      count unique                 top    freq\n",
       "term                 413534      2           36 months  318766\n",
       "emp_length           392515     11                  15  136937\n",
       "home_ownership       413534      4            MORTGAGE  208980\n",
       "verification_status  413534      3     Source Verified  144197\n",
       "purpose              413534     13  debt_consolidation  249729\n",
       "addr_state           413534     10             DEFAULT  183659\n",
       "initial_list_status  413534      2                   f  238504"
      ]
     },
     "execution_count": 60,
     "metadata": {},
     "output_type": "execute_result"
    }
   ],
   "source": [
    "obj_vars=list(df.dtypes[df.dtypes==np.dtype('O')].index)\n",
    "num_vars=list(df.dtypes[df.dtypes!=np.dtype('O')].index)\n",
    "df[obj_vars].describe().T"
   ]
  },
  {
   "cell_type": "markdown",
   "metadata": {
    "colab_type": "text",
    "id": "KOX2U_6jUHYm"
   },
   "source": [
    "Transforming them with One-Hot-Encoder in train and test sets separately. NA values of object variables are transformed in a new categories. NA values of numeric variables will be imputed in pipeline."
   ]
  },
  {
   "cell_type": "code",
   "execution_count": 61,
   "metadata": {},
   "outputs": [],
   "source": [
    "X_train=pd.concat([X_train[num_vars],\n",
    "                   pd.get_dummies(\n",
    "                       X_train[obj_vars],dummy_na=True)], axis=1)\n",
    "\n",
    "X_test=pd.concat([X_test[num_vars],\n",
    "                   pd.get_dummies(\n",
    "                       X_test[obj_vars],dummy_na=True)], axis=1)"
   ]
  },
  {
   "cell_type": "markdown",
   "metadata": {
    "colab_type": "text",
    "id": "Tdsh5eZ2-7Kk"
   },
   "source": [
    "Comparing categories in train and test sets. dropping unique columns of test set."
   ]
  },
  {
   "cell_type": "code",
   "execution_count": 62,
   "metadata": {
    "colab": {
     "base_uri": "https://localhost:8080/",
     "height": 54
    },
    "colab_type": "code",
    "id": "6_0PPGbF_2BK",
    "outputId": "39319d4f-1322-47a2-c9a9-9a773199d9c3"
   },
   "outputs": [
    {
     "name": "stdout",
     "output_type": "stream",
     "text": [
      "set()\n",
      "{'home_ownership_ANY'}\n"
     ]
    }
   ],
   "source": [
    "a=set(X_train.columns.values)\n",
    "b=set(X_test.columns.values)\n",
    "print(a.difference(b))\n",
    "print(b.difference(a))"
   ]
  },
  {
   "cell_type": "code",
   "execution_count": 63,
   "metadata": {
    "colab": {},
    "colab_type": "code",
    "id": "EdGGoUHr-6Kn"
   },
   "outputs": [],
   "source": [
    "\n",
    "X_test.drop(labels=list(b.difference(a)),axis=1, inplace=True)\n",
    "c= list(a.difference(b))\n",
    "for i in c:\n",
    "  X_test[i]=0"
   ]
  },
  {
   "cell_type": "markdown",
   "metadata": {
    "colab_type": "text",
    "id": "afCWoP_JUHZa"
   },
   "source": [
    "Casting dataframe into float:"
   ]
  },
  {
   "cell_type": "code",
   "execution_count": 64,
   "metadata": {
    "colab": {},
    "colab_type": "code",
    "id": "yz-a-QeIUHZa",
    "scrolled": true
   },
   "outputs": [],
   "source": [
    "X_train = X_train.astype(dtype=\"float64\")\n",
    "X_test = X_test.astype(dtype=\"float64\")"
   ]
  },
  {
   "cell_type": "markdown",
   "metadata": {
    "colab_type": "text",
    "id": "-WNrApeCUHZr"
   },
   "source": [
    "Log regression pipeline with Grid Search:"
   ]
  },
  {
   "cell_type": "code",
   "execution_count": 65,
   "metadata": {
    "colab": {
     "base_uri": "https://localhost:8080/",
     "height": 221
    },
    "colab_type": "code",
    "id": "4kFOhV9aUHZs",
    "outputId": "3a01c271-98de-450c-b897-780c93c03196"
   },
   "outputs": [
    {
     "data": {
      "text/plain": [
       "GridSearchCV(cv=5, error_score='raise-deprecating',\n",
       "       estimator=Pipeline(memory=None,\n",
       "     steps=[('imputer', SimpleImputer(copy=True, fill_value=None, missing_values=nan, strategy='mean',\n",
       "       verbose=0)), ('scaler', StandardScaler(copy=True, with_mean=True, with_std=True)), ('logit_reg', LogisticRegression(C=1.0, class_weight=None, dual=False, fit_...nalty='l2', random_state=None, solver='lbfgs',\n",
       "          tol=0.0001, verbose=0, warm_start=False))]),\n",
       "       fit_params=None, iid='warn', n_jobs=None,\n",
       "       param_grid={'logit_reg__C': [0.001], 'logit_reg__penalty': ['l2']},\n",
       "       pre_dispatch='2*n_jobs', refit=True, return_train_score='warn',\n",
       "       scoring=None, verbose=0)"
      ]
     },
     "execution_count": 65,
     "metadata": {},
     "output_type": "execute_result"
    }
   ],
   "source": [
    "lr_steps = [('imputer',SimpleImputer(missing_values=np.nan, strategy='mean')),\n",
    "            ('scaler', StandardScaler()),\n",
    "            ('logit_reg', LogisticRegression(solver=\"lbfgs\"))]\n",
    "pl_lr = Pipeline(lr_steps) # define the pipeline object.\n",
    "\n",
    "#lr_params = {'logit_reg__C': [1e-07*(10**i) for i in range(1,9,1)], 'logit_reg__penalty':[\"l2\"]}\n",
    "lr_params = {'logit_reg__C': [1e-03], 'logit_reg__penalty':[\"l2\"]}\n",
    "\n",
    "lr = GridSearchCV(pl_lr, lr_params, cv=5)\n",
    "lr.fit(X_train, y_train)"
   ]
  },
  {
   "cell_type": "markdown",
   "metadata": {},
   "source": [
    "Score:"
   ]
  },
  {
   "cell_type": "code",
   "execution_count": 66,
   "metadata": {
    "colab": {
     "base_uri": "https://localhost:8080/",
     "height": 293
    },
    "colab_type": "code",
    "id": "5AjVpuTEUHZy",
    "outputId": "0ea24d91-9a37-4b2d-c475-5f8fde3a20e9"
   },
   "outputs": [
    {
     "name": "stdout",
     "output_type": "stream",
     "text": [
      "{'logit_reg__C': 0.001, 'logit_reg__penalty': 'l2'}\n",
      "auc: 0.905\n"
     ]
    }
   ],
   "source": [
    "print(lr.best_params_ )\n",
    "probs=lr.predict_proba(X_train)[:,1]\n",
    "print(\"auc: {0:.3f}\".format(roc_auc_score(y_train,probs)))"
   ]
  },
  {
   "cell_type": "markdown",
   "metadata": {},
   "source": [
    "Variable importance:"
   ]
  },
  {
   "cell_type": "code",
   "execution_count": 67,
   "metadata": {},
   "outputs": [
    {
     "name": "stdout",
     "output_type": "stream",
     "text": [
      "variable importance names, descending:\n",
      " ['recoveries' 'int_rate' 'total_rec_late_fee' 'annual_inc'\n",
      " 'term_ 60 months']\n",
      "variable importance coefs, descending:\n",
      " [ 3.54887724  0.24900783  0.21043472 -0.18098606  0.16610287]\n"
     ]
    }
   ],
   "source": [
    "t=lr.best_estimator_\n",
    "cofs=t.steps[2][1].coef_[0]\n",
    "imp_ind=np.flip(np.argsort(abs(cofs)))\n",
    "nms=X_train.columns.values\n",
    "print(\"variable importance names, descending:\\n\",nms[imp_ind][0:5])\n",
    "print(\"variable importance coefs, descending:\\n\",cofs[imp_ind][0:5])"
   ]
  },
  {
   "cell_type": "markdown",
   "metadata": {},
   "source": [
    "Decision tree pipeline:"
   ]
  },
  {
   "cell_type": "code",
   "execution_count": 68,
   "metadata": {},
   "outputs": [
    {
     "data": {
      "text/plain": [
       "GridSearchCV(cv=3, error_score='raise-deprecating',\n",
       "       estimator=Pipeline(memory=None,\n",
       "     steps=[('imputer', SimpleImputer(copy=True, fill_value=None, missing_values=nan, strategy='mean',\n",
       "       verbose=0)), ('scaler', StandardScaler(copy=True, with_mean=True, with_std=True)), ('tree', DecisionTreeClassifier(class_weight=None, criterion='gini', max_depth=None,\n",
       "            max_features=No...plit=2, min_weight_fraction_leaf=0.0,\n",
       "            presort=False, random_state=42, splitter='best'))]),\n",
       "       fit_params=None, iid='warn', n_jobs=None, param_grid={},\n",
       "       pre_dispatch='2*n_jobs', refit=True, return_train_score='warn',\n",
       "       scoring=None, verbose=0)"
      ]
     },
     "execution_count": 68,
     "metadata": {},
     "output_type": "execute_result"
    }
   ],
   "source": [
    "tr_steps = [('imputer',SimpleImputer(missing_values=np.nan, strategy='mean')),\n",
    "             ('scaler', StandardScaler()),\n",
    "             ('tree', DecisionTreeClassifier(random_state=42, max_leaf_nodes=5))]\n",
    "pl_tr = Pipeline(tr_steps) # define the pipeline object.\n",
    "tr_params = {}\n",
    "tr = GridSearchCV(pl_tr, tr_params, cv=3)\n",
    "tr.fit(X_train, y_train)"
   ]
  },
  {
   "cell_type": "markdown",
   "metadata": {},
   "source": [
    "Score:"
   ]
  },
  {
   "cell_type": "code",
   "execution_count": 69,
   "metadata": {},
   "outputs": [
    {
     "name": "stdout",
     "output_type": "stream",
     "text": [
      "{}\n",
      "auc: 0.906\n"
     ]
    }
   ],
   "source": [
    "print(tr.best_params_ )\n",
    "probs=tr.predict_proba(X_train)[:,1]\n",
    "print(\"auc: {0:.3f}\".format(roc_auc_score(y_train,probs)))"
   ]
  },
  {
   "cell_type": "markdown",
   "metadata": {},
   "source": [
    "Variable importance:"
   ]
  },
  {
   "cell_type": "code",
   "execution_count": 70,
   "metadata": {},
   "outputs": [
    {
     "name": "stdout",
     "output_type": "stream",
     "text": [
      "variable importance names, descending:\n",
      " ['recoveries' 'term_ 60 months' 'total_rec_late_fee' 'issue_d' 'num_il_tl']\n",
      "variable importance coefs, descending:\n",
      " [0.98056015 0.0106409  0.00499186 0.0038071  0.        ]\n"
     ]
    }
   ],
   "source": [
    "t=tr.best_estimator_\n",
    "cofs=t.steps[2][1].feature_importances_ \n",
    "imp_ind=np.flip(np.argsort(abs(cofs)))\n",
    "nms=X_train.columns.values\n",
    "print(\"variable importance names, descending:\\n\",nms[imp_ind][0:5])\n",
    "print(\"variable importance coefs, descending:\\n\",cofs[imp_ind][0:5])"
   ]
  },
  {
   "cell_type": "markdown",
   "metadata": {},
   "source": [
    "Random forest pipeline:"
   ]
  },
  {
   "cell_type": "code",
   "execution_count": null,
   "metadata": {},
   "outputs": [
    {
     "name": "stderr",
     "output_type": "stream",
     "text": [
      "C:\\ProgramData\\Anaconda3\\lib\\site-packages\\sklearn\\ensemble\\forest.py:246: FutureWarning: The default value of n_estimators will change from 10 in version 0.20 to 100 in 0.22.\n",
      "  \"10 in version 0.20 to 100 in 0.22.\", FutureWarning)\n",
      "C:\\ProgramData\\Anaconda3\\lib\\site-packages\\sklearn\\ensemble\\forest.py:246: FutureWarning: The default value of n_estimators will change from 10 in version 0.20 to 100 in 0.22.\n",
      "  \"10 in version 0.20 to 100 in 0.22.\", FutureWarning)\n",
      "C:\\ProgramData\\Anaconda3\\lib\\site-packages\\sklearn\\ensemble\\forest.py:246: FutureWarning: The default value of n_estimators will change from 10 in version 0.20 to 100 in 0.22.\n",
      "  \"10 in version 0.20 to 100 in 0.22.\", FutureWarning)\n",
      "C:\\ProgramData\\Anaconda3\\lib\\site-packages\\sklearn\\ensemble\\forest.py:246: FutureWarning: The default value of n_estimators will change from 10 in version 0.20 to 100 in 0.22.\n",
      "  \"10 in version 0.20 to 100 in 0.22.\", FutureWarning)\n"
     ]
    },
    {
     "data": {
      "text/plain": [
       "GridSearchCV(cv=3, error_score='raise-deprecating',\n",
       "       estimator=Pipeline(memory=None,\n",
       "     steps=[('imputer', SimpleImputer(copy=True, fill_value=None, missing_values=nan, strategy='mean',\n",
       "       verbose=0)), ('scaler', StandardScaler(copy=True, with_mean=True, with_std=True)), ('rf', RandomForestClassifier(bootstrap=True, class_weight=None, criterion='gini',\n",
       "            max_depth=None, m...rs='warn', n_jobs=None,\n",
       "            oob_score=False, random_state=42, verbose=0, warm_start=False))]),\n",
       "       fit_params=None, iid='warn', n_jobs=None, param_grid={},\n",
       "       pre_dispatch='2*n_jobs', refit=True, return_train_score='warn',\n",
       "       scoring=None, verbose=0)"
      ]
     },
     "execution_count": 71,
     "metadata": {},
     "output_type": "execute_result"
    }
   ],
   "source": [
    "rf_steps = [('imputer',SimpleImputer(missing_values=np.nan, strategy='mean')),\n",
    "             ('scaler', StandardScaler()),\n",
    "             ('rf', RandomForestClassifier(random_state=42))]\n",
    "pl_rf = Pipeline(rf_steps) # define the pipeline object.\n",
    "rf_params = {}\n",
    "rf = GridSearchCV(pl_rf, rf_params, cv=3)\n",
    "rf.fit(X_train, y_train)"
   ]
  },
  {
   "cell_type": "markdown",
   "metadata": {},
   "source": [
    "Score:"
   ]
  },
  {
   "cell_type": "code",
   "execution_count": null,
   "metadata": {},
   "outputs": [
    {
     "name": "stdout",
     "output_type": "stream",
     "text": [
      "{}\n",
      "auc: 1.000\n"
     ]
    }
   ],
   "source": [
    "print(rf.best_params_ )\n",
    "probs=rf.predict_proba(X_train)[:,1]\n",
    "print(\"auc: {0:.3f}\".format(roc_auc_score(y_train,probs)))"
   ]
  },
  {
   "cell_type": "markdown",
   "metadata": {},
   "source": [
    "Variable importance:"
   ]
  },
  {
   "cell_type": "code",
   "execution_count": null,
   "metadata": {},
   "outputs": [
    {
     "name": "stdout",
     "output_type": "stream",
     "text": [
      "variable importance names, descending:\n",
      " ['recoveries' 'int_rate' 'dti' 'bc_open_to_buy' 'annual_inc']\n",
      "variable importance coefs, descending:\n",
      " [0.54245405 0.02923272 0.01880208 0.01656639 0.01628662]\n"
     ]
    }
   ],
   "source": [
    "t=rf.best_estimator_\n",
    "cofs=t.steps[2][1].feature_importances_ \n",
    "imp_ind=np.flip(np.argsort(abs(cofs)))\n",
    "nms=X_train.columns.values\n",
    "print(\"variable importance names, descending:\\n\",nms[imp_ind][0:5])\n",
    "print(\"variable importance coefs, descending:\\n\",cofs[imp_ind][0:5])"
   ]
  },
  {
   "cell_type": "markdown",
   "metadata": {
    "colab_type": "text",
    "id": "eCAASPHPUHaM"
   },
   "source": [
    "Gradient boosting pipeline with Grid Search:"
   ]
  },
  {
   "cell_type": "code",
   "execution_count": null,
   "metadata": {
    "colab": {
     "base_uri": "https://localhost:8080/",
     "height": 239
    },
    "colab_type": "code",
    "id": "dCco5jjCUHaO",
    "outputId": "ba0a4213-ffbc-4972-8424-c42b22eacfcf"
   },
   "outputs": [],
   "source": [
    "gbm_steps = [('imputer',SimpleImputer(missing_values=np.nan, strategy='mean')),\n",
    "             ('scaler', StandardScaler()),\n",
    "             ('gbm', GradientBoostingClassifier())]\n",
    "pl_gbm = Pipeline(gbm_steps) # define the pipeline object.\n",
    "#gbm_params = {'gbm__learning_rate': [1e-04*(10**i) for i in range(1,5,1)], 'gbm__n_estimators':[i for i in range(20,160,20)]}\n",
    "gbm_params = {'gbm__learning_rate': [0.1], 'gbm__n_estimators':[100]}\n",
    "gbm = GridSearchCV(pl_gbm, gbm_params, cv=3)\n",
    "gbm.fit(X_train, y_train)"
   ]
  },
  {
   "cell_type": "markdown",
   "metadata": {},
   "source": [
    "Score:"
   ]
  },
  {
   "cell_type": "code",
   "execution_count": null,
   "metadata": {
    "colab": {
     "base_uri": "https://localhost:8080/",
     "height": 54
    },
    "colab_type": "code",
    "id": "45AWFGW8a2TT",
    "outputId": "a435cade-dd22-4f3c-e69a-0eb5aadbc874"
   },
   "outputs": [],
   "source": [
    "print(gbm.best_params_ )\n",
    "probs=gbm.predict_proba(X_train)[:,1]\n",
    "print(\"auc: {0:.3f}\".format(roc_auc_score(y_train,probs)))"
   ]
  },
  {
   "cell_type": "markdown",
   "metadata": {
    "colab_type": "text",
    "id": "hk4dn4_qdngb"
   },
   "source": [
    "Variable importance:"
   ]
  },
  {
   "cell_type": "code",
   "execution_count": null,
   "metadata": {
    "colab": {
     "base_uri": "https://localhost:8080/",
     "height": 35
    },
    "colab_type": "code",
    "id": "uBa79Uv4b8KG",
    "outputId": "6ce1747e-be46-426c-da9f-058c4b8730f6"
   },
   "outputs": [],
   "source": [
    "t=gbm.best_estimator_\n",
    "cofs=t.steps[2][1].feature_importances_ \n",
    "imp_ind=np.flip(np.argsort(abs(cofs)))\n",
    "nms=X_train.columns.values\n",
    "print(\"variable importance names, descending:\\n\",nms[imp_ind][0:5])\n",
    "print(\"variable importance coefs, descending:\\n\",cofs[imp_ind][0:5])"
   ]
  },
  {
   "cell_type": "markdown",
   "metadata": {
    "colab_type": "text",
    "id": "X4-teLmaUHaT"
   },
   "source": [
    "## 4. Model selection"
   ]
  },
  {
   "cell_type": "code",
   "execution_count": null,
   "metadata": {
    "colab": {},
    "colab_type": "code",
    "id": "gRqSs464UHaU"
   },
   "outputs": [],
   "source": [
    "def get_thr(y_test, test_probs,thr): \n",
    "    t=tpr-fpr\n",
    "    ind=np.argmax(t[tpr>=thr])\n",
    "    return threshold[ind]"
   ]
  },
  {
   "cell_type": "code",
   "execution_count": null,
   "metadata": {
    "colab": {},
    "colab_type": "code",
    "id": "ousuho9DUHaY"
   },
   "outputs": [],
   "source": [
    "def plot_roc(y_test, test_probs,tit):\n",
    "    fpr, tpr, threshold=roc_curve(y_test, test_probs)\n",
    "    roc_auc = auc(fpr, tpr)\n",
    "    # method I: plt\n",
    "    import matplotlib.pyplot as plt\n",
    "    plt.title(tit)\n",
    "    plt.plot(fpr, tpr, 'b', label = 'AUC = %0.2f' % roc_auc)\n",
    "    plt.legend(loc = 'lower right')\n",
    "    plt.plot([0, 1], [0, 1],'r--')\n",
    "    plt.xlim([0, 1])\n",
    "    plt.ylim([0, 1])\n",
    "    plt.ylabel('True Positive Rate')\n",
    "    plt.xlabel('False Positive Rate')\n",
    "    plt.show()\n"
   ]
  },
  {
   "cell_type": "code",
   "execution_count": null,
   "metadata": {
    "colab": {
     "base_uri": "https://localhost:8080/",
     "height": 1129
    },
    "colab_type": "code",
    "id": "XGKVFGJGUHad",
    "outputId": "f2fcebdc-8c07-406f-8b6d-b61074db3655"
   },
   "outputs": [],
   "source": [
    "gbm_probs=gbm.predict_proba(X_test)[:,1]\n",
    "lr_probs=lr.predict_proba(X_test)[:,1]\n",
    "rf_probs=rf.predict_proba(X_test)[:,1]\n",
    "tr_probs=tr.predict_proba(X_test)[:,1]\n",
    "probs_arr=[lr_probs,tr_probs,rf_probs,gbm_probs]\n",
    "nms=[\"Logistic regression\",\"Decision Tree\",\"Random Forest\",\"GBM\"]\n",
    "for ind,i in enumerate(probs_arr):\n",
    "    plot_roc(y_test, i,nms[ind])"
   ]
  },
  {
   "cell_type": "code",
   "execution_count": null,
   "metadata": {},
   "outputs": [],
   "source": []
  }
 ],
 "metadata": {
  "accelerator": "GPU",
  "colab": {
   "collapsed_sections": [],
   "name": "task_1505.ipynb",
   "provenance": [],
   "version": "0.3.2"
  },
  "kernelspec": {
   "display_name": "Python 3",
   "language": "python",
   "name": "python3"
  },
  "language_info": {
   "codemirror_mode": {
    "name": "ipython",
    "version": 3
   },
   "file_extension": ".py",
   "mimetype": "text/x-python",
   "name": "python",
   "nbconvert_exporter": "python",
   "pygments_lexer": "ipython3",
   "version": "3.7.3"
  }
 },
 "nbformat": 4,
 "nbformat_minor": 1
}
