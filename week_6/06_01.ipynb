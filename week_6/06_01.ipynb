{
 "cells": [
  {
   "cell_type": "code",
   "execution_count": 1,
   "metadata": {},
   "outputs": [],
   "source": [
    "# отключим всякие предупреждения Anaconda\n",
    "import warnings\n",
    "warnings.filterwarnings('ignore')\n",
    "import numpy as np\n",
    "import pandas as pd\n",
    "from sklearn.metrics.regression import mean_squared_error\n",
    "from sklearn.preprocessing import StandardScaler\n",
    "from sklearn.model_selection import GridSearchCV\n",
    "from sklearn.model_selection import cross_val_score, train_test_split\n",
    "from sklearn.linear_model import LinearRegression, LassoCV, Lasso\n",
    "from sklearn.ensemble import RandomForestRegressor"
   ]
  },
  {
   "cell_type": "code",
   "execution_count": 3,
   "metadata": {},
   "outputs": [
    {
     "data": {
      "text/html": [
       "<div>\n",
       "<style scoped>\n",
       "    .dataframe tbody tr th:only-of-type {\n",
       "        vertical-align: middle;\n",
       "    }\n",
       "\n",
       "    .dataframe tbody tr th {\n",
       "        vertical-align: top;\n",
       "    }\n",
       "\n",
       "    .dataframe thead th {\n",
       "        text-align: right;\n",
       "    }\n",
       "</style>\n",
       "<table border=\"1\" class=\"dataframe\">\n",
       "  <thead>\n",
       "    <tr style=\"text-align: right;\">\n",
       "      <th></th>\n",
       "      <th>fixed acidity</th>\n",
       "      <th>volatile acidity</th>\n",
       "      <th>citric acid</th>\n",
       "      <th>residual sugar</th>\n",
       "      <th>chlorides</th>\n",
       "      <th>free sulfur dioxide</th>\n",
       "      <th>total sulfur dioxide</th>\n",
       "      <th>density</th>\n",
       "      <th>pH</th>\n",
       "      <th>sulphates</th>\n",
       "      <th>alcohol</th>\n",
       "      <th>quality</th>\n",
       "    </tr>\n",
       "  </thead>\n",
       "  <tbody>\n",
       "    <tr>\n",
       "      <th>0</th>\n",
       "      <td>7.0</td>\n",
       "      <td>0.27</td>\n",
       "      <td>0.36</td>\n",
       "      <td>20.7</td>\n",
       "      <td>0.045</td>\n",
       "      <td>45.0</td>\n",
       "      <td>170.0</td>\n",
       "      <td>1.0010</td>\n",
       "      <td>3.00</td>\n",
       "      <td>0.45</td>\n",
       "      <td>8.8</td>\n",
       "      <td>6</td>\n",
       "    </tr>\n",
       "    <tr>\n",
       "      <th>1</th>\n",
       "      <td>6.3</td>\n",
       "      <td>0.30</td>\n",
       "      <td>0.34</td>\n",
       "      <td>1.6</td>\n",
       "      <td>0.049</td>\n",
       "      <td>14.0</td>\n",
       "      <td>132.0</td>\n",
       "      <td>0.9940</td>\n",
       "      <td>3.30</td>\n",
       "      <td>0.49</td>\n",
       "      <td>9.5</td>\n",
       "      <td>6</td>\n",
       "    </tr>\n",
       "    <tr>\n",
       "      <th>2</th>\n",
       "      <td>8.1</td>\n",
       "      <td>0.28</td>\n",
       "      <td>0.40</td>\n",
       "      <td>6.9</td>\n",
       "      <td>0.050</td>\n",
       "      <td>30.0</td>\n",
       "      <td>97.0</td>\n",
       "      <td>0.9951</td>\n",
       "      <td>3.26</td>\n",
       "      <td>0.44</td>\n",
       "      <td>10.1</td>\n",
       "      <td>6</td>\n",
       "    </tr>\n",
       "    <tr>\n",
       "      <th>3</th>\n",
       "      <td>7.2</td>\n",
       "      <td>0.23</td>\n",
       "      <td>0.32</td>\n",
       "      <td>8.5</td>\n",
       "      <td>0.058</td>\n",
       "      <td>47.0</td>\n",
       "      <td>186.0</td>\n",
       "      <td>0.9956</td>\n",
       "      <td>3.19</td>\n",
       "      <td>0.40</td>\n",
       "      <td>9.9</td>\n",
       "      <td>6</td>\n",
       "    </tr>\n",
       "    <tr>\n",
       "      <th>4</th>\n",
       "      <td>7.2</td>\n",
       "      <td>0.23</td>\n",
       "      <td>0.32</td>\n",
       "      <td>8.5</td>\n",
       "      <td>0.058</td>\n",
       "      <td>47.0</td>\n",
       "      <td>186.0</td>\n",
       "      <td>0.9956</td>\n",
       "      <td>3.19</td>\n",
       "      <td>0.40</td>\n",
       "      <td>9.9</td>\n",
       "      <td>6</td>\n",
       "    </tr>\n",
       "  </tbody>\n",
       "</table>\n",
       "</div>"
      ],
      "text/plain": [
       "   fixed acidity  volatile acidity  citric acid  residual sugar  chlorides  \\\n",
       "0            7.0              0.27         0.36            20.7      0.045   \n",
       "1            6.3              0.30         0.34             1.6      0.049   \n",
       "2            8.1              0.28         0.40             6.9      0.050   \n",
       "3            7.2              0.23         0.32             8.5      0.058   \n",
       "4            7.2              0.23         0.32             8.5      0.058   \n",
       "\n",
       "   free sulfur dioxide  total sulfur dioxide  density    pH  sulphates  \\\n",
       "0                 45.0                 170.0   1.0010  3.00       0.45   \n",
       "1                 14.0                 132.0   0.9940  3.30       0.49   \n",
       "2                 30.0                  97.0   0.9951  3.26       0.44   \n",
       "3                 47.0                 186.0   0.9956  3.19       0.40   \n",
       "4                 47.0                 186.0   0.9956  3.19       0.40   \n",
       "\n",
       "   alcohol  quality  \n",
       "0      8.8        6  \n",
       "1      9.5        6  \n",
       "2     10.1        6  \n",
       "3      9.9        6  \n",
       "4      9.9        6  "
      ]
     },
     "execution_count": 3,
     "metadata": {},
     "output_type": "execute_result"
    }
   ],
   "source": [
    "data = pd.read_csv('winequality-white.csv')\n",
    "data.head()\n"
   ]
  },
  {
   "cell_type": "code",
   "execution_count": 4,
   "metadata": {},
   "outputs": [
    {
     "name": "stdout",
     "output_type": "stream",
     "text": [
      "<class 'pandas.core.frame.DataFrame'>\n",
      "RangeIndex: 4898 entries, 0 to 4897\n",
      "Data columns (total 12 columns):\n",
      "fixed acidity           4898 non-null float64\n",
      "volatile acidity        4898 non-null float64\n",
      "citric acid             4898 non-null float64\n",
      "residual sugar          4898 non-null float64\n",
      "chlorides               4898 non-null float64\n",
      "free sulfur dioxide     4898 non-null float64\n",
      "total sulfur dioxide    4898 non-null float64\n",
      "density                 4898 non-null float64\n",
      "pH                      4898 non-null float64\n",
      "sulphates               4898 non-null float64\n",
      "alcohol                 4898 non-null float64\n",
      "quality                 4898 non-null int64\n",
      "dtypes: float64(11), int64(1)\n",
      "memory usage: 459.3 KB\n"
     ]
    }
   ],
   "source": [
    "data.info()"
   ]
  },
  {
   "cell_type": "markdown",
   "metadata": {},
   "source": [
    "Отделите целевой признак, разделите обучающую выборку в отношении 7:3 (30% - под оставленную выборку, пусть random_state=17) и отмасштабируйте данные с помощью StandardScaler.\n"
   ]
  },
  {
   "cell_type": "code",
   "execution_count": 6,
   "metadata": {},
   "outputs": [
    {
     "data": {
      "text/html": [
       "<div>\n",
       "<style scoped>\n",
       "    .dataframe tbody tr th:only-of-type {\n",
       "        vertical-align: middle;\n",
       "    }\n",
       "\n",
       "    .dataframe tbody tr th {\n",
       "        vertical-align: top;\n",
       "    }\n",
       "\n",
       "    .dataframe thead th {\n",
       "        text-align: right;\n",
       "    }\n",
       "</style>\n",
       "<table border=\"1\" class=\"dataframe\">\n",
       "  <thead>\n",
       "    <tr style=\"text-align: right;\">\n",
       "      <th></th>\n",
       "      <th>0</th>\n",
       "    </tr>\n",
       "  </thead>\n",
       "  <tbody>\n",
       "    <tr>\n",
       "      <th>fixed acidity</th>\n",
       "      <td>7.000</td>\n",
       "    </tr>\n",
       "    <tr>\n",
       "      <th>volatile acidity</th>\n",
       "      <td>0.270</td>\n",
       "    </tr>\n",
       "    <tr>\n",
       "      <th>citric acid</th>\n",
       "      <td>0.360</td>\n",
       "    </tr>\n",
       "    <tr>\n",
       "      <th>residual sugar</th>\n",
       "      <td>20.700</td>\n",
       "    </tr>\n",
       "    <tr>\n",
       "      <th>chlorides</th>\n",
       "      <td>0.045</td>\n",
       "    </tr>\n",
       "    <tr>\n",
       "      <th>free sulfur dioxide</th>\n",
       "      <td>45.000</td>\n",
       "    </tr>\n",
       "    <tr>\n",
       "      <th>total sulfur dioxide</th>\n",
       "      <td>170.000</td>\n",
       "    </tr>\n",
       "    <tr>\n",
       "      <th>density</th>\n",
       "      <td>1.001</td>\n",
       "    </tr>\n",
       "    <tr>\n",
       "      <th>pH</th>\n",
       "      <td>3.000</td>\n",
       "    </tr>\n",
       "    <tr>\n",
       "      <th>sulphates</th>\n",
       "      <td>0.450</td>\n",
       "    </tr>\n",
       "    <tr>\n",
       "      <th>alcohol</th>\n",
       "      <td>8.800</td>\n",
       "    </tr>\n",
       "  </tbody>\n",
       "</table>\n",
       "</div>"
      ],
      "text/plain": [
       "                            0\n",
       "fixed acidity           7.000\n",
       "volatile acidity        0.270\n",
       "citric acid             0.360\n",
       "residual sugar         20.700\n",
       "chlorides               0.045\n",
       "free sulfur dioxide    45.000\n",
       "total sulfur dioxide  170.000\n",
       "density                 1.001\n",
       "pH                      3.000\n",
       "sulphates               0.450\n",
       "alcohol                 8.800"
      ]
     },
     "execution_count": 6,
     "metadata": {},
     "output_type": "execute_result"
    }
   ],
   "source": [
    "y=data[\"quality\"]\n",
    "data.drop(\"quality\",axis=1,inplace=True)\n",
    "data.head(1).T"
   ]
  },
  {
   "cell_type": "markdown",
   "metadata": {},
   "source": [
    "X_train, X_holdout, y_train, y_holdout=train_test_split(data, y, test_size=0.3, random_state=17)\n",
    "scaler=StandardScaler()\n",
    "scaler.fit(X_train)"
   ]
  },
  {
   "cell_type": "code",
   "execution_count": 10,
   "metadata": {},
   "outputs": [],
   "source": [
    "X_train, X_holdout, y_train, y_holdout=train_test_split(data, y, test_size=0.3, random_state=17)\n",
    "scaler=StandardScaler()\n",
    "scaler.fit(X_train)\n",
    "X_train_scaled = scaler.transform(X_train)\n",
    "X_holdout_scaled = scaler.transform(X_holdout)"
   ]
  },
  {
   "cell_type": "markdown",
   "metadata": {},
   "source": [
    "Обучите простую линейную регрессию.\n",
    "\n"
   ]
  },
  {
   "cell_type": "code",
   "execution_count": 11,
   "metadata": {},
   "outputs": [
    {
     "data": {
      "text/plain": [
       "LinearRegression(copy_X=True, fit_intercept=True, n_jobs=None,\n",
       "         normalize=False)"
      ]
     },
     "execution_count": 11,
     "metadata": {},
     "output_type": "execute_result"
    }
   ],
   "source": [
    "linreg = LinearRegression()\n",
    "linreg.fit(X_train,y_train)"
   ]
  },
  {
   "cell_type": "markdown",
   "metadata": {},
   "source": [
    "#### Вопрос 1: Каковы среднеквадратичные ошибки линейной регрессии на обучающей и отложенной выборках?\n",
    "\n"
   ]
  },
  {
   "cell_type": "code",
   "execution_count": 13,
   "metadata": {},
   "outputs": [],
   "source": [
    "lr_train_pred=linreg.predict(X_train)\n",
    "lr_test_pred=linreg.predict(X_holdout)"
   ]
  },
  {
   "cell_type": "code",
   "execution_count": 14,
   "metadata": {},
   "outputs": [
    {
     "name": "stdout",
     "output_type": "stream",
     "text": [
      "Mean squared error (train): 0.558\n",
      "Mean squared error (test): 1.023\n"
     ]
    }
   ],
   "source": [
    "print(\"Mean squared error (train): %.3f\" % mean_squared_error(lr_train_pred,y_train))\n",
    "print(\"Mean squared error (test): %.3f\" % mean_squared_error(lr_test_pred,y_test))"
   ]
  },
  {
   "cell_type": "markdown",
   "metadata": {},
   "source": [
    "Посмотрите на коэффициенты модели и отранжируйте признаки по влиянию на качество вина (учтите, что большие по модулю отрицательные значения коэффициентов тоже говорят о сильном влиянии). Создайте для этого новый небольшой DataFrame.\n",
    "\n",
    "#### Вопрос 2: Какой признак линейная регрессия считает наиболее сильно влияющим на качество вина?\n"
   ]
  },
  {
   "cell_type": "code",
   "execution_count": 51,
   "metadata": {},
   "outputs": [
    {
     "data": {
      "text/plain": [
       "density                -227.551202\n",
       "volatile acidity         -1.886874\n",
       "citric acid              -0.001485\n",
       "total sulfur dioxide      0.000333\n",
       "free sulfur dioxide       0.002439\n",
       "alcohol                   0.105264\n",
       "residual sugar            0.108183\n",
       "fixed acidity             0.113731\n",
       "chlorides                 0.352051\n",
       "sulphates                 0.552495\n",
       "pH                        0.995830\n",
       "Name: 0, dtype: float64"
      ]
     },
     "execution_count": 51,
     "metadata": {},
     "output_type": "execute_result"
    }
   ],
   "source": [
    "linreg_coef = pd.DataFrame (data=linreg.coef_.reshape(1,-1),index=[0],columns=data.columns.values)\n",
    "linreg_coef.iloc[0,:].sort_values()"
   ]
  },
  {
   "cell_type": "markdown",
   "metadata": {},
   "source": [
    "## Lasso-регрессия"
   ]
  },
  {
   "cell_type": "markdown",
   "metadata": {},
   "source": [
    "Обучите Lasso-регрессию с небольшим коэффициентом α=0.01 (слабая регуляризация). Пусть опять random_state=17."
   ]
  },
  {
   "cell_type": "code",
   "execution_count": 52,
   "metadata": {},
   "outputs": [
    {
     "data": {
      "text/plain": [
       "Lasso(alpha=0.01, copy_X=True, fit_intercept=True, max_iter=1000,\n",
       "   normalize=False, positive=False, precompute=False, random_state=17,\n",
       "   selection='cyclic', tol=0.0001, warm_start=False)"
      ]
     },
     "execution_count": 52,
     "metadata": {},
     "output_type": "execute_result"
    }
   ],
   "source": [
    "lasso1 = Lasso (alpha=0.01,random_state=17)\n",
    "lasso1.fit(X_train,y_train)"
   ]
  },
  {
   "cell_type": "markdown",
   "metadata": {},
   "source": [
    "Посмотрите на коэффициенты модели и отранжируйте признаки по влиянию на качество вина. Какой признак \"отвалился\" первым, то есть наименее важен для объяснения целевого признака в модели Lasso?\n",
    "\n"
   ]
  },
  {
   "cell_type": "code",
   "execution_count": 56,
   "metadata": {},
   "outputs": [
    {
     "name": "stdout",
     "output_type": "stream",
     "text": [
      "[ 0.         -0.         -0.          0.          0.         -0.00110804\n",
      "  0.00522263  0.02223106 -0.05977011  0.35208333 -0.96790921]\n"
     ]
    },
    {
     "data": {
      "text/plain": [
       "array(['citric acid', 'chlorides', 'density', 'pH', 'sulphates',\n",
       "       'total sulfur dioxide', 'free sulfur dioxide', 'residual sugar',\n",
       "       'fixed acidity', 'alcohol', 'volatile acidity'], dtype=object)"
      ]
     },
     "execution_count": 56,
     "metadata": {},
     "output_type": "execute_result"
    }
   ],
   "source": [
    "ind=np.argsort(abs(lasso1.coef_))\n",
    "print(lasso1.coef_[ind])\n",
    "data.columns.values[ind]"
   ]
  },
  {
   "cell_type": "markdown",
   "metadata": {},
   "source": [
    "Теперь определите лучшее значение α в процессе кросс-валидации 5-кратной кросс-валидации. Используйте LassoCV и random_state=17."
   ]
  },
  {
   "cell_type": "code",
   "execution_count": 106,
   "metadata": {},
   "outputs": [
    {
     "data": {
      "text/plain": [
       "LassoCV(alphas=array([1.00000e-06, 1.09699e-06, ..., 9.11589e+01, 1.00000e+02]),\n",
       "    copy_X=True, cv=5, eps=0.001, fit_intercept=True, max_iter=1000,\n",
       "    n_alphas=100, n_jobs=None, normalize=False, positive=False,\n",
       "    precompute='auto', random_state=None, selection='cyclic', tol=0.0001,\n",
       "    verbose=False)"
      ]
     },
     "execution_count": 106,
     "metadata": {},
     "output_type": "execute_result"
    }
   ],
   "source": [
    "alphas = np.logspace(-6, 2, 200)\n",
    "lasso_cv = LassoCV(alphas=alphas,cv=5)\n",
    "lasso_cv.fit(X_train,y_train)"
   ]
  },
  {
   "cell_type": "code",
   "execution_count": 107,
   "metadata": {},
   "outputs": [
    {
     "data": {
      "text/plain": [
       "1e-06"
      ]
     },
     "execution_count": 107,
     "metadata": {},
     "output_type": "execute_result"
    }
   ],
   "source": [
    "lasso_cv.alpha_"
   ]
  },
  {
   "cell_type": "markdown",
   "metadata": {},
   "source": [
    "Выведите коэффициенты \"лучшего\" Lasso в порядке убывания влияния на качество вина. \n"
   ]
  },
  {
   "cell_type": "code",
   "execution_count": 108,
   "metadata": {},
   "outputs": [
    {
     "data": {
      "text/plain": [
       "array([1.00000000e-06, 1.09698580e-06, 1.20337784e-06, 1.32008840e-06,\n",
       "       1.44811823e-06, 1.58856513e-06, 1.74263339e-06, 1.91164408e-06,\n",
       "       2.09704640e-06, 2.30043012e-06, 2.52353917e-06, 2.76828663e-06,\n",
       "       3.03677112e-06, 3.33129479e-06, 3.65438307e-06, 4.00880633e-06,\n",
       "       4.39760361e-06, 4.82410870e-06, 5.29197874e-06, 5.80522552e-06,\n",
       "       6.36824994e-06, 6.98587975e-06, 7.66341087e-06, 8.40665289e-06,\n",
       "       9.22197882e-06, 1.01163798e-05, 1.10975250e-05, 1.21738273e-05,\n",
       "       1.33545156e-05, 1.46497140e-05, 1.60705282e-05, 1.76291412e-05,\n",
       "       1.93389175e-05, 2.12145178e-05, 2.32720248e-05, 2.55290807e-05,\n",
       "       2.80050389e-05, 3.07211300e-05, 3.37006433e-05, 3.69691271e-05,\n",
       "       4.05546074e-05, 4.44878283e-05, 4.88025158e-05, 5.35356668e-05,\n",
       "       5.87278661e-05, 6.44236351e-05, 7.06718127e-05, 7.75259749e-05,\n",
       "       8.50448934e-05, 9.32930403e-05, 1.02341140e-04, 1.12266777e-04,\n",
       "       1.23155060e-04, 1.35099352e-04, 1.48202071e-04, 1.62575567e-04,\n",
       "       1.78343088e-04, 1.95639834e-04, 2.14614120e-04, 2.35428641e-04,\n",
       "       2.83309610e-04, 3.10786619e-04, 2.58261876e-04, 3.40928507e-04,\n",
       "       3.73993730e-04, 4.10265811e-04, 4.50055768e-04, 4.93704785e-04,\n",
       "       5.41587138e-04, 5.94113398e-04, 6.51733960e-04, 7.14942899e-04,\n",
       "       7.84282206e-04, 8.60346442e-04, 9.43787828e-04, 1.03532184e-03,\n",
       "       1.13573336e-03, 1.24588336e-03, 1.36671636e-03, 1.49926843e-03,\n",
       "       1.64467618e-03, 1.80418641e-03, 1.97916687e-03, 2.17111795e-03,\n",
       "       2.38168555e-03, 2.61267523e-03, 2.86606762e-03, 3.14403547e-03,\n",
       "       3.44896226e-03, 3.78346262e-03, 4.15040476e-03, 4.55293507e-03,\n",
       "       4.99450512e-03, 5.47890118e-03, 6.01027678e-03, 6.59318827e-03,\n",
       "       7.23263390e-03, 7.93409667e-03, 8.70359136e-03, 9.54771611e-03,\n",
       "       1.04737090e-02, 1.14895100e-02, 1.26038293e-02, 1.38262217e-02,\n",
       "       1.51671689e-02, 1.66381689e-02, 1.82518349e-02, 2.00220037e-02,\n",
       "       2.19638537e-02, 2.40940356e-02, 2.64308149e-02, 2.89942285e-02,\n",
       "       3.18062569e-02, 3.48910121e-02, 3.82749448e-02, 4.19870708e-02,\n",
       "       4.60592204e-02, 5.05263107e-02, 5.54266452e-02, 6.08022426e-02,\n",
       "       6.66991966e-02, 7.31680714e-02, 8.02643352e-02, 8.80488358e-02,\n",
       "       9.65883224e-02, 1.05956018e-01, 1.16232247e-01, 1.27505124e-01,\n",
       "       1.39871310e-01, 1.53436841e-01, 1.68318035e-01, 1.84642494e-01,\n",
       "       2.02550194e-01, 2.22194686e-01, 2.43744415e-01, 2.67384162e-01,\n",
       "       2.93316628e-01, 3.21764175e-01, 3.52970730e-01, 3.87203878e-01,\n",
       "       4.24757155e-01, 4.65952567e-01, 5.11143348e-01, 5.60716994e-01,\n",
       "       6.15098579e-01, 6.74754405e-01, 7.40196000e-01, 8.11984499e-01,\n",
       "       8.90735464e-01, 9.77124154e-01, 1.07189132e+00, 1.17584955e+00,\n",
       "       1.28989026e+00, 1.41499130e+00, 1.55222536e+00, 1.70276917e+00,\n",
       "       1.86791360e+00, 2.04907469e+00, 2.24780583e+00, 2.46581108e+00,\n",
       "       2.70495973e+00, 2.96730241e+00, 3.25508860e+00, 3.57078596e+00,\n",
       "       3.91710149e+00, 4.29700470e+00, 4.71375313e+00, 5.17092024e+00,\n",
       "       5.67242607e+00, 6.22257084e+00, 9.11588830e+01, 8.30994195e+01,\n",
       "       7.57525026e+01, 6.90551352e+01, 6.29498899e+01, 5.73844165e+01,\n",
       "       3.00183581e+01, 5.23109931e+01, 4.76861170e+01, 4.34701316e+01,\n",
       "       3.96268864e+01, 3.61234270e+01, 3.29297126e+01, 2.73644000e+01,\n",
       "       1.18953407e+01, 2.27396575e+01, 2.07292178e+01, 1.88965234e+01,\n",
       "       1.72258597e+01, 1.57029012e+01, 1.43145894e+01, 1.30490198e+01,\n",
       "       1.08436597e+01, 9.88495905e+00, 9.01101825e+00, 8.21434358e+00,\n",
       "       7.48810386e+00, 6.82607183e+00, 2.49450814e+01, 1.00000000e+02])"
      ]
     },
     "execution_count": 108,
     "metadata": {},
     "output_type": "execute_result"
    }
   ],
   "source": [
    "mean_mse=np.apply_along_axis(np.mean,1,lasso_cv.mse_path_)\n",
    "ind=np.argsort(mean_mse)\n",
    "lasso_cv.alphas_[ind]\n"
   ]
  },
  {
   "cell_type": "markdown",
   "metadata": {},
   "source": [
    "#### Вопрос 3: Какой признак \"обнулился первым\" в настроенной модели LASSO?"
   ]
  },
  {
   "cell_type": "code",
   "execution_count": 109,
   "metadata": {},
   "outputs": [
    {
     "name": "stdout",
     "output_type": "stream",
     "text": [
      "[ 3.14166676e-04 -2.44425025e-03  2.46628936e-03  1.06579118e-01\n",
      "  1.10345260e-01  1.10440187e-01  3.31071245e-01  5.46349237e-01\n",
      "  9.81016020e-01 -1.88845064e+00 -2.23055887e+02]\n"
     ]
    },
    {
     "data": {
      "text/plain": [
       "array(['total sulfur dioxide', 'citric acid', 'free sulfur dioxide',\n",
       "       'residual sugar', 'fixed acidity', 'alcohol', 'chlorides',\n",
       "       'sulphates', 'pH', 'volatile acidity', 'density'], dtype=object)"
      ]
     },
     "execution_count": 109,
     "metadata": {},
     "output_type": "execute_result"
    }
   ],
   "source": [
    "ind=np.argsort(abs(lasso_cv.coef_))\n",
    "print(lasso_cv.coef_[ind])\n",
    "data.columns.values[ind]"
   ]
  },
  {
   "cell_type": "markdown",
   "metadata": {},
   "source": [
    "#### Вопрос 4: Каковы среднеквадратичные ошибки настроенной LASSO-регрессии на обучающей и отложенной выборках?\n",
    "\n"
   ]
  },
  {
   "cell_type": "code",
   "execution_count": 111,
   "metadata": {},
   "outputs": [
    {
     "name": "stdout",
     "output_type": "stream",
     "text": [
      "Mean squared error (train): 0.558\n",
      "Mean squared error (test): 1.022\n"
     ]
    }
   ],
   "source": [
    "lcv_train_pred=lasso_cv.predict(X_train)\n",
    "lcv_test_pred=lasso_cv.predict(X_holdout)\n",
    "print(\"Mean squared error (train): %.3f\" % mean_squared_error(lcv_train_pred,y_train))\n",
    "print(\"Mean squared error (test): %.3f\" % mean_squared_error(lcv_test_pred,y_test))"
   ]
  },
  {
   "cell_type": "markdown",
   "metadata": {},
   "source": [
    "## Случайный лес"
   ]
  },
  {
   "cell_type": "markdown",
   "metadata": {},
   "source": [
    "Обучите случайный лес с параметрами \"из коробки\", фиксируя только random_state=17.\n",
    "\n"
   ]
  },
  {
   "cell_type": "code",
   "execution_count": 113,
   "metadata": {},
   "outputs": [
    {
     "data": {
      "text/plain": [
       "RandomForestRegressor(bootstrap=True, criterion='mse', max_depth=None,\n",
       "           max_features='auto', max_leaf_nodes=None,\n",
       "           min_impurity_decrease=0.0, min_impurity_split=None,\n",
       "           min_samples_leaf=1, min_samples_split=2,\n",
       "           min_weight_fraction_leaf=0.0, n_estimators=10, n_jobs=None,\n",
       "           oob_score=False, random_state=17, verbose=0, warm_start=False)"
      ]
     },
     "execution_count": 113,
     "metadata": {},
     "output_type": "execute_result"
    }
   ],
   "source": [
    "forest = RandomForestRegressor(random_state=17)\n",
    "forest.fit(X_train,y_train)"
   ]
  },
  {
   "cell_type": "markdown",
   "metadata": {},
   "source": [
    "#### Вопрос 5: Каковы среднеквадратичные ошибки случайного леса на обучающей выборке, на кросс-валидации (F с scoring='neg_mean_squared_error' и остальными параметрами по умолчанию) и на отложенной выборке?\n",
    "\n"
   ]
  },
  {
   "cell_type": "code",
   "execution_count": 115,
   "metadata": {},
   "outputs": [
    {
     "data": {
      "text/plain": [
       "array([-0.51040245, -0.43199475, -0.44222417])"
      ]
     },
     "execution_count": 115,
     "metadata": {},
     "output_type": "execute_result"
    }
   ],
   "source": [
    "cross_val_score(forest,X_train,y_train,scoring='neg_mean_squared_error')"
   ]
  },
  {
   "cell_type": "code",
   "execution_count": 120,
   "metadata": {},
   "outputs": [
    {
     "name": "stdout",
     "output_type": "stream",
     "text": [
      "Mean squared error (train): 0.076\n",
      "Mean squared error (cv): -0.462\n",
      "Mean squared error (test): 1.185\n"
     ]
    }
   ],
   "source": [
    "rf_score=np.mean(cross_val_score(forest,X_train,y_train,scoring='neg_mean_squared_error'))\n",
    "rf_train_pred=forest.predict(X_train)\n",
    "rf_test_pred=forest.predict(X_holdout)\n",
    "print(\"Mean squared error (train): %.3f\" % mean_squared_error(rf_train_pred,y_train))\n",
    "print(\"Mean squared error (cv): %.3f\" % rf_score)\n",
    "print(\"Mean squared error (test): %.3f\" % mean_squared_error(rf_test_pred,y_test))"
   ]
  },
  {
   "cell_type": "markdown",
   "metadata": {},
   "source": [
    "Настройте параметры min_samples_leaf и max_depth с помощью GridSearchCV и опять проверьте качество модели на кросс-валидации и на отложенной выборке.\n",
    "\n"
   ]
  },
  {
   "cell_type": "code",
   "execution_count": 123,
   "metadata": {},
   "outputs": [
    {
     "data": {
      "text/plain": [
       "GridSearchCV(cv='warn', error_score='raise-deprecating',\n",
       "       estimator=RandomForestRegressor(bootstrap=True, criterion='mse', max_depth=None,\n",
       "           max_features='auto', max_leaf_nodes=None,\n",
       "           min_impurity_decrease=0.0, min_impurity_split=None,\n",
       "           min_samples_leaf=1, min_samples_split=2,\n",
       "           min_weight_fraction_leaf=0.0, n_estimators=10, n_jobs=None,\n",
       "           oob_score=False, random_state=17, verbose=0, warm_start=False),\n",
       "       fit_params=None, iid='warn', n_jobs=None,\n",
       "       param_grid={'max_features': [6, 7, 8, 9, 10, 11]},\n",
       "       pre_dispatch='2*n_jobs', refit=True, return_train_score='warn',\n",
       "       scoring=None, verbose=0)"
      ]
     },
     "execution_count": 123,
     "metadata": {},
     "output_type": "execute_result"
    }
   ],
   "source": [
    "#forest_params = {'max_depth': list(range(10, 25)), \n",
    "#                 'min_samples_leaf': list(range(1, 8)),\n",
    "#                 'max_features': list(range(6,12))}\n",
    "forest_params={'max_features': list(range(6,12))}\n",
    "locally_best_forest = GridSearchCV (forest,forest_params)\n",
    "locally_best_forest.fit(X_train,y_train)"
   ]
  },
  {
   "cell_type": "code",
   "execution_count": 126,
   "metadata": {},
   "outputs": [
    {
     "data": {
      "text/plain": [
       "({'max_features': 7}, 0.4203774705355304)"
      ]
     },
     "execution_count": 126,
     "metadata": {},
     "output_type": "execute_result"
    }
   ],
   "source": [
    "locally_best_forest.best_params_, locally_best_forest.best_score_\n"
   ]
  },
  {
   "cell_type": "markdown",
   "metadata": {},
   "source": [
    "#### Вопрос 6: Каковы среднеквадратичные ошибки настроенного случайного леса на обучающей выборке, на кросс-валидации (cross_val_score с scoring='neg_mean_squared_error') и на отложенной выборке?"
   ]
  },
  {
   "cell_type": "code",
   "execution_count": 128,
   "metadata": {},
   "outputs": [
    {
     "name": "stdout",
     "output_type": "stream",
     "text": [
      "Mean squared error (train): 0.077\n",
      "Mean squared error (cv): -0.460\n",
      "Mean squared error (test): 1.162\n"
     ]
    }
   ],
   "source": [
    "lrf_score=np.mean(cross_val_score(locally_best_forest,X_train,y_train,scoring='neg_mean_squared_error'))\n",
    "lrf_train_pred=locally_best_forest.predict(X_train)\n",
    "lrf_test_pred=locally_best_forest.predict(X_holdout)\n",
    "print(\"Mean squared error (train): %.3f\" % mean_squared_error(lrf_train_pred,y_train))\n",
    "print(\"Mean squared error (cv): %.3f\" % lrf_score)\n",
    "print(\"Mean squared error (test): %.3f\" % mean_squared_error(lrf_test_pred,y_test))"
   ]
  },
  {
   "cell_type": "markdown",
   "metadata": {},
   "source": [
    "Оцените важность признаков с помощью случайного леса.\n",
    "#### Вопрос 7: Какой признак оказался главным в настроенной модели случайного леса?\n",
    "\n"
   ]
  },
  {
   "cell_type": "code",
   "execution_count": 136,
   "metadata": {},
   "outputs": [
    {
     "name": "stdout",
     "output_type": "stream",
     "text": [
      "[0.22733369 0.11777514 0.11179527 0.07321616 0.07316469 0.07171586\n",
      " 0.0712499  0.07094106 0.06337424 0.06223566 0.05719833]\n",
      "['alcohol' 'volatile acidity' 'free sulfur dioxide' 'total sulfur dioxide'\n",
      " 'density' 'pH' 'chlorides' 'residual sugar' 'citric acid' 'fixed acidity'\n",
      " 'sulphates']\n"
     ]
    }
   ],
   "source": [
    "imp=locally_best_forest.best_estimator_.feature_importances_\n",
    "ind=np.flip(np.argsort(imp))\n",
    "print(imp[ind])\n",
    "print(data.columns.values[ind])"
   ]
  },
  {
   "cell_type": "code",
   "execution_count": null,
   "metadata": {},
   "outputs": [],
   "source": []
  }
 ],
 "metadata": {
  "kernelspec": {
   "display_name": "Python 3",
   "language": "python",
   "name": "python3"
  },
  "language_info": {
   "codemirror_mode": {
    "name": "ipython",
    "version": 3
   },
   "file_extension": ".py",
   "mimetype": "text/x-python",
   "name": "python",
   "nbconvert_exporter": "python",
   "pygments_lexer": "ipython3",
   "version": "3.7.3"
  }
 },
 "nbformat": 4,
 "nbformat_minor": 2
}
