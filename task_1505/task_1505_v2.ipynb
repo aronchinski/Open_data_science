{
  "nbformat": 4,
  "nbformat_minor": 0,
  "metadata": {
    "colab": {
      "name": "task_1505.ipynb",
      "version": "0.3.2",
      "provenance": [],
      "collapsed_sections": []
    },
    "language_info": {
      "codemirror_mode": {
        "name": "ipython",
        "version": 3
      },
      "file_extension": ".py",
      "mimetype": "text/x-python",
      "name": "python",
      "nbconvert_exporter": "python",
      "pygments_lexer": "ipython3",
      "version": "3.7.3"
    },
    "kernelspec": {
      "name": "python3",
      "display_name": "Python 3"
    },
    "accelerator": "GPU"
  },
  "cells": [
    {
      "cell_type": "markdown",
      "metadata": {
        "id": "94vlB5BGUHRJ",
        "colab_type": "text"
      },
      "source": [
        "## 1. Preprocessing"
      ]
    },
    {
      "cell_type": "code",
      "metadata": {
        "id": "uj66B4CZUHRS",
        "colab_type": "code",
        "colab": {}
      },
      "source": [
        "import pandas as pd\n",
        "import numpy as np\n",
        "import matplotlib.pyplot as plt\n",
        "from sklearn.pipeline import Pipeline\n",
        "from sklearn.preprocessing import StandardScaler\n",
        "from sklearn.linear_model import LogisticRegression\n",
        "from sklearn.model_selection import train_test_split\n",
        "from sklearn.metrics import accuracy_score, roc_auc_score \n",
        "from sklearn.metrics import confusion_matrix\n",
        "from sklearn.model_selection import GridSearchCV\n",
        "from sklearn.metrics import roc_curve, auc\n",
        "import seaborn as sns\n",
        "from sklearn.ensemble import GradientBoostingClassifier\n",
        "from sklearn.base import clone\n",
        "from sklearn import preprocessing"
      ],
      "execution_count": 0,
      "outputs": []
    },
    {
      "cell_type": "markdown",
      "metadata": {
        "id": "Y1ZaFH_GUHRk",
        "colab_type": "text"
      },
      "source": [
        "Reading CSV:"
      ]
    },
    {
      "cell_type": "code",
      "metadata": {
        "id": "kj4o1uJ0UHRn",
        "colab_type": "code",
        "colab": {}
      },
      "source": [
        "df=pd.read_csv(\"train.csv\")"
      ],
      "execution_count": 0,
      "outputs": []
    },
    {
      "cell_type": "markdown",
      "metadata": {
        "id": "Qfy8Ak89UHR0",
        "colab_type": "text"
      },
      "source": [
        "First look:"
      ]
    },
    {
      "cell_type": "code",
      "metadata": {
        "scrolled": true,
        "id": "jzHHSzsWUHR5",
        "colab_type": "code",
        "outputId": "6b03b87f-d4eb-4689-82bb-810302f831c8",
        "colab": {
          "base_uri": "https://localhost:8080/",
          "height": 1179
        }
      },
      "source": [
        "df.describe(include=\"all\").T"
      ],
      "execution_count": 4,
      "outputs": [
        {
          "output_type": "execute_result",
          "data": {
            "text/html": [
              "<div>\n",
              "<style scoped>\n",
              "    .dataframe tbody tr th:only-of-type {\n",
              "        vertical-align: middle;\n",
              "    }\n",
              "\n",
              "    .dataframe tbody tr th {\n",
              "        vertical-align: top;\n",
              "    }\n",
              "\n",
              "    .dataframe thead th {\n",
              "        text-align: right;\n",
              "    }\n",
              "</style>\n",
              "<table border=\"1\" class=\"dataframe\">\n",
              "  <thead>\n",
              "    <tr style=\"text-align: right;\">\n",
              "      <th></th>\n",
              "      <th>count</th>\n",
              "      <th>unique</th>\n",
              "      <th>top</th>\n",
              "      <th>freq</th>\n",
              "      <th>mean</th>\n",
              "      <th>std</th>\n",
              "      <th>min</th>\n",
              "      <th>25%</th>\n",
              "      <th>50%</th>\n",
              "      <th>75%</th>\n",
              "      <th>max</th>\n",
              "    </tr>\n",
              "  </thead>\n",
              "  <tbody>\n",
              "    <tr>\n",
              "      <th>loan_amnt</th>\n",
              "      <td>200189</td>\n",
              "      <td>NaN</td>\n",
              "      <td>NaN</td>\n",
              "      <td>NaN</td>\n",
              "      <td>13661</td>\n",
              "      <td>8170.42</td>\n",
              "      <td>500</td>\n",
              "      <td>7500</td>\n",
              "      <td>12000</td>\n",
              "      <td>18700</td>\n",
              "      <td>35000</td>\n",
              "    </tr>\n",
              "    <tr>\n",
              "      <th>term</th>\n",
              "      <td>200189</td>\n",
              "      <td>2</td>\n",
              "      <td>36 months</td>\n",
              "      <td>153900</td>\n",
              "      <td>NaN</td>\n",
              "      <td>NaN</td>\n",
              "      <td>NaN</td>\n",
              "      <td>NaN</td>\n",
              "      <td>NaN</td>\n",
              "      <td>NaN</td>\n",
              "      <td>NaN</td>\n",
              "    </tr>\n",
              "    <tr>\n",
              "      <th>int_rate</th>\n",
              "      <td>200189</td>\n",
              "      <td>NaN</td>\n",
              "      <td>NaN</td>\n",
              "      <td>NaN</td>\n",
              "      <td>13.8778</td>\n",
              "      <td>4.42672</td>\n",
              "      <td>5.32</td>\n",
              "      <td>10.99</td>\n",
              "      <td>13.66</td>\n",
              "      <td>16.78</td>\n",
              "      <td>28.99</td>\n",
              "    </tr>\n",
              "    <tr>\n",
              "      <th>installment</th>\n",
              "      <td>200189</td>\n",
              "      <td>NaN</td>\n",
              "      <td>NaN</td>\n",
              "      <td>NaN</td>\n",
              "      <td>420.482</td>\n",
              "      <td>245.688</td>\n",
              "      <td>15.69</td>\n",
              "      <td>242.55</td>\n",
              "      <td>367.13</td>\n",
              "      <td>549.74</td>\n",
              "      <td>1424.57</td>\n",
              "    </tr>\n",
              "    <tr>\n",
              "      <th>grade</th>\n",
              "      <td>200189</td>\n",
              "      <td>7</td>\n",
              "      <td>B</td>\n",
              "      <td>58822</td>\n",
              "      <td>NaN</td>\n",
              "      <td>NaN</td>\n",
              "      <td>NaN</td>\n",
              "      <td>NaN</td>\n",
              "      <td>NaN</td>\n",
              "      <td>NaN</td>\n",
              "      <td>NaN</td>\n",
              "    </tr>\n",
              "    <tr>\n",
              "      <th>sub_grade</th>\n",
              "      <td>200189</td>\n",
              "      <td>35</td>\n",
              "      <td>B3</td>\n",
              "      <td>13915</td>\n",
              "      <td>NaN</td>\n",
              "      <td>NaN</td>\n",
              "      <td>NaN</td>\n",
              "      <td>NaN</td>\n",
              "      <td>NaN</td>\n",
              "      <td>NaN</td>\n",
              "      <td>NaN</td>\n",
              "    </tr>\n",
              "    <tr>\n",
              "      <th>emp_title</th>\n",
              "      <td>189062</td>\n",
              "      <td>107730</td>\n",
              "      <td>Manager</td>\n",
              "      <td>1599</td>\n",
              "      <td>NaN</td>\n",
              "      <td>NaN</td>\n",
              "      <td>NaN</td>\n",
              "      <td>NaN</td>\n",
              "      <td>NaN</td>\n",
              "      <td>NaN</td>\n",
              "      <td>NaN</td>\n",
              "    </tr>\n",
              "    <tr>\n",
              "      <th>emp_length</th>\n",
              "      <td>192135</td>\n",
              "      <td>11</td>\n",
              "      <td>10+ years</td>\n",
              "      <td>60786</td>\n",
              "      <td>NaN</td>\n",
              "      <td>NaN</td>\n",
              "      <td>NaN</td>\n",
              "      <td>NaN</td>\n",
              "      <td>NaN</td>\n",
              "      <td>NaN</td>\n",
              "      <td>NaN</td>\n",
              "    </tr>\n",
              "    <tr>\n",
              "      <th>home_ownership</th>\n",
              "      <td>200189</td>\n",
              "      <td>6</td>\n",
              "      <td>MORTGAGE</td>\n",
              "      <td>98279</td>\n",
              "      <td>NaN</td>\n",
              "      <td>NaN</td>\n",
              "      <td>NaN</td>\n",
              "      <td>NaN</td>\n",
              "      <td>NaN</td>\n",
              "      <td>NaN</td>\n",
              "      <td>NaN</td>\n",
              "    </tr>\n",
              "    <tr>\n",
              "      <th>annual_inc</th>\n",
              "      <td>200189</td>\n",
              "      <td>NaN</td>\n",
              "      <td>NaN</td>\n",
              "      <td>NaN</td>\n",
              "      <td>72374.5</td>\n",
              "      <td>57375.1</td>\n",
              "      <td>3000</td>\n",
              "      <td>45000</td>\n",
              "      <td>62000</td>\n",
              "      <td>87000</td>\n",
              "      <td>8.70658e+06</td>\n",
              "    </tr>\n",
              "    <tr>\n",
              "      <th>verification_status</th>\n",
              "      <td>200189</td>\n",
              "      <td>3</td>\n",
              "      <td>Verified</td>\n",
              "      <td>73431</td>\n",
              "      <td>NaN</td>\n",
              "      <td>NaN</td>\n",
              "      <td>NaN</td>\n",
              "      <td>NaN</td>\n",
              "      <td>NaN</td>\n",
              "      <td>NaN</td>\n",
              "      <td>NaN</td>\n",
              "    </tr>\n",
              "    <tr>\n",
              "      <th>issue_d</th>\n",
              "      <td>200189</td>\n",
              "      <td>103</td>\n",
              "      <td>Oct-2014</td>\n",
              "      <td>7370</td>\n",
              "      <td>NaN</td>\n",
              "      <td>NaN</td>\n",
              "      <td>NaN</td>\n",
              "      <td>NaN</td>\n",
              "      <td>NaN</td>\n",
              "      <td>NaN</td>\n",
              "      <td>NaN</td>\n",
              "    </tr>\n",
              "    <tr>\n",
              "      <th>loan_status</th>\n",
              "      <td>200189</td>\n",
              "      <td>NaN</td>\n",
              "      <td>NaN</td>\n",
              "      <td>NaN</td>\n",
              "      <td>0.77757</td>\n",
              "      <td>0.415879</td>\n",
              "      <td>0</td>\n",
              "      <td>1</td>\n",
              "      <td>1</td>\n",
              "      <td>1</td>\n",
              "      <td>1</td>\n",
              "    </tr>\n",
              "    <tr>\n",
              "      <th>pymnt_plan</th>\n",
              "      <td>200189</td>\n",
              "      <td>2</td>\n",
              "      <td>n</td>\n",
              "      <td>200183</td>\n",
              "      <td>NaN</td>\n",
              "      <td>NaN</td>\n",
              "      <td>NaN</td>\n",
              "      <td>NaN</td>\n",
              "      <td>NaN</td>\n",
              "      <td>NaN</td>\n",
              "      <td>NaN</td>\n",
              "    </tr>\n",
              "    <tr>\n",
              "      <th>purpose</th>\n",
              "      <td>200189</td>\n",
              "      <td>14</td>\n",
              "      <td>debt_consolidation</td>\n",
              "      <td>117953</td>\n",
              "      <td>NaN</td>\n",
              "      <td>NaN</td>\n",
              "      <td>NaN</td>\n",
              "      <td>NaN</td>\n",
              "      <td>NaN</td>\n",
              "      <td>NaN</td>\n",
              "      <td>NaN</td>\n",
              "    </tr>\n",
              "    <tr>\n",
              "      <th>zip_code</th>\n",
              "      <td>200189</td>\n",
              "      <td>877</td>\n",
              "      <td>945xx</td>\n",
              "      <td>2583</td>\n",
              "      <td>NaN</td>\n",
              "      <td>NaN</td>\n",
              "      <td>NaN</td>\n",
              "      <td>NaN</td>\n",
              "      <td>NaN</td>\n",
              "      <td>NaN</td>\n",
              "      <td>NaN</td>\n",
              "    </tr>\n",
              "    <tr>\n",
              "      <th>addr_state</th>\n",
              "      <td>200189</td>\n",
              "      <td>51</td>\n",
              "      <td>CA</td>\n",
              "      <td>33852</td>\n",
              "      <td>NaN</td>\n",
              "      <td>NaN</td>\n",
              "      <td>NaN</td>\n",
              "      <td>NaN</td>\n",
              "      <td>NaN</td>\n",
              "      <td>NaN</td>\n",
              "      <td>NaN</td>\n",
              "    </tr>\n",
              "    <tr>\n",
              "      <th>dti</th>\n",
              "      <td>200189</td>\n",
              "      <td>NaN</td>\n",
              "      <td>NaN</td>\n",
              "      <td>NaN</td>\n",
              "      <td>16.7078</td>\n",
              "      <td>7.8538</td>\n",
              "      <td>0</td>\n",
              "      <td>10.87</td>\n",
              "      <td>16.37</td>\n",
              "      <td>22.19</td>\n",
              "      <td>57.14</td>\n",
              "    </tr>\n",
              "    <tr>\n",
              "      <th>delinq_2yrs</th>\n",
              "      <td>200189</td>\n",
              "      <td>NaN</td>\n",
              "      <td>NaN</td>\n",
              "      <td>NaN</td>\n",
              "      <td>0.257706</td>\n",
              "      <td>0.756067</td>\n",
              "      <td>0</td>\n",
              "      <td>0</td>\n",
              "      <td>0</td>\n",
              "      <td>0</td>\n",
              "      <td>22</td>\n",
              "    </tr>\n",
              "    <tr>\n",
              "      <th>earliest_cr_line</th>\n",
              "      <td>200189</td>\n",
              "      <td>635</td>\n",
              "      <td>Oct-2000</td>\n",
              "      <td>1632</td>\n",
              "      <td>NaN</td>\n",
              "      <td>NaN</td>\n",
              "      <td>NaN</td>\n",
              "      <td>NaN</td>\n",
              "      <td>NaN</td>\n",
              "      <td>NaN</td>\n",
              "      <td>NaN</td>\n",
              "    </tr>\n",
              "    <tr>\n",
              "      <th>inq_last_6mths</th>\n",
              "      <td>200189</td>\n",
              "      <td>NaN</td>\n",
              "      <td>NaN</td>\n",
              "      <td>NaN</td>\n",
              "      <td>0.851031</td>\n",
              "      <td>1.0676</td>\n",
              "      <td>0</td>\n",
              "      <td>0</td>\n",
              "      <td>1</td>\n",
              "      <td>1</td>\n",
              "      <td>8</td>\n",
              "    </tr>\n",
              "    <tr>\n",
              "      <th>mths_since_last_delinq</th>\n",
              "      <td>89621</td>\n",
              "      <td>NaN</td>\n",
              "      <td>NaN</td>\n",
              "      <td>NaN</td>\n",
              "      <td>35.0046</td>\n",
              "      <td>21.8354</td>\n",
              "      <td>0</td>\n",
              "      <td>16</td>\n",
              "      <td>32</td>\n",
              "      <td>51</td>\n",
              "      <td>151</td>\n",
              "    </tr>\n",
              "    <tr>\n",
              "      <th>open_acc</th>\n",
              "      <td>200189</td>\n",
              "      <td>NaN</td>\n",
              "      <td>NaN</td>\n",
              "      <td>NaN</td>\n",
              "      <td>10.9792</td>\n",
              "      <td>4.91376</td>\n",
              "      <td>0</td>\n",
              "      <td>8</td>\n",
              "      <td>10</td>\n",
              "      <td>14</td>\n",
              "      <td>76</td>\n",
              "    </tr>\n",
              "    <tr>\n",
              "      <th>pub_rec</th>\n",
              "      <td>200189</td>\n",
              "      <td>NaN</td>\n",
              "      <td>NaN</td>\n",
              "      <td>NaN</td>\n",
              "      <td>0.14762</td>\n",
              "      <td>0.445927</td>\n",
              "      <td>0</td>\n",
              "      <td>0</td>\n",
              "      <td>0</td>\n",
              "      <td>0</td>\n",
              "      <td>12</td>\n",
              "    </tr>\n",
              "    <tr>\n",
              "      <th>revol_bal</th>\n",
              "      <td>200189</td>\n",
              "      <td>NaN</td>\n",
              "      <td>NaN</td>\n",
              "      <td>NaN</td>\n",
              "      <td>15144.4</td>\n",
              "      <td>18126.1</td>\n",
              "      <td>0</td>\n",
              "      <td>5866</td>\n",
              "      <td>10938</td>\n",
              "      <td>19059</td>\n",
              "      <td>975800</td>\n",
              "    </tr>\n",
              "    <tr>\n",
              "      <th>revol_util</th>\n",
              "      <td>200035</td>\n",
              "      <td>NaN</td>\n",
              "      <td>NaN</td>\n",
              "      <td>NaN</td>\n",
              "      <td>54.5278</td>\n",
              "      <td>24.7614</td>\n",
              "      <td>0</td>\n",
              "      <td>36.5</td>\n",
              "      <td>56</td>\n",
              "      <td>74</td>\n",
              "      <td>892.3</td>\n",
              "    </tr>\n",
              "    <tr>\n",
              "      <th>total_acc</th>\n",
              "      <td>200189</td>\n",
              "      <td>NaN</td>\n",
              "      <td>NaN</td>\n",
              "      <td>NaN</td>\n",
              "      <td>25.0468</td>\n",
              "      <td>11.7568</td>\n",
              "      <td>2</td>\n",
              "      <td>16</td>\n",
              "      <td>23</td>\n",
              "      <td>32</td>\n",
              "      <td>118</td>\n",
              "    </tr>\n",
              "    <tr>\n",
              "      <th>initial_list_status</th>\n",
              "      <td>200189</td>\n",
              "      <td>2</td>\n",
              "      <td>f</td>\n",
              "      <td>142178</td>\n",
              "      <td>NaN</td>\n",
              "      <td>NaN</td>\n",
              "      <td>NaN</td>\n",
              "      <td>NaN</td>\n",
              "      <td>NaN</td>\n",
              "      <td>NaN</td>\n",
              "      <td>NaN</td>\n",
              "    </tr>\n",
              "    <tr>\n",
              "      <th>collections_12_mths_ex_med</th>\n",
              "      <td>200145</td>\n",
              "      <td>NaN</td>\n",
              "      <td>NaN</td>\n",
              "      <td>NaN</td>\n",
              "      <td>0.00737465</td>\n",
              "      <td>0.0939107</td>\n",
              "      <td>0</td>\n",
              "      <td>0</td>\n",
              "      <td>0</td>\n",
              "      <td>0</td>\n",
              "      <td>6</td>\n",
              "    </tr>\n",
              "    <tr>\n",
              "      <th>policy_code</th>\n",
              "      <td>200189</td>\n",
              "      <td>NaN</td>\n",
              "      <td>NaN</td>\n",
              "      <td>NaN</td>\n",
              "      <td>1</td>\n",
              "      <td>0</td>\n",
              "      <td>1</td>\n",
              "      <td>1</td>\n",
              "      <td>1</td>\n",
              "      <td>1</td>\n",
              "      <td>1</td>\n",
              "    </tr>\n",
              "    <tr>\n",
              "      <th>application_type</th>\n",
              "      <td>200189</td>\n",
              "      <td>2</td>\n",
              "      <td>INDIVIDUAL</td>\n",
              "      <td>200186</td>\n",
              "      <td>NaN</td>\n",
              "      <td>NaN</td>\n",
              "      <td>NaN</td>\n",
              "      <td>NaN</td>\n",
              "      <td>NaN</td>\n",
              "      <td>NaN</td>\n",
              "      <td>NaN</td>\n",
              "    </tr>\n",
              "    <tr>\n",
              "      <th>acc_now_delinq</th>\n",
              "      <td>200189</td>\n",
              "      <td>NaN</td>\n",
              "      <td>NaN</td>\n",
              "      <td>NaN</td>\n",
              "      <td>0.00339179</td>\n",
              "      <td>0.0640284</td>\n",
              "      <td>0</td>\n",
              "      <td>0</td>\n",
              "      <td>0</td>\n",
              "      <td>0</td>\n",
              "      <td>5</td>\n",
              "    </tr>\n",
              "    <tr>\n",
              "      <th>tot_coll_amt</th>\n",
              "      <td>152232</td>\n",
              "      <td>NaN</td>\n",
              "      <td>NaN</td>\n",
              "      <td>NaN</td>\n",
              "      <td>159.822</td>\n",
              "      <td>1692.99</td>\n",
              "      <td>0</td>\n",
              "      <td>0</td>\n",
              "      <td>0</td>\n",
              "      <td>0</td>\n",
              "      <td>296368</td>\n",
              "    </tr>\n",
              "    <tr>\n",
              "      <th>tot_cur_bal</th>\n",
              "      <td>152232</td>\n",
              "      <td>NaN</td>\n",
              "      <td>NaN</td>\n",
              "      <td>NaN</td>\n",
              "      <td>137017</td>\n",
              "      <td>150391</td>\n",
              "      <td>0</td>\n",
              "      <td>28277.8</td>\n",
              "      <td>79453</td>\n",
              "      <td>206295</td>\n",
              "      <td>8.00008e+06</td>\n",
              "    </tr>\n",
              "    <tr>\n",
              "      <th>total_rev_hi_lim</th>\n",
              "      <td>152232</td>\n",
              "      <td>NaN</td>\n",
              "      <td>NaN</td>\n",
              "      <td>NaN</td>\n",
              "      <td>29447.6</td>\n",
              "      <td>28695.5</td>\n",
              "      <td>0</td>\n",
              "      <td>13200</td>\n",
              "      <td>22100</td>\n",
              "      <td>36554.5</td>\n",
              "      <td>1.035e+06</td>\n",
              "    </tr>\n",
              "    <tr>\n",
              "      <th>record_id</th>\n",
              "      <td>200189</td>\n",
              "      <td>NaN</td>\n",
              "      <td>NaN</td>\n",
              "      <td>NaN</td>\n",
              "      <td>4.53324e+08</td>\n",
              "      <td>77069.3</td>\n",
              "      <td>4.53191e+08</td>\n",
              "      <td>4.53258e+08</td>\n",
              "      <td>4.53324e+08</td>\n",
              "      <td>4.53391e+08</td>\n",
              "      <td>4.53458e+08</td>\n",
              "    </tr>\n",
              "  </tbody>\n",
              "</table>\n",
              "</div>"
            ],
            "text/plain": [
              "                             count  unique  ...          75%          max\n",
              "loan_amnt                   200189     NaN  ...        18700        35000\n",
              "term                        200189       2  ...          NaN          NaN\n",
              "int_rate                    200189     NaN  ...        16.78        28.99\n",
              "installment                 200189     NaN  ...       549.74      1424.57\n",
              "grade                       200189       7  ...          NaN          NaN\n",
              "sub_grade                   200189      35  ...          NaN          NaN\n",
              "emp_title                   189062  107730  ...          NaN          NaN\n",
              "emp_length                  192135      11  ...          NaN          NaN\n",
              "home_ownership              200189       6  ...          NaN          NaN\n",
              "annual_inc                  200189     NaN  ...        87000  8.70658e+06\n",
              "verification_status         200189       3  ...          NaN          NaN\n",
              "issue_d                     200189     103  ...          NaN          NaN\n",
              "loan_status                 200189     NaN  ...            1            1\n",
              "pymnt_plan                  200189       2  ...          NaN          NaN\n",
              "purpose                     200189      14  ...          NaN          NaN\n",
              "zip_code                    200189     877  ...          NaN          NaN\n",
              "addr_state                  200189      51  ...          NaN          NaN\n",
              "dti                         200189     NaN  ...        22.19        57.14\n",
              "delinq_2yrs                 200189     NaN  ...            0           22\n",
              "earliest_cr_line            200189     635  ...          NaN          NaN\n",
              "inq_last_6mths              200189     NaN  ...            1            8\n",
              "mths_since_last_delinq       89621     NaN  ...           51          151\n",
              "open_acc                    200189     NaN  ...           14           76\n",
              "pub_rec                     200189     NaN  ...            0           12\n",
              "revol_bal                   200189     NaN  ...        19059       975800\n",
              "revol_util                  200035     NaN  ...           74        892.3\n",
              "total_acc                   200189     NaN  ...           32          118\n",
              "initial_list_status         200189       2  ...          NaN          NaN\n",
              "collections_12_mths_ex_med  200145     NaN  ...            0            6\n",
              "policy_code                 200189     NaN  ...            1            1\n",
              "application_type            200189       2  ...          NaN          NaN\n",
              "acc_now_delinq              200189     NaN  ...            0            5\n",
              "tot_coll_amt                152232     NaN  ...            0       296368\n",
              "tot_cur_bal                 152232     NaN  ...       206295  8.00008e+06\n",
              "total_rev_hi_lim            152232     NaN  ...      36554.5    1.035e+06\n",
              "record_id                   200189     NaN  ...  4.53391e+08  4.53458e+08\n",
              "\n",
              "[36 rows x 11 columns]"
            ]
          },
          "metadata": {
            "tags": []
          },
          "execution_count": 4
        }
      ]
    },
    {
      "cell_type": "markdown",
      "metadata": {
        "id": "0iKk45w4UHSd",
        "colab_type": "text"
      },
      "source": [
        "\"Policy_code\" has only 1 unique value. We will drop it."
      ]
    },
    {
      "cell_type": "code",
      "metadata": {
        "scrolled": true,
        "id": "OL02XAnQUHSn",
        "colab_type": "code",
        "outputId": "3b13abe8-0a5a-40e9-9791-768694db9ff1",
        "colab": {
          "base_uri": "https://localhost:8080/",
          "height": 35
        }
      },
      "source": [
        "df[\"policy_code\"].unique()"
      ],
      "execution_count": 5,
      "outputs": [
        {
          "output_type": "execute_result",
          "data": {
            "text/plain": [
              "array([1.])"
            ]
          },
          "metadata": {
            "tags": []
          },
          "execution_count": 5
        }
      ]
    },
    {
      "cell_type": "code",
      "metadata": {
        "id": "lcXxSacCUHS6",
        "colab_type": "code",
        "colab": {}
      },
      "source": [
        "drop_vars=[\"policy_code\"]"
      ],
      "execution_count": 0,
      "outputs": []
    },
    {
      "cell_type": "markdown",
      "metadata": {
        "id": "GeSErMf3UHTN",
        "colab_type": "text"
      },
      "source": [
        "Unique values of grade and sub_grade variables:"
      ]
    },
    {
      "cell_type": "code",
      "metadata": {
        "id": "Av4M16k1UHTW",
        "colab_type": "code",
        "outputId": "73cb8d9a-02a4-41c7-bb87-ad6c54b62c32",
        "colab": {
          "base_uri": "https://localhost:8080/",
          "height": 182
        }
      },
      "source": [
        "df[[\"grade\",\"sub_grade\"]].groupby([\"grade\"]).apply(np.unique)"
      ],
      "execution_count": 7,
      "outputs": [
        {
          "output_type": "execute_result",
          "data": {
            "text/plain": [
              "grade\n",
              "A    [A, A1, A2, A3, A4, A5]\n",
              "B    [B, B1, B2, B3, B4, B5]\n",
              "C    [C, C1, C2, C3, C4, C5]\n",
              "D    [D, D1, D2, D3, D4, D5]\n",
              "E    [E, E1, E2, E3, E4, E5]\n",
              "F    [F, F1, F2, F3, F4, F5]\n",
              "G    [G, G1, G2, G3, G4, G5]\n",
              "dtype: object"
            ]
          },
          "metadata": {
            "tags": []
          },
          "execution_count": 7
        }
      ]
    },
    {
      "cell_type": "markdown",
      "metadata": {
        "id": "jtUTiJa3UHTt",
        "colab_type": "text"
      },
      "source": [
        "We can see, any value of grade has unique values only from its own sub-group. So, we can drop \"grade\" variable. \"sub_grade\"  will be turned into an integer, because all its values are comparable."
      ]
    },
    {
      "cell_type": "code",
      "metadata": {
        "id": "IX6Z6YTTUHT3",
        "colab_type": "code",
        "colab": {}
      },
      "source": [
        "drop_vars.append(\"grade\")"
      ],
      "execution_count": 0,
      "outputs": []
    },
    {
      "cell_type": "code",
      "metadata": {
        "id": "mjlRRY_yeOmW",
        "colab_type": "code",
        "outputId": "bca3cbb7-d49c-47f3-f7a2-42a46d8aebf7",
        "colab": {
          "base_uri": "https://localhost:8080/",
          "height": 1156
        }
      },
      "source": [
        "a=np.sort(df[\"sub_grade\"].unique()).tolist()\n",
        "le=preprocessing.LabelEncoder()\n",
        "le.fit(a)\n",
        "le.transform(a)\n",
        "df[\"sub_grade\"]=le.transform(df[\"sub_grade\"])\n",
        "df[\"sub_grade\"]"
      ],
      "execution_count": 9,
      "outputs": [
        {
          "output_type": "execute_result",
          "data": {
            "text/plain": [
              "0          7\n",
              "1          0\n",
              "2          6\n",
              "3         12\n",
              "4          9\n",
              "5         11\n",
              "6         17\n",
              "7         11\n",
              "8         10\n",
              "9         19\n",
              "10        10\n",
              "11         7\n",
              "12         7\n",
              "13         9\n",
              "14         2\n",
              "15         8\n",
              "16         7\n",
              "17        14\n",
              "18        22\n",
              "19        17\n",
              "20         9\n",
              "21         5\n",
              "22        15\n",
              "23        17\n",
              "24         8\n",
              "25         9\n",
              "26         4\n",
              "27        23\n",
              "28         9\n",
              "29         3\n",
              "          ..\n",
              "200159    14\n",
              "200160     3\n",
              "200161    20\n",
              "200162    21\n",
              "200163    13\n",
              "200164     3\n",
              "200165     7\n",
              "200166     6\n",
              "200167    21\n",
              "200168    12\n",
              "200169    15\n",
              "200170    11\n",
              "200171     2\n",
              "200172    22\n",
              "200173    12\n",
              "200174     4\n",
              "200175     3\n",
              "200176     9\n",
              "200177     9\n",
              "200178    29\n",
              "200179    32\n",
              "200180    11\n",
              "200181     9\n",
              "200182     9\n",
              "200183    13\n",
              "200184    21\n",
              "200185     5\n",
              "200186     7\n",
              "200187    21\n",
              "200188    15\n",
              "Name: sub_grade, Length: 200189, dtype: int64"
            ]
          },
          "metadata": {
            "tags": []
          },
          "execution_count": 9
        }
      ]
    },
    {
      "cell_type": "markdown",
      "metadata": {
        "id": "F6nYudnfUHUZ",
        "colab_type": "text"
      },
      "source": [
        "\"Record_id\" isn't present in dataset description, and unlikely is useful. \"emp_title\" has a big amount of unique categorical values.There are no values, which appear in more than 1% (2000 observations) of the whole dataset. Zipcode has a big amount of unique values and is unnesessary, because there is addr_state variable.\n",
        "We'll drop those variables."
      ]
    },
    {
      "cell_type": "code",
      "metadata": {
        "id": "wj7Vw3BeUHUb",
        "colab_type": "code",
        "outputId": "9c3abf15-99a2-48a2-8bc7-07a71eee6e5f",
        "colab": {
          "base_uri": "https://localhost:8080/",
          "height": 35
        }
      },
      "source": [
        "len(df[\"record_id\"].unique())==df[\"record_id\"].shape[0]"
      ],
      "execution_count": 10,
      "outputs": [
        {
          "output_type": "execute_result",
          "data": {
            "text/plain": [
              "True"
            ]
          },
          "metadata": {
            "tags": []
          },
          "execution_count": 10
        }
      ]
    },
    {
      "cell_type": "code",
      "metadata": {
        "id": "xBKmTTS5UHUt",
        "colab_type": "code",
        "colab": {}
      },
      "source": [
        "drop_vars.append(\"record_id\")"
      ],
      "execution_count": 0,
      "outputs": []
    },
    {
      "cell_type": "code",
      "metadata": {
        "id": "NHCyj8LvUHUz",
        "colab_type": "code",
        "outputId": "e9835c92-89df-42f3-b0e9-12b1b324008a",
        "colab": {
          "base_uri": "https://localhost:8080/",
          "height": 35
        }
      },
      "source": [
        "sum(df[\"emp_title\"].value_counts()>2000)"
      ],
      "execution_count": 12,
      "outputs": [
        {
          "output_type": "execute_result",
          "data": {
            "text/plain": [
              "0"
            ]
          },
          "metadata": {
            "tags": []
          },
          "execution_count": 12
        }
      ]
    },
    {
      "cell_type": "code",
      "metadata": {
        "id": "AQgJp8TsUHVC",
        "colab_type": "code",
        "outputId": "fdb6eaef-205e-4b5a-aa53-7b0e81e457b8",
        "colab": {
          "base_uri": "https://localhost:8080/",
          "height": 35
        }
      },
      "source": [
        "drop_vars=drop_vars+[\"emp_title\",\"zip_code\"]\n",
        "drop_vars"
      ],
      "execution_count": 13,
      "outputs": [
        {
          "output_type": "execute_result",
          "data": {
            "text/plain": [
              "['policy_code', 'grade', 'record_id', 'emp_title', 'zip_code']"
            ]
          },
          "metadata": {
            "tags": []
          },
          "execution_count": 13
        }
      ]
    },
    {
      "cell_type": "markdown",
      "metadata": {
        "id": "iKn5ZulVUHVQ",
        "colab_type": "text"
      },
      "source": [
        "List of the variables with NA values:"
      ]
    },
    {
      "cell_type": "code",
      "metadata": {
        "id": "oIn6jxnqUHVT",
        "colab_type": "code",
        "outputId": "8ec6d8c3-6e12-49a1-caff-c09d693f8df6",
        "colab": {
          "base_uri": "https://localhost:8080/",
          "height": 300
        }
      },
      "source": [
        "na_vars=df.columns[df.isna().any()].tolist()\n",
        "df[na_vars].head(6).T"
      ],
      "execution_count": 14,
      "outputs": [
        {
          "output_type": "execute_result",
          "data": {
            "text/html": [
              "<div>\n",
              "<style scoped>\n",
              "    .dataframe tbody tr th:only-of-type {\n",
              "        vertical-align: middle;\n",
              "    }\n",
              "\n",
              "    .dataframe tbody tr th {\n",
              "        vertical-align: top;\n",
              "    }\n",
              "\n",
              "    .dataframe thead th {\n",
              "        text-align: right;\n",
              "    }\n",
              "</style>\n",
              "<table border=\"1\" class=\"dataframe\">\n",
              "  <thead>\n",
              "    <tr style=\"text-align: right;\">\n",
              "      <th></th>\n",
              "      <th>0</th>\n",
              "      <th>1</th>\n",
              "      <th>2</th>\n",
              "      <th>3</th>\n",
              "      <th>4</th>\n",
              "      <th>5</th>\n",
              "    </tr>\n",
              "  </thead>\n",
              "  <tbody>\n",
              "    <tr>\n",
              "      <th>emp_title</th>\n",
              "      <td>Quality Assurance Specialist</td>\n",
              "      <td>NaN</td>\n",
              "      <td>KIPP NYC</td>\n",
              "      <td>Receptionist</td>\n",
              "      <td>Medtox Laboratories</td>\n",
              "      <td>Melrose-Sovereign Companies</td>\n",
              "    </tr>\n",
              "    <tr>\n",
              "      <th>emp_length</th>\n",
              "      <td>4 years</td>\n",
              "      <td>NaN</td>\n",
              "      <td>3 years</td>\n",
              "      <td>&lt; 1 year</td>\n",
              "      <td>10+ years</td>\n",
              "      <td>4 years</td>\n",
              "    </tr>\n",
              "    <tr>\n",
              "      <th>mths_since_last_delinq</th>\n",
              "      <td>NaN</td>\n",
              "      <td>NaN</td>\n",
              "      <td>NaN</td>\n",
              "      <td>47</td>\n",
              "      <td>NaN</td>\n",
              "      <td>NaN</td>\n",
              "    </tr>\n",
              "    <tr>\n",
              "      <th>revol_util</th>\n",
              "      <td>61.2</td>\n",
              "      <td>26.3</td>\n",
              "      <td>60.5</td>\n",
              "      <td>46.9</td>\n",
              "      <td>82.4</td>\n",
              "      <td>51.1</td>\n",
              "    </tr>\n",
              "    <tr>\n",
              "      <th>collections_12_mths_ex_med</th>\n",
              "      <td>0</td>\n",
              "      <td>0</td>\n",
              "      <td>0</td>\n",
              "      <td>0</td>\n",
              "      <td>0</td>\n",
              "      <td>0</td>\n",
              "    </tr>\n",
              "    <tr>\n",
              "      <th>tot_coll_amt</th>\n",
              "      <td>0</td>\n",
              "      <td>0</td>\n",
              "      <td>193</td>\n",
              "      <td>165</td>\n",
              "      <td>NaN</td>\n",
              "      <td>NaN</td>\n",
              "    </tr>\n",
              "    <tr>\n",
              "      <th>tot_cur_bal</th>\n",
              "      <td>295215</td>\n",
              "      <td>25130</td>\n",
              "      <td>41737</td>\n",
              "      <td>28187</td>\n",
              "      <td>NaN</td>\n",
              "      <td>NaN</td>\n",
              "    </tr>\n",
              "    <tr>\n",
              "      <th>total_rev_hi_lim</th>\n",
              "      <td>20500</td>\n",
              "      <td>14200</td>\n",
              "      <td>19448</td>\n",
              "      <td>14500</td>\n",
              "      <td>NaN</td>\n",
              "      <td>NaN</td>\n",
              "    </tr>\n",
              "  </tbody>\n",
              "</table>\n",
              "</div>"
            ],
            "text/plain": [
              "                                                       0  ...                            5\n",
              "emp_title                   Quality Assurance Specialist  ...  Melrose-Sovereign Companies\n",
              "emp_length                                       4 years  ...                      4 years\n",
              "mths_since_last_delinq                               NaN  ...                          NaN\n",
              "revol_util                                          61.2  ...                         51.1\n",
              "collections_12_mths_ex_med                             0  ...                            0\n",
              "tot_coll_amt                                           0  ...                          NaN\n",
              "tot_cur_bal                                       295215  ...                          NaN\n",
              "total_rev_hi_lim                                   20500  ...                          NaN\n",
              "\n",
              "[8 rows x 6 columns]"
            ]
          },
          "metadata": {
            "tags": []
          },
          "execution_count": 14
        }
      ]
    },
    {
      "cell_type": "markdown",
      "metadata": {
        "id": "irLPsvL_UHVj",
        "colab_type": "text"
      },
      "source": [
        "Fraction of NA's for each variable:"
      ]
    },
    {
      "cell_type": "code",
      "metadata": {
        "scrolled": true,
        "id": "D4U6hKWwUHVl",
        "colab_type": "code",
        "outputId": "3559c649-e9dc-4692-83b8-0c359d2d3ef8",
        "colab": {
          "base_uri": "https://localhost:8080/",
          "height": 182
        }
      },
      "source": [
        "df[na_vars].isna().mean().sort_values(ascending=False)"
      ],
      "execution_count": 15,
      "outputs": [
        {
          "output_type": "execute_result",
          "data": {
            "text/plain": [
              "mths_since_last_delinq        0.552318\n",
              "total_rev_hi_lim              0.239559\n",
              "tot_cur_bal                   0.239559\n",
              "tot_coll_amt                  0.239559\n",
              "emp_title                     0.055582\n",
              "emp_length                    0.040232\n",
              "revol_util                    0.000769\n",
              "collections_12_mths_ex_med    0.000220\n",
              "dtype: float64"
            ]
          },
          "metadata": {
            "tags": []
          },
          "execution_count": 15
        }
      ]
    },
    {
      "cell_type": "markdown",
      "metadata": {
        "id": "5XEohCXQUHV3",
        "colab_type": "text"
      },
      "source": [
        "\"tot_cur_bal\", \"tot_coll_amt\", \"total_rev_hi_lim\" have the same NA fraction. Are their NA indexes the same?"
      ]
    },
    {
      "cell_type": "code",
      "metadata": {
        "id": "EllejEfGUHWC",
        "colab_type": "code",
        "outputId": "4f57dc34-f3fb-46d6-8a86-b840c8d28512",
        "colab": {
          "base_uri": "https://localhost:8080/",
          "height": 35
        }
      },
      "source": [
        "tot_vars=[\"tot_cur_bal\", \"tot_coll_amt\", \"total_rev_hi_lim\"]\n",
        "a=((\n",
        "    df[\"tot_cur_bal\"].isna()==\n",
        "    df[\"tot_coll_amt\"].isna()).all())\n",
        "b=((\n",
        "    df[\"tot_cur_bal\"].isna()==\n",
        "    df[\"total_rev_hi_lim\"].isna()).all())\n",
        "if a & b:\n",
        "    print(\"Yes, they are\")\n",
        "else:\n",
        "    print(\"No, they aren't\")"
      ],
      "execution_count": 16,
      "outputs": [
        {
          "output_type": "stream",
          "text": [
            "Yes, they are\n"
          ],
          "name": "stdout"
        }
      ]
    },
    {
      "cell_type": "markdown",
      "metadata": {
        "id": "hXds_l0pUHWc",
        "colab_type": "text"
      },
      "source": [
        "We'll make new categorical varibales for NA fraction of \"mths_since_last_delinq\", \"tot_vars\", and fill missing values with 0."
      ]
    },
    {
      "cell_type": "code",
      "metadata": {
        "scrolled": true,
        "id": "CpK1IjHtUHWk",
        "colab_type": "code",
        "outputId": "0a0b8c60-788a-43da-a96f-e9b4f52ba5cd",
        "colab": {
          "base_uri": "https://localhost:8080/",
          "height": 1241
        }
      },
      "source": [
        "fill_list=tot_vars+[\"mths_since_last_delinq\"]\n",
        "df[\"tot_vars_NA\"]=0\n",
        "df.loc[df[tot_vars[0]].isna(),(\"tot_vars_NA\")]=1\n",
        "for i in fill_list:\n",
        "    if i==\"mths_since_last_delinq\":\n",
        "      df[i+\"_NA\"]=0\n",
        "      df.loc[df[i].isna(),(i+\"_NA\")]=1\n",
        "    df[i].fillna(value=0,inplace=True)\n",
        "df.describe(include=\"all\").T"
      ],
      "execution_count": 17,
      "outputs": [
        {
          "output_type": "execute_result",
          "data": {
            "text/html": [
              "<div>\n",
              "<style scoped>\n",
              "    .dataframe tbody tr th:only-of-type {\n",
              "        vertical-align: middle;\n",
              "    }\n",
              "\n",
              "    .dataframe tbody tr th {\n",
              "        vertical-align: top;\n",
              "    }\n",
              "\n",
              "    .dataframe thead th {\n",
              "        text-align: right;\n",
              "    }\n",
              "</style>\n",
              "<table border=\"1\" class=\"dataframe\">\n",
              "  <thead>\n",
              "    <tr style=\"text-align: right;\">\n",
              "      <th></th>\n",
              "      <th>count</th>\n",
              "      <th>unique</th>\n",
              "      <th>top</th>\n",
              "      <th>freq</th>\n",
              "      <th>mean</th>\n",
              "      <th>std</th>\n",
              "      <th>min</th>\n",
              "      <th>25%</th>\n",
              "      <th>50%</th>\n",
              "      <th>75%</th>\n",
              "      <th>max</th>\n",
              "    </tr>\n",
              "  </thead>\n",
              "  <tbody>\n",
              "    <tr>\n",
              "      <th>loan_amnt</th>\n",
              "      <td>200189</td>\n",
              "      <td>NaN</td>\n",
              "      <td>NaN</td>\n",
              "      <td>NaN</td>\n",
              "      <td>13661</td>\n",
              "      <td>8170.42</td>\n",
              "      <td>500</td>\n",
              "      <td>7500</td>\n",
              "      <td>12000</td>\n",
              "      <td>18700</td>\n",
              "      <td>35000</td>\n",
              "    </tr>\n",
              "    <tr>\n",
              "      <th>term</th>\n",
              "      <td>200189</td>\n",
              "      <td>2</td>\n",
              "      <td>36 months</td>\n",
              "      <td>153900</td>\n",
              "      <td>NaN</td>\n",
              "      <td>NaN</td>\n",
              "      <td>NaN</td>\n",
              "      <td>NaN</td>\n",
              "      <td>NaN</td>\n",
              "      <td>NaN</td>\n",
              "      <td>NaN</td>\n",
              "    </tr>\n",
              "    <tr>\n",
              "      <th>int_rate</th>\n",
              "      <td>200189</td>\n",
              "      <td>NaN</td>\n",
              "      <td>NaN</td>\n",
              "      <td>NaN</td>\n",
              "      <td>13.8778</td>\n",
              "      <td>4.42672</td>\n",
              "      <td>5.32</td>\n",
              "      <td>10.99</td>\n",
              "      <td>13.66</td>\n",
              "      <td>16.78</td>\n",
              "      <td>28.99</td>\n",
              "    </tr>\n",
              "    <tr>\n",
              "      <th>installment</th>\n",
              "      <td>200189</td>\n",
              "      <td>NaN</td>\n",
              "      <td>NaN</td>\n",
              "      <td>NaN</td>\n",
              "      <td>420.482</td>\n",
              "      <td>245.688</td>\n",
              "      <td>15.69</td>\n",
              "      <td>242.55</td>\n",
              "      <td>367.13</td>\n",
              "      <td>549.74</td>\n",
              "      <td>1424.57</td>\n",
              "    </tr>\n",
              "    <tr>\n",
              "      <th>grade</th>\n",
              "      <td>200189</td>\n",
              "      <td>7</td>\n",
              "      <td>B</td>\n",
              "      <td>58822</td>\n",
              "      <td>NaN</td>\n",
              "      <td>NaN</td>\n",
              "      <td>NaN</td>\n",
              "      <td>NaN</td>\n",
              "      <td>NaN</td>\n",
              "      <td>NaN</td>\n",
              "      <td>NaN</td>\n",
              "    </tr>\n",
              "    <tr>\n",
              "      <th>sub_grade</th>\n",
              "      <td>200189</td>\n",
              "      <td>NaN</td>\n",
              "      <td>NaN</td>\n",
              "      <td>NaN</td>\n",
              "      <td>11.177</td>\n",
              "      <td>6.66639</td>\n",
              "      <td>0</td>\n",
              "      <td>6</td>\n",
              "      <td>10</td>\n",
              "      <td>15</td>\n",
              "      <td>34</td>\n",
              "    </tr>\n",
              "    <tr>\n",
              "      <th>emp_title</th>\n",
              "      <td>189062</td>\n",
              "      <td>107730</td>\n",
              "      <td>Manager</td>\n",
              "      <td>1599</td>\n",
              "      <td>NaN</td>\n",
              "      <td>NaN</td>\n",
              "      <td>NaN</td>\n",
              "      <td>NaN</td>\n",
              "      <td>NaN</td>\n",
              "      <td>NaN</td>\n",
              "      <td>NaN</td>\n",
              "    </tr>\n",
              "    <tr>\n",
              "      <th>emp_length</th>\n",
              "      <td>192135</td>\n",
              "      <td>11</td>\n",
              "      <td>10+ years</td>\n",
              "      <td>60786</td>\n",
              "      <td>NaN</td>\n",
              "      <td>NaN</td>\n",
              "      <td>NaN</td>\n",
              "      <td>NaN</td>\n",
              "      <td>NaN</td>\n",
              "      <td>NaN</td>\n",
              "      <td>NaN</td>\n",
              "    </tr>\n",
              "    <tr>\n",
              "      <th>home_ownership</th>\n",
              "      <td>200189</td>\n",
              "      <td>6</td>\n",
              "      <td>MORTGAGE</td>\n",
              "      <td>98279</td>\n",
              "      <td>NaN</td>\n",
              "      <td>NaN</td>\n",
              "      <td>NaN</td>\n",
              "      <td>NaN</td>\n",
              "      <td>NaN</td>\n",
              "      <td>NaN</td>\n",
              "      <td>NaN</td>\n",
              "    </tr>\n",
              "    <tr>\n",
              "      <th>annual_inc</th>\n",
              "      <td>200189</td>\n",
              "      <td>NaN</td>\n",
              "      <td>NaN</td>\n",
              "      <td>NaN</td>\n",
              "      <td>72374.5</td>\n",
              "      <td>57375.1</td>\n",
              "      <td>3000</td>\n",
              "      <td>45000</td>\n",
              "      <td>62000</td>\n",
              "      <td>87000</td>\n",
              "      <td>8.70658e+06</td>\n",
              "    </tr>\n",
              "    <tr>\n",
              "      <th>verification_status</th>\n",
              "      <td>200189</td>\n",
              "      <td>3</td>\n",
              "      <td>Verified</td>\n",
              "      <td>73431</td>\n",
              "      <td>NaN</td>\n",
              "      <td>NaN</td>\n",
              "      <td>NaN</td>\n",
              "      <td>NaN</td>\n",
              "      <td>NaN</td>\n",
              "      <td>NaN</td>\n",
              "      <td>NaN</td>\n",
              "    </tr>\n",
              "    <tr>\n",
              "      <th>issue_d</th>\n",
              "      <td>200189</td>\n",
              "      <td>103</td>\n",
              "      <td>Oct-2014</td>\n",
              "      <td>7370</td>\n",
              "      <td>NaN</td>\n",
              "      <td>NaN</td>\n",
              "      <td>NaN</td>\n",
              "      <td>NaN</td>\n",
              "      <td>NaN</td>\n",
              "      <td>NaN</td>\n",
              "      <td>NaN</td>\n",
              "    </tr>\n",
              "    <tr>\n",
              "      <th>loan_status</th>\n",
              "      <td>200189</td>\n",
              "      <td>NaN</td>\n",
              "      <td>NaN</td>\n",
              "      <td>NaN</td>\n",
              "      <td>0.77757</td>\n",
              "      <td>0.415879</td>\n",
              "      <td>0</td>\n",
              "      <td>1</td>\n",
              "      <td>1</td>\n",
              "      <td>1</td>\n",
              "      <td>1</td>\n",
              "    </tr>\n",
              "    <tr>\n",
              "      <th>pymnt_plan</th>\n",
              "      <td>200189</td>\n",
              "      <td>2</td>\n",
              "      <td>n</td>\n",
              "      <td>200183</td>\n",
              "      <td>NaN</td>\n",
              "      <td>NaN</td>\n",
              "      <td>NaN</td>\n",
              "      <td>NaN</td>\n",
              "      <td>NaN</td>\n",
              "      <td>NaN</td>\n",
              "      <td>NaN</td>\n",
              "    </tr>\n",
              "    <tr>\n",
              "      <th>purpose</th>\n",
              "      <td>200189</td>\n",
              "      <td>14</td>\n",
              "      <td>debt_consolidation</td>\n",
              "      <td>117953</td>\n",
              "      <td>NaN</td>\n",
              "      <td>NaN</td>\n",
              "      <td>NaN</td>\n",
              "      <td>NaN</td>\n",
              "      <td>NaN</td>\n",
              "      <td>NaN</td>\n",
              "      <td>NaN</td>\n",
              "    </tr>\n",
              "    <tr>\n",
              "      <th>zip_code</th>\n",
              "      <td>200189</td>\n",
              "      <td>877</td>\n",
              "      <td>945xx</td>\n",
              "      <td>2583</td>\n",
              "      <td>NaN</td>\n",
              "      <td>NaN</td>\n",
              "      <td>NaN</td>\n",
              "      <td>NaN</td>\n",
              "      <td>NaN</td>\n",
              "      <td>NaN</td>\n",
              "      <td>NaN</td>\n",
              "    </tr>\n",
              "    <tr>\n",
              "      <th>addr_state</th>\n",
              "      <td>200189</td>\n",
              "      <td>51</td>\n",
              "      <td>CA</td>\n",
              "      <td>33852</td>\n",
              "      <td>NaN</td>\n",
              "      <td>NaN</td>\n",
              "      <td>NaN</td>\n",
              "      <td>NaN</td>\n",
              "      <td>NaN</td>\n",
              "      <td>NaN</td>\n",
              "      <td>NaN</td>\n",
              "    </tr>\n",
              "    <tr>\n",
              "      <th>dti</th>\n",
              "      <td>200189</td>\n",
              "      <td>NaN</td>\n",
              "      <td>NaN</td>\n",
              "      <td>NaN</td>\n",
              "      <td>16.7078</td>\n",
              "      <td>7.8538</td>\n",
              "      <td>0</td>\n",
              "      <td>10.87</td>\n",
              "      <td>16.37</td>\n",
              "      <td>22.19</td>\n",
              "      <td>57.14</td>\n",
              "    </tr>\n",
              "    <tr>\n",
              "      <th>delinq_2yrs</th>\n",
              "      <td>200189</td>\n",
              "      <td>NaN</td>\n",
              "      <td>NaN</td>\n",
              "      <td>NaN</td>\n",
              "      <td>0.257706</td>\n",
              "      <td>0.756067</td>\n",
              "      <td>0</td>\n",
              "      <td>0</td>\n",
              "      <td>0</td>\n",
              "      <td>0</td>\n",
              "      <td>22</td>\n",
              "    </tr>\n",
              "    <tr>\n",
              "      <th>earliest_cr_line</th>\n",
              "      <td>200189</td>\n",
              "      <td>635</td>\n",
              "      <td>Oct-2000</td>\n",
              "      <td>1632</td>\n",
              "      <td>NaN</td>\n",
              "      <td>NaN</td>\n",
              "      <td>NaN</td>\n",
              "      <td>NaN</td>\n",
              "      <td>NaN</td>\n",
              "      <td>NaN</td>\n",
              "      <td>NaN</td>\n",
              "    </tr>\n",
              "    <tr>\n",
              "      <th>inq_last_6mths</th>\n",
              "      <td>200189</td>\n",
              "      <td>NaN</td>\n",
              "      <td>NaN</td>\n",
              "      <td>NaN</td>\n",
              "      <td>0.851031</td>\n",
              "      <td>1.0676</td>\n",
              "      <td>0</td>\n",
              "      <td>0</td>\n",
              "      <td>1</td>\n",
              "      <td>1</td>\n",
              "      <td>8</td>\n",
              "    </tr>\n",
              "    <tr>\n",
              "      <th>mths_since_last_delinq</th>\n",
              "      <td>200189</td>\n",
              "      <td>NaN</td>\n",
              "      <td>NaN</td>\n",
              "      <td>NaN</td>\n",
              "      <td>15.6709</td>\n",
              "      <td>22.725</td>\n",
              "      <td>0</td>\n",
              "      <td>0</td>\n",
              "      <td>0</td>\n",
              "      <td>28</td>\n",
              "      <td>151</td>\n",
              "    </tr>\n",
              "    <tr>\n",
              "      <th>open_acc</th>\n",
              "      <td>200189</td>\n",
              "      <td>NaN</td>\n",
              "      <td>NaN</td>\n",
              "      <td>NaN</td>\n",
              "      <td>10.9792</td>\n",
              "      <td>4.91376</td>\n",
              "      <td>0</td>\n",
              "      <td>8</td>\n",
              "      <td>10</td>\n",
              "      <td>14</td>\n",
              "      <td>76</td>\n",
              "    </tr>\n",
              "    <tr>\n",
              "      <th>pub_rec</th>\n",
              "      <td>200189</td>\n",
              "      <td>NaN</td>\n",
              "      <td>NaN</td>\n",
              "      <td>NaN</td>\n",
              "      <td>0.14762</td>\n",
              "      <td>0.445927</td>\n",
              "      <td>0</td>\n",
              "      <td>0</td>\n",
              "      <td>0</td>\n",
              "      <td>0</td>\n",
              "      <td>12</td>\n",
              "    </tr>\n",
              "    <tr>\n",
              "      <th>revol_bal</th>\n",
              "      <td>200189</td>\n",
              "      <td>NaN</td>\n",
              "      <td>NaN</td>\n",
              "      <td>NaN</td>\n",
              "      <td>15144.4</td>\n",
              "      <td>18126.1</td>\n",
              "      <td>0</td>\n",
              "      <td>5866</td>\n",
              "      <td>10938</td>\n",
              "      <td>19059</td>\n",
              "      <td>975800</td>\n",
              "    </tr>\n",
              "    <tr>\n",
              "      <th>revol_util</th>\n",
              "      <td>200035</td>\n",
              "      <td>NaN</td>\n",
              "      <td>NaN</td>\n",
              "      <td>NaN</td>\n",
              "      <td>54.5278</td>\n",
              "      <td>24.7614</td>\n",
              "      <td>0</td>\n",
              "      <td>36.5</td>\n",
              "      <td>56</td>\n",
              "      <td>74</td>\n",
              "      <td>892.3</td>\n",
              "    </tr>\n",
              "    <tr>\n",
              "      <th>total_acc</th>\n",
              "      <td>200189</td>\n",
              "      <td>NaN</td>\n",
              "      <td>NaN</td>\n",
              "      <td>NaN</td>\n",
              "      <td>25.0468</td>\n",
              "      <td>11.7568</td>\n",
              "      <td>2</td>\n",
              "      <td>16</td>\n",
              "      <td>23</td>\n",
              "      <td>32</td>\n",
              "      <td>118</td>\n",
              "    </tr>\n",
              "    <tr>\n",
              "      <th>initial_list_status</th>\n",
              "      <td>200189</td>\n",
              "      <td>2</td>\n",
              "      <td>f</td>\n",
              "      <td>142178</td>\n",
              "      <td>NaN</td>\n",
              "      <td>NaN</td>\n",
              "      <td>NaN</td>\n",
              "      <td>NaN</td>\n",
              "      <td>NaN</td>\n",
              "      <td>NaN</td>\n",
              "      <td>NaN</td>\n",
              "    </tr>\n",
              "    <tr>\n",
              "      <th>collections_12_mths_ex_med</th>\n",
              "      <td>200145</td>\n",
              "      <td>NaN</td>\n",
              "      <td>NaN</td>\n",
              "      <td>NaN</td>\n",
              "      <td>0.00737465</td>\n",
              "      <td>0.0939107</td>\n",
              "      <td>0</td>\n",
              "      <td>0</td>\n",
              "      <td>0</td>\n",
              "      <td>0</td>\n",
              "      <td>6</td>\n",
              "    </tr>\n",
              "    <tr>\n",
              "      <th>policy_code</th>\n",
              "      <td>200189</td>\n",
              "      <td>NaN</td>\n",
              "      <td>NaN</td>\n",
              "      <td>NaN</td>\n",
              "      <td>1</td>\n",
              "      <td>0</td>\n",
              "      <td>1</td>\n",
              "      <td>1</td>\n",
              "      <td>1</td>\n",
              "      <td>1</td>\n",
              "      <td>1</td>\n",
              "    </tr>\n",
              "    <tr>\n",
              "      <th>application_type</th>\n",
              "      <td>200189</td>\n",
              "      <td>2</td>\n",
              "      <td>INDIVIDUAL</td>\n",
              "      <td>200186</td>\n",
              "      <td>NaN</td>\n",
              "      <td>NaN</td>\n",
              "      <td>NaN</td>\n",
              "      <td>NaN</td>\n",
              "      <td>NaN</td>\n",
              "      <td>NaN</td>\n",
              "      <td>NaN</td>\n",
              "    </tr>\n",
              "    <tr>\n",
              "      <th>acc_now_delinq</th>\n",
              "      <td>200189</td>\n",
              "      <td>NaN</td>\n",
              "      <td>NaN</td>\n",
              "      <td>NaN</td>\n",
              "      <td>0.00339179</td>\n",
              "      <td>0.0640284</td>\n",
              "      <td>0</td>\n",
              "      <td>0</td>\n",
              "      <td>0</td>\n",
              "      <td>0</td>\n",
              "      <td>5</td>\n",
              "    </tr>\n",
              "    <tr>\n",
              "      <th>tot_coll_amt</th>\n",
              "      <td>200189</td>\n",
              "      <td>NaN</td>\n",
              "      <td>NaN</td>\n",
              "      <td>NaN</td>\n",
              "      <td>121.535</td>\n",
              "      <td>1477.91</td>\n",
              "      <td>0</td>\n",
              "      <td>0</td>\n",
              "      <td>0</td>\n",
              "      <td>0</td>\n",
              "      <td>296368</td>\n",
              "    </tr>\n",
              "    <tr>\n",
              "      <th>tot_cur_bal</th>\n",
              "      <td>200189</td>\n",
              "      <td>NaN</td>\n",
              "      <td>NaN</td>\n",
              "      <td>NaN</td>\n",
              "      <td>104194</td>\n",
              "      <td>143594</td>\n",
              "      <td>0</td>\n",
              "      <td>3955</td>\n",
              "      <td>39456</td>\n",
              "      <td>165536</td>\n",
              "      <td>8.00008e+06</td>\n",
              "    </tr>\n",
              "    <tr>\n",
              "      <th>total_rev_hi_lim</th>\n",
              "      <td>200189</td>\n",
              "      <td>NaN</td>\n",
              "      <td>NaN</td>\n",
              "      <td>NaN</td>\n",
              "      <td>22393.2</td>\n",
              "      <td>28002.6</td>\n",
              "      <td>0</td>\n",
              "      <td>3400</td>\n",
              "      <td>16200</td>\n",
              "      <td>30800</td>\n",
              "      <td>1.035e+06</td>\n",
              "    </tr>\n",
              "    <tr>\n",
              "      <th>record_id</th>\n",
              "      <td>200189</td>\n",
              "      <td>NaN</td>\n",
              "      <td>NaN</td>\n",
              "      <td>NaN</td>\n",
              "      <td>4.53324e+08</td>\n",
              "      <td>77069.3</td>\n",
              "      <td>4.53191e+08</td>\n",
              "      <td>4.53258e+08</td>\n",
              "      <td>4.53324e+08</td>\n",
              "      <td>4.53391e+08</td>\n",
              "      <td>4.53458e+08</td>\n",
              "    </tr>\n",
              "    <tr>\n",
              "      <th>tot_vars_NA</th>\n",
              "      <td>200189</td>\n",
              "      <td>NaN</td>\n",
              "      <td>NaN</td>\n",
              "      <td>NaN</td>\n",
              "      <td>0.239559</td>\n",
              "      <td>0.426815</td>\n",
              "      <td>0</td>\n",
              "      <td>0</td>\n",
              "      <td>0</td>\n",
              "      <td>0</td>\n",
              "      <td>1</td>\n",
              "    </tr>\n",
              "    <tr>\n",
              "      <th>mths_since_last_delinq_NA</th>\n",
              "      <td>200189</td>\n",
              "      <td>NaN</td>\n",
              "      <td>NaN</td>\n",
              "      <td>NaN</td>\n",
              "      <td>0.552318</td>\n",
              "      <td>0.497257</td>\n",
              "      <td>0</td>\n",
              "      <td>0</td>\n",
              "      <td>1</td>\n",
              "      <td>1</td>\n",
              "      <td>1</td>\n",
              "    </tr>\n",
              "  </tbody>\n",
              "</table>\n",
              "</div>"
            ],
            "text/plain": [
              "                             count  unique  ...          75%          max\n",
              "loan_amnt                   200189     NaN  ...        18700        35000\n",
              "term                        200189       2  ...          NaN          NaN\n",
              "int_rate                    200189     NaN  ...        16.78        28.99\n",
              "installment                 200189     NaN  ...       549.74      1424.57\n",
              "grade                       200189       7  ...          NaN          NaN\n",
              "sub_grade                   200189     NaN  ...           15           34\n",
              "emp_title                   189062  107730  ...          NaN          NaN\n",
              "emp_length                  192135      11  ...          NaN          NaN\n",
              "home_ownership              200189       6  ...          NaN          NaN\n",
              "annual_inc                  200189     NaN  ...        87000  8.70658e+06\n",
              "verification_status         200189       3  ...          NaN          NaN\n",
              "issue_d                     200189     103  ...          NaN          NaN\n",
              "loan_status                 200189     NaN  ...            1            1\n",
              "pymnt_plan                  200189       2  ...          NaN          NaN\n",
              "purpose                     200189      14  ...          NaN          NaN\n",
              "zip_code                    200189     877  ...          NaN          NaN\n",
              "addr_state                  200189      51  ...          NaN          NaN\n",
              "dti                         200189     NaN  ...        22.19        57.14\n",
              "delinq_2yrs                 200189     NaN  ...            0           22\n",
              "earliest_cr_line            200189     635  ...          NaN          NaN\n",
              "inq_last_6mths              200189     NaN  ...            1            8\n",
              "mths_since_last_delinq      200189     NaN  ...           28          151\n",
              "open_acc                    200189     NaN  ...           14           76\n",
              "pub_rec                     200189     NaN  ...            0           12\n",
              "revol_bal                   200189     NaN  ...        19059       975800\n",
              "revol_util                  200035     NaN  ...           74        892.3\n",
              "total_acc                   200189     NaN  ...           32          118\n",
              "initial_list_status         200189       2  ...          NaN          NaN\n",
              "collections_12_mths_ex_med  200145     NaN  ...            0            6\n",
              "policy_code                 200189     NaN  ...            1            1\n",
              "application_type            200189       2  ...          NaN          NaN\n",
              "acc_now_delinq              200189     NaN  ...            0            5\n",
              "tot_coll_amt                200189     NaN  ...            0       296368\n",
              "tot_cur_bal                 200189     NaN  ...       165536  8.00008e+06\n",
              "total_rev_hi_lim            200189     NaN  ...        30800    1.035e+06\n",
              "record_id                   200189     NaN  ...  4.53391e+08  4.53458e+08\n",
              "tot_vars_NA                 200189     NaN  ...            0            1\n",
              "mths_since_last_delinq_NA   200189     NaN  ...            1            1\n",
              "\n",
              "[38 rows x 11 columns]"
            ]
          },
          "metadata": {
            "tags": []
          },
          "execution_count": 17
        }
      ]
    },
    {
      "cell_type": "markdown",
      "metadata": {
        "id": "j-bqaOxkUHW2",
        "colab_type": "text"
      },
      "source": [
        "Processing \"emp_length\" variable: values \"10+ years\" will be replaced with number 15, as the mean of that frequency of population. NA's will be replaced with random values from var's distribution."
      ]
    },
    {
      "cell_type": "code",
      "metadata": {
        "id": "ocoRKlaQUHW4",
        "colab_type": "code",
        "outputId": "cf6058e0-f6ee-4edf-98ec-c433aa4bc152",
        "colab": {
          "base_uri": "https://localhost:8080/",
          "height": 72
        }
      },
      "source": [
        "df[\"emp_length\"].unique()"
      ],
      "execution_count": 18,
      "outputs": [
        {
          "output_type": "execute_result",
          "data": {
            "text/plain": [
              "array(['4 years', nan, '3 years', '< 1 year', '10+ years', '8 years',\n",
              "       '6 years', '5 years', '2 years', '1 year', '7 years', '9 years'],\n",
              "      dtype=object)"
            ]
          },
          "metadata": {
            "tags": []
          },
          "execution_count": 18
        }
      ]
    },
    {
      "cell_type": "code",
      "metadata": {
        "id": "UUQ4zfIIUHXH",
        "colab_type": "code",
        "outputId": "94066841-1228-4e65-a90d-f1ffec3f6ff3",
        "colab": {
          "base_uri": "https://localhost:8080/",
          "height": 72
        }
      },
      "source": [
        "na_ind=df[\"emp_length\"].isna()\n",
        "na_num=na_ind.sum()\n",
        "t=df[~na_ind][\"emp_length\"].value_counts(normalize=True)\n",
        "emp_p=t.tolist()\n",
        "emp_ind=t.index\n",
        "emp_ind"
      ],
      "execution_count": 19,
      "outputs": [
        {
          "output_type": "execute_result",
          "data": {
            "text/plain": [
              "Index(['10+ years', '2 years', '< 1 year', '3 years', '5 years', '1 year',\n",
              "       '4 years', '6 years', '7 years', '8 years', '9 years'],\n",
              "      dtype='object')"
            ]
          },
          "metadata": {
            "tags": []
          },
          "execution_count": 19
        }
      ]
    },
    {
      "cell_type": "code",
      "metadata": {
        "id": "rHdjZf5IUHXP",
        "colab_type": "code",
        "outputId": "948355fc-cd72-433b-86f3-e21f458a2da1",
        "colab": {
          "base_uri": "https://localhost:8080/",
          "height": 1156
        }
      },
      "source": [
        "df.loc[na_ind,\"emp_length\"]=np.random.choice(emp_ind,size=na_num,p=emp_p)\n",
        "df.loc[na_ind,\"emp_length\"]"
      ],
      "execution_count": 20,
      "outputs": [
        {
          "output_type": "execute_result",
          "data": {
            "text/plain": [
              "1           8 years\n",
              "6           6 years\n",
              "8           9 years\n",
              "26          3 years\n",
              "29        10+ years\n",
              "42          2 years\n",
              "45         < 1 year\n",
              "62        10+ years\n",
              "81          8 years\n",
              "124       10+ years\n",
              "150        < 1 year\n",
              "159        < 1 year\n",
              "191         4 years\n",
              "193       10+ years\n",
              "207       10+ years\n",
              "237        < 1 year\n",
              "246        < 1 year\n",
              "304         2 years\n",
              "335         8 years\n",
              "337       10+ years\n",
              "377         5 years\n",
              "411        < 1 year\n",
              "419        < 1 year\n",
              "457        < 1 year\n",
              "536          1 year\n",
              "541         6 years\n",
              "555         2 years\n",
              "562         6 years\n",
              "570        < 1 year\n",
              "612         5 years\n",
              "            ...    \n",
              "199376    10+ years\n",
              "199394     < 1 year\n",
              "199420      5 years\n",
              "199469      7 years\n",
              "199555    10+ years\n",
              "199638    10+ years\n",
              "199655      7 years\n",
              "199662      7 years\n",
              "199671      4 years\n",
              "199680      3 years\n",
              "199728      4 years\n",
              "199766     < 1 year\n",
              "199788      3 years\n",
              "199794       1 year\n",
              "199906    10+ years\n",
              "199947      3 years\n",
              "199965      9 years\n",
              "199998    10+ years\n",
              "200009      5 years\n",
              "200011      9 years\n",
              "200047    10+ years\n",
              "200108      9 years\n",
              "200109    10+ years\n",
              "200111    10+ years\n",
              "200115    10+ years\n",
              "200122       1 year\n",
              "200152      3 years\n",
              "200164      9 years\n",
              "200169    10+ years\n",
              "200175    10+ years\n",
              "Name: emp_length, Length: 8054, dtype: object"
            ]
          },
          "metadata": {
            "tags": []
          },
          "execution_count": 20
        }
      ]
    },
    {
      "cell_type": "code",
      "metadata": {
        "id": "Uc72CiXxUHXg",
        "colab_type": "code",
        "colab": {}
      },
      "source": [
        "def repl (x):\n",
        "    if x.startswith(\"<\"):\n",
        "        return 0\n",
        "    elif x.startswith(\"10\"):\n",
        "        return 15\n",
        "    else:\n",
        "        return int(x[0])"
      ],
      "execution_count": 0,
      "outputs": []
    },
    {
      "cell_type": "code",
      "metadata": {
        "scrolled": true,
        "id": "C7AkyRrsUHXn",
        "colab_type": "code",
        "outputId": "be5b65a5-d5eb-45c6-90f1-3af96a180ad9",
        "colab": {
          "base_uri": "https://localhost:8080/",
          "height": 1156
        }
      },
      "source": [
        "df[\"emp_length\"]=df[\"emp_length\"].apply(repl)\n",
        "df[\"emp_length\"]"
      ],
      "execution_count": 23,
      "outputs": [
        {
          "output_type": "execute_result",
          "data": {
            "text/plain": [
              "0          4\n",
              "1          8\n",
              "2          3\n",
              "3          0\n",
              "4         15\n",
              "5          4\n",
              "6          6\n",
              "7         15\n",
              "8          9\n",
              "9          3\n",
              "10        15\n",
              "11         4\n",
              "12        15\n",
              "13        15\n",
              "14         4\n",
              "15        15\n",
              "16         8\n",
              "17         6\n",
              "18        15\n",
              "19        15\n",
              "20         5\n",
              "21         8\n",
              "22        15\n",
              "23         0\n",
              "24        15\n",
              "25         2\n",
              "26         3\n",
              "27         4\n",
              "28        15\n",
              "29        15\n",
              "          ..\n",
              "200159     4\n",
              "200160     3\n",
              "200161    15\n",
              "200162     8\n",
              "200163     5\n",
              "200164     9\n",
              "200165    15\n",
              "200166     3\n",
              "200167     0\n",
              "200168    15\n",
              "200169    15\n",
              "200170    15\n",
              "200171     0\n",
              "200172     6\n",
              "200173    15\n",
              "200174     6\n",
              "200175    15\n",
              "200176    15\n",
              "200177     3\n",
              "200178     6\n",
              "200179     1\n",
              "200180     6\n",
              "200181     2\n",
              "200182     2\n",
              "200183     8\n",
              "200184    15\n",
              "200185     2\n",
              "200186     5\n",
              "200187     7\n",
              "200188     3\n",
              "Name: emp_length, Length: 200189, dtype: int64"
            ]
          },
          "metadata": {
            "tags": []
          },
          "execution_count": 23
        }
      ]
    },
    {
      "cell_type": "markdown",
      "metadata": {
        "id": "cYmCHzrfUHXt",
        "colab_type": "text"
      },
      "source": [
        "Dropping \"drop_vars\": "
      ]
    },
    {
      "cell_type": "code",
      "metadata": {
        "id": "ydj_OosIUHXw",
        "colab_type": "code",
        "outputId": "3d143f9c-d17b-49eb-fe43-8175d79c0fee",
        "colab": {
          "base_uri": "https://localhost:8080/",
          "height": 1084
        }
      },
      "source": [
        "df.drop(labels=drop_vars,axis=1, inplace=True)\n",
        "df.head(1).T"
      ],
      "execution_count": 24,
      "outputs": [
        {
          "output_type": "execute_result",
          "data": {
            "text/html": [
              "<div>\n",
              "<style scoped>\n",
              "    .dataframe tbody tr th:only-of-type {\n",
              "        vertical-align: middle;\n",
              "    }\n",
              "\n",
              "    .dataframe tbody tr th {\n",
              "        vertical-align: top;\n",
              "    }\n",
              "\n",
              "    .dataframe thead th {\n",
              "        text-align: right;\n",
              "    }\n",
              "</style>\n",
              "<table border=\"1\" class=\"dataframe\">\n",
              "  <thead>\n",
              "    <tr style=\"text-align: right;\">\n",
              "      <th></th>\n",
              "      <th>0</th>\n",
              "    </tr>\n",
              "  </thead>\n",
              "  <tbody>\n",
              "    <tr>\n",
              "      <th>loan_amnt</th>\n",
              "      <td>15000</td>\n",
              "    </tr>\n",
              "    <tr>\n",
              "      <th>term</th>\n",
              "      <td>36 months</td>\n",
              "    </tr>\n",
              "    <tr>\n",
              "      <th>int_rate</th>\n",
              "      <td>11.99</td>\n",
              "    </tr>\n",
              "    <tr>\n",
              "      <th>installment</th>\n",
              "      <td>498.15</td>\n",
              "    </tr>\n",
              "    <tr>\n",
              "      <th>sub_grade</th>\n",
              "      <td>7</td>\n",
              "    </tr>\n",
              "    <tr>\n",
              "      <th>emp_length</th>\n",
              "      <td>4</td>\n",
              "    </tr>\n",
              "    <tr>\n",
              "      <th>home_ownership</th>\n",
              "      <td>MORTGAGE</td>\n",
              "    </tr>\n",
              "    <tr>\n",
              "      <th>annual_inc</th>\n",
              "      <td>70000</td>\n",
              "    </tr>\n",
              "    <tr>\n",
              "      <th>verification_status</th>\n",
              "      <td>Verified</td>\n",
              "    </tr>\n",
              "    <tr>\n",
              "      <th>issue_d</th>\n",
              "      <td>Oct-2013</td>\n",
              "    </tr>\n",
              "    <tr>\n",
              "      <th>loan_status</th>\n",
              "      <td>1</td>\n",
              "    </tr>\n",
              "    <tr>\n",
              "      <th>pymnt_plan</th>\n",
              "      <td>n</td>\n",
              "    </tr>\n",
              "    <tr>\n",
              "      <th>purpose</th>\n",
              "      <td>debt_consolidation</td>\n",
              "    </tr>\n",
              "    <tr>\n",
              "      <th>addr_state</th>\n",
              "      <td>PA</td>\n",
              "    </tr>\n",
              "    <tr>\n",
              "      <th>dti</th>\n",
              "      <td>13.85</td>\n",
              "    </tr>\n",
              "    <tr>\n",
              "      <th>delinq_2yrs</th>\n",
              "      <td>0</td>\n",
              "    </tr>\n",
              "    <tr>\n",
              "      <th>earliest_cr_line</th>\n",
              "      <td>Dec-1991</td>\n",
              "    </tr>\n",
              "    <tr>\n",
              "      <th>inq_last_6mths</th>\n",
              "      <td>1</td>\n",
              "    </tr>\n",
              "    <tr>\n",
              "      <th>mths_since_last_delinq</th>\n",
              "      <td>0</td>\n",
              "    </tr>\n",
              "    <tr>\n",
              "      <th>open_acc</th>\n",
              "      <td>17</td>\n",
              "    </tr>\n",
              "    <tr>\n",
              "      <th>pub_rec</th>\n",
              "      <td>3</td>\n",
              "    </tr>\n",
              "    <tr>\n",
              "      <th>revol_bal</th>\n",
              "      <td>12540</td>\n",
              "    </tr>\n",
              "    <tr>\n",
              "      <th>revol_util</th>\n",
              "      <td>61.2</td>\n",
              "    </tr>\n",
              "    <tr>\n",
              "      <th>total_acc</th>\n",
              "      <td>32</td>\n",
              "    </tr>\n",
              "    <tr>\n",
              "      <th>initial_list_status</th>\n",
              "      <td>f</td>\n",
              "    </tr>\n",
              "    <tr>\n",
              "      <th>collections_12_mths_ex_med</th>\n",
              "      <td>0</td>\n",
              "    </tr>\n",
              "    <tr>\n",
              "      <th>application_type</th>\n",
              "      <td>INDIVIDUAL</td>\n",
              "    </tr>\n",
              "    <tr>\n",
              "      <th>acc_now_delinq</th>\n",
              "      <td>0</td>\n",
              "    </tr>\n",
              "    <tr>\n",
              "      <th>tot_coll_amt</th>\n",
              "      <td>0</td>\n",
              "    </tr>\n",
              "    <tr>\n",
              "      <th>tot_cur_bal</th>\n",
              "      <td>295215</td>\n",
              "    </tr>\n",
              "    <tr>\n",
              "      <th>total_rev_hi_lim</th>\n",
              "      <td>20500</td>\n",
              "    </tr>\n",
              "    <tr>\n",
              "      <th>tot_vars_NA</th>\n",
              "      <td>0</td>\n",
              "    </tr>\n",
              "    <tr>\n",
              "      <th>mths_since_last_delinq_NA</th>\n",
              "      <td>1</td>\n",
              "    </tr>\n",
              "  </tbody>\n",
              "</table>\n",
              "</div>"
            ],
            "text/plain": [
              "                                             0\n",
              "loan_amnt                                15000\n",
              "term                                 36 months\n",
              "int_rate                                 11.99\n",
              "installment                             498.15\n",
              "sub_grade                                    7\n",
              "emp_length                                   4\n",
              "home_ownership                        MORTGAGE\n",
              "annual_inc                               70000\n",
              "verification_status                   Verified\n",
              "issue_d                               Oct-2013\n",
              "loan_status                                  1\n",
              "pymnt_plan                                   n\n",
              "purpose                     debt_consolidation\n",
              "addr_state                                  PA\n",
              "dti                                      13.85\n",
              "delinq_2yrs                                  0\n",
              "earliest_cr_line                      Dec-1991\n",
              "inq_last_6mths                               1\n",
              "mths_since_last_delinq                       0\n",
              "open_acc                                    17\n",
              "pub_rec                                      3\n",
              "revol_bal                                12540\n",
              "revol_util                                61.2\n",
              "total_acc                                   32\n",
              "initial_list_status                          f\n",
              "collections_12_mths_ex_med                   0\n",
              "application_type                    INDIVIDUAL\n",
              "acc_now_delinq                               0\n",
              "tot_coll_amt                                 0\n",
              "tot_cur_bal                             295215\n",
              "total_rev_hi_lim                         20500\n",
              "tot_vars_NA                                  0\n",
              "mths_since_last_delinq_NA                    1"
            ]
          },
          "metadata": {
            "tags": []
          },
          "execution_count": 24
        }
      ]
    },
    {
      "cell_type": "markdown",
      "metadata": {
        "id": "gBy3BhO4UHX_",
        "colab_type": "text"
      },
      "source": [
        "Updating NA variables:"
      ]
    },
    {
      "cell_type": "code",
      "metadata": {
        "id": "NvgUENIXUHYA",
        "colab_type": "code",
        "outputId": "514226ff-008e-479e-9e05-71f416208fc7",
        "colab": {
          "base_uri": "https://localhost:8080/",
          "height": 72
        }
      },
      "source": [
        "na_vars=df.columns[df.isna().any()].tolist()\n",
        "(df[na_vars].isna().sum()/df.shape[0]).sort_values(ascending=False)"
      ],
      "execution_count": 25,
      "outputs": [
        {
          "output_type": "execute_result",
          "data": {
            "text/plain": [
              "revol_util                    0.000769\n",
              "collections_12_mths_ex_med    0.000220\n",
              "dtype: float64"
            ]
          },
          "metadata": {
            "tags": []
          },
          "execution_count": 25
        }
      ]
    },
    {
      "cell_type": "markdown",
      "metadata": {
        "id": "M333dp2EUHYO",
        "colab_type": "text"
      },
      "source": [
        "We'll drop the observations where the values of  other variables are missing, because its fraction fraction is quite small."
      ]
    },
    {
      "cell_type": "code",
      "metadata": {
        "scrolled": true,
        "id": "8Lhi4d_mUHYP",
        "colab_type": "code",
        "outputId": "fe2cbc18-c809-4ee9-f532-50f8f26f88a4",
        "colab": {
          "base_uri": "https://localhost:8080/",
          "height": 35
        }
      },
      "source": [
        "df.dropna(inplace=True,subset=na_vars)\n",
        "df.columns[df.isna().any()].tolist()"
      ],
      "execution_count": 26,
      "outputs": [
        {
          "output_type": "execute_result",
          "data": {
            "text/plain": [
              "[]"
            ]
          },
          "metadata": {
            "tags": []
          },
          "execution_count": 26
        }
      ]
    },
    {
      "cell_type": "markdown",
      "metadata": {
        "id": "4JIlofhpVWa7",
        "colab_type": "text"
      },
      "source": [
        "Removing categories with small fraction of \"addr_state\" variable."
      ]
    },
    {
      "cell_type": "code",
      "metadata": {
        "id": "EJJlbcLGPttW",
        "colab_type": "code",
        "outputId": "75d3e7d4-7a3c-4c2d-e9d2-0637ca65cdce",
        "colab": {
          "base_uri": "https://localhost:8080/",
          "height": 256
        }
      },
      "source": [
        "t=df[\"addr_state\"].value_counts(normalize=True)\n",
        "thr=0.2\n",
        "state_list=t[t>t.max()*thr].index.tolist()\n",
        "state_list\n",
        "state_ind=df[\"addr_state\"].isin(state_list)\n",
        "df[\"addr_state\"].loc[~state_ind]=\"DEFAULT\"\n",
        "df[\"addr_state\"].value_counts()"
      ],
      "execution_count": 27,
      "outputs": [
        {
          "output_type": "stream",
          "text": [
            "/usr/local/lib/python3.6/dist-packages/pandas/core/indexing.py:190: SettingWithCopyWarning: \n",
            "A value is trying to be set on a copy of a slice from a DataFrame\n",
            "\n",
            "See the caveats in the documentation: http://pandas.pydata.org/pandas-docs/stable/indexing.html#indexing-view-versus-copy\n",
            "  self._setitem_with_indexer(indexer, value)\n"
          ],
          "name": "stderr"
        },
        {
          "output_type": "execute_result",
          "data": {
            "text/plain": [
              "DEFAULT    105063\n",
              "CA          33827\n",
              "NY          17064\n",
              "TX          15395\n",
              "FL          13912\n",
              "NJ           7555\n",
              "IL           7175\n",
              "Name: addr_state, dtype: int64"
            ]
          },
          "metadata": {
            "tags": []
          },
          "execution_count": 27
        }
      ]
    },
    {
      "cell_type": "markdown",
      "metadata": {
        "id": "vLYpjyJKUHYU",
        "colab_type": "text"
      },
      "source": [
        "Processing date variables:"
      ]
    },
    {
      "cell_type": "code",
      "metadata": {
        "id": "fd8YJfv5UHYU",
        "colab_type": "code",
        "colab": {}
      },
      "source": [
        "date_vars=[\"earliest_cr_line\",\"issue_d\"]"
      ],
      "execution_count": 0,
      "outputs": []
    },
    {
      "cell_type": "code",
      "metadata": {
        "id": "9JwvxD07UHYX",
        "colab_type": "code",
        "colab": {}
      },
      "source": [
        "for i in date_vars:\n",
        "    t=pd.to_datetime(df[i])\n",
        "    df[i+\"_year\"]=t.dt.year\n",
        "#    df[i+\"_month\"]=t.dt.month\n",
        "df.drop(labels=date_vars,axis=1, inplace=True)"
      ],
      "execution_count": 0,
      "outputs": []
    },
    {
      "cell_type": "code",
      "metadata": {
        "id": "4mMAaTQ9UHYZ",
        "colab_type": "code",
        "outputId": "383586fd-eed6-4f51-f350-f391f18be2de",
        "colab": {
          "base_uri": "https://localhost:8080/",
          "height": 834
        }
      },
      "source": [
        "df.describe().T"
      ],
      "execution_count": 30,
      "outputs": [
        {
          "output_type": "execute_result",
          "data": {
            "text/html": [
              "<div>\n",
              "<style scoped>\n",
              "    .dataframe tbody tr th:only-of-type {\n",
              "        vertical-align: middle;\n",
              "    }\n",
              "\n",
              "    .dataframe tbody tr th {\n",
              "        vertical-align: top;\n",
              "    }\n",
              "\n",
              "    .dataframe thead th {\n",
              "        text-align: right;\n",
              "    }\n",
              "</style>\n",
              "<table border=\"1\" class=\"dataframe\">\n",
              "  <thead>\n",
              "    <tr style=\"text-align: right;\">\n",
              "      <th></th>\n",
              "      <th>count</th>\n",
              "      <th>mean</th>\n",
              "      <th>std</th>\n",
              "      <th>min</th>\n",
              "      <th>25%</th>\n",
              "      <th>50%</th>\n",
              "      <th>75%</th>\n",
              "      <th>max</th>\n",
              "    </tr>\n",
              "  </thead>\n",
              "  <tbody>\n",
              "    <tr>\n",
              "      <th>loan_amnt</th>\n",
              "      <td>199991.0</td>\n",
              "      <td>13665.098804</td>\n",
              "      <td>8168.803273</td>\n",
              "      <td>500.00</td>\n",
              "      <td>7500.00</td>\n",
              "      <td>12000.00</td>\n",
              "      <td>18700.00</td>\n",
              "      <td>35000.00</td>\n",
              "    </tr>\n",
              "    <tr>\n",
              "      <th>int_rate</th>\n",
              "      <td>199991.0</td>\n",
              "      <td>13.877024</td>\n",
              "      <td>4.426677</td>\n",
              "      <td>5.32</td>\n",
              "      <td>10.99</td>\n",
              "      <td>13.66</td>\n",
              "      <td>16.78</td>\n",
              "      <td>28.99</td>\n",
              "    </tr>\n",
              "    <tr>\n",
              "      <th>installment</th>\n",
              "      <td>199991.0</td>\n",
              "      <td>420.599910</td>\n",
              "      <td>245.633541</td>\n",
              "      <td>15.69</td>\n",
              "      <td>242.57</td>\n",
              "      <td>367.25</td>\n",
              "      <td>549.80</td>\n",
              "      <td>1424.57</td>\n",
              "    </tr>\n",
              "    <tr>\n",
              "      <th>sub_grade</th>\n",
              "      <td>199991.0</td>\n",
              "      <td>11.174458</td>\n",
              "      <td>6.665285</td>\n",
              "      <td>0.00</td>\n",
              "      <td>6.00</td>\n",
              "      <td>10.00</td>\n",
              "      <td>15.00</td>\n",
              "      <td>34.00</td>\n",
              "    </tr>\n",
              "    <tr>\n",
              "      <th>emp_length</th>\n",
              "      <td>199991.0</td>\n",
              "      <td>7.409228</td>\n",
              "      <td>5.636605</td>\n",
              "      <td>0.00</td>\n",
              "      <td>2.00</td>\n",
              "      <td>6.00</td>\n",
              "      <td>15.00</td>\n",
              "      <td>15.00</td>\n",
              "    </tr>\n",
              "    <tr>\n",
              "      <th>annual_inc</th>\n",
              "      <td>199991.0</td>\n",
              "      <td>72363.419528</td>\n",
              "      <td>57339.924948</td>\n",
              "      <td>3000.00</td>\n",
              "      <td>45000.00</td>\n",
              "      <td>62000.00</td>\n",
              "      <td>87000.00</td>\n",
              "      <td>8706582.00</td>\n",
              "    </tr>\n",
              "    <tr>\n",
              "      <th>loan_status</th>\n",
              "      <td>199991.0</td>\n",
              "      <td>0.777575</td>\n",
              "      <td>0.415876</td>\n",
              "      <td>0.00</td>\n",
              "      <td>1.00</td>\n",
              "      <td>1.00</td>\n",
              "      <td>1.00</td>\n",
              "      <td>1.00</td>\n",
              "    </tr>\n",
              "    <tr>\n",
              "      <th>dti</th>\n",
              "      <td>199991.0</td>\n",
              "      <td>16.712423</td>\n",
              "      <td>7.851729</td>\n",
              "      <td>0.00</td>\n",
              "      <td>10.87</td>\n",
              "      <td>16.37</td>\n",
              "      <td>22.19</td>\n",
              "      <td>57.14</td>\n",
              "    </tr>\n",
              "    <tr>\n",
              "      <th>delinq_2yrs</th>\n",
              "      <td>199991.0</td>\n",
              "      <td>0.257617</td>\n",
              "      <td>0.755798</td>\n",
              "      <td>0.00</td>\n",
              "      <td>0.00</td>\n",
              "      <td>0.00</td>\n",
              "      <td>0.00</td>\n",
              "      <td>22.00</td>\n",
              "    </tr>\n",
              "    <tr>\n",
              "      <th>inq_last_6mths</th>\n",
              "      <td>199991.0</td>\n",
              "      <td>0.851203</td>\n",
              "      <td>1.067636</td>\n",
              "      <td>0.00</td>\n",
              "      <td>0.00</td>\n",
              "      <td>1.00</td>\n",
              "      <td>1.00</td>\n",
              "      <td>8.00</td>\n",
              "    </tr>\n",
              "    <tr>\n",
              "      <th>mths_since_last_delinq</th>\n",
              "      <td>199991.0</td>\n",
              "      <td>15.674005</td>\n",
              "      <td>22.727824</td>\n",
              "      <td>0.00</td>\n",
              "      <td>0.00</td>\n",
              "      <td>0.00</td>\n",
              "      <td>28.00</td>\n",
              "      <td>151.00</td>\n",
              "    </tr>\n",
              "    <tr>\n",
              "      <th>open_acc</th>\n",
              "      <td>199991.0</td>\n",
              "      <td>10.984509</td>\n",
              "      <td>4.911751</td>\n",
              "      <td>1.00</td>\n",
              "      <td>8.00</td>\n",
              "      <td>10.00</td>\n",
              "      <td>14.00</td>\n",
              "      <td>76.00</td>\n",
              "    </tr>\n",
              "    <tr>\n",
              "      <th>pub_rec</th>\n",
              "      <td>199991.0</td>\n",
              "      <td>0.147737</td>\n",
              "      <td>0.446100</td>\n",
              "      <td>0.00</td>\n",
              "      <td>0.00</td>\n",
              "      <td>0.00</td>\n",
              "      <td>0.00</td>\n",
              "      <td>12.00</td>\n",
              "    </tr>\n",
              "    <tr>\n",
              "      <th>revol_bal</th>\n",
              "      <td>199991.0</td>\n",
              "      <td>15147.801006</td>\n",
              "      <td>18112.585109</td>\n",
              "      <td>0.00</td>\n",
              "      <td>5876.00</td>\n",
              "      <td>10946.00</td>\n",
              "      <td>19060.00</td>\n",
              "      <td>975800.00</td>\n",
              "    </tr>\n",
              "    <tr>\n",
              "      <th>revol_util</th>\n",
              "      <td>199991.0</td>\n",
              "      <td>54.532562</td>\n",
              "      <td>24.759526</td>\n",
              "      <td>0.00</td>\n",
              "      <td>36.60</td>\n",
              "      <td>56.00</td>\n",
              "      <td>74.00</td>\n",
              "      <td>892.30</td>\n",
              "    </tr>\n",
              "    <tr>\n",
              "      <th>total_acc</th>\n",
              "      <td>199991.0</td>\n",
              "      <td>25.053412</td>\n",
              "      <td>11.755008</td>\n",
              "      <td>2.00</td>\n",
              "      <td>16.00</td>\n",
              "      <td>23.00</td>\n",
              "      <td>32.00</td>\n",
              "      <td>118.00</td>\n",
              "    </tr>\n",
              "    <tr>\n",
              "      <th>collections_12_mths_ex_med</th>\n",
              "      <td>199991.0</td>\n",
              "      <td>0.007380</td>\n",
              "      <td>0.093947</td>\n",
              "      <td>0.00</td>\n",
              "      <td>0.00</td>\n",
              "      <td>0.00</td>\n",
              "      <td>0.00</td>\n",
              "      <td>6.00</td>\n",
              "    </tr>\n",
              "    <tr>\n",
              "      <th>acc_now_delinq</th>\n",
              "      <td>199991.0</td>\n",
              "      <td>0.003390</td>\n",
              "      <td>0.064021</td>\n",
              "      <td>0.00</td>\n",
              "      <td>0.00</td>\n",
              "      <td>0.00</td>\n",
              "      <td>0.00</td>\n",
              "      <td>5.00</td>\n",
              "    </tr>\n",
              "    <tr>\n",
              "      <th>tot_coll_amt</th>\n",
              "      <td>199991.0</td>\n",
              "      <td>121.648389</td>\n",
              "      <td>1478.639995</td>\n",
              "      <td>0.00</td>\n",
              "      <td>0.00</td>\n",
              "      <td>0.00</td>\n",
              "      <td>0.00</td>\n",
              "      <td>296368.00</td>\n",
              "    </tr>\n",
              "    <tr>\n",
              "      <th>tot_cur_bal</th>\n",
              "      <td>199991.0</td>\n",
              "      <td>104198.740708</td>\n",
              "      <td>143520.532389</td>\n",
              "      <td>0.00</td>\n",
              "      <td>4007.00</td>\n",
              "      <td>39492.00</td>\n",
              "      <td>165592.00</td>\n",
              "      <td>8000078.00</td>\n",
              "    </tr>\n",
              "    <tr>\n",
              "      <th>total_rev_hi_lim</th>\n",
              "      <td>199991.0</td>\n",
              "      <td>22406.854568</td>\n",
              "      <td>27993.240168</td>\n",
              "      <td>0.00</td>\n",
              "      <td>3500.00</td>\n",
              "      <td>16200.00</td>\n",
              "      <td>30900.00</td>\n",
              "      <td>1035000.00</td>\n",
              "    </tr>\n",
              "    <tr>\n",
              "      <th>tot_vars_NA</th>\n",
              "      <td>199991.0</td>\n",
              "      <td>0.239281</td>\n",
              "      <td>0.426646</td>\n",
              "      <td>0.00</td>\n",
              "      <td>0.00</td>\n",
              "      <td>0.00</td>\n",
              "      <td>0.00</td>\n",
              "      <td>1.00</td>\n",
              "    </tr>\n",
              "    <tr>\n",
              "      <th>mths_since_last_delinq_NA</th>\n",
              "      <td>199991.0</td>\n",
              "      <td>0.552430</td>\n",
              "      <td>0.497245</td>\n",
              "      <td>0.00</td>\n",
              "      <td>0.00</td>\n",
              "      <td>1.00</td>\n",
              "      <td>1.00</td>\n",
              "      <td>1.00</td>\n",
              "    </tr>\n",
              "    <tr>\n",
              "      <th>earliest_cr_line_year</th>\n",
              "      <td>199991.0</td>\n",
              "      <td>1997.652114</td>\n",
              "      <td>7.009654</td>\n",
              "      <td>1946.00</td>\n",
              "      <td>1994.00</td>\n",
              "      <td>1999.00</td>\n",
              "      <td>2002.00</td>\n",
              "      <td>2012.00</td>\n",
              "    </tr>\n",
              "    <tr>\n",
              "      <th>issue_d_year</th>\n",
              "      <td>199991.0</td>\n",
              "      <td>2012.947098</td>\n",
              "      <td>1.441099</td>\n",
              "      <td>2007.00</td>\n",
              "      <td>2012.00</td>\n",
              "      <td>2013.00</td>\n",
              "      <td>2014.00</td>\n",
              "      <td>2015.00</td>\n",
              "    </tr>\n",
              "  </tbody>\n",
              "</table>\n",
              "</div>"
            ],
            "text/plain": [
              "                               count           mean  ...        75%         max\n",
              "loan_amnt                   199991.0   13665.098804  ...   18700.00    35000.00\n",
              "int_rate                    199991.0      13.877024  ...      16.78       28.99\n",
              "installment                 199991.0     420.599910  ...     549.80     1424.57\n",
              "sub_grade                   199991.0      11.174458  ...      15.00       34.00\n",
              "emp_length                  199991.0       7.409228  ...      15.00       15.00\n",
              "annual_inc                  199991.0   72363.419528  ...   87000.00  8706582.00\n",
              "loan_status                 199991.0       0.777575  ...       1.00        1.00\n",
              "dti                         199991.0      16.712423  ...      22.19       57.14\n",
              "delinq_2yrs                 199991.0       0.257617  ...       0.00       22.00\n",
              "inq_last_6mths              199991.0       0.851203  ...       1.00        8.00\n",
              "mths_since_last_delinq      199991.0      15.674005  ...      28.00      151.00\n",
              "open_acc                    199991.0      10.984509  ...      14.00       76.00\n",
              "pub_rec                     199991.0       0.147737  ...       0.00       12.00\n",
              "revol_bal                   199991.0   15147.801006  ...   19060.00   975800.00\n",
              "revol_util                  199991.0      54.532562  ...      74.00      892.30\n",
              "total_acc                   199991.0      25.053412  ...      32.00      118.00\n",
              "collections_12_mths_ex_med  199991.0       0.007380  ...       0.00        6.00\n",
              "acc_now_delinq              199991.0       0.003390  ...       0.00        5.00\n",
              "tot_coll_amt                199991.0     121.648389  ...       0.00   296368.00\n",
              "tot_cur_bal                 199991.0  104198.740708  ...  165592.00  8000078.00\n",
              "total_rev_hi_lim            199991.0   22406.854568  ...   30900.00  1035000.00\n",
              "tot_vars_NA                 199991.0       0.239281  ...       0.00        1.00\n",
              "mths_since_last_delinq_NA   199991.0       0.552430  ...       1.00        1.00\n",
              "earliest_cr_line_year       199991.0    1997.652114  ...    2002.00     2012.00\n",
              "issue_d_year                199991.0    2012.947098  ...    2014.00     2015.00\n",
              "\n",
              "[25 rows x 8 columns]"
            ]
          },
          "metadata": {
            "tags": []
          },
          "execution_count": 30
        }
      ]
    },
    {
      "cell_type": "code",
      "metadata": {
        "id": "S8Irsu9X8LD2",
        "colab_type": "code",
        "outputId": "01f12699-70a9-468b-ff61-277b7605a515",
        "colab": {
          "base_uri": "https://localhost:8080/",
          "height": 476
        }
      },
      "source": [
        "num_vars=list(df.dtypes[df.dtypes!=np.dtype('O')].index)\n",
        "num_vars"
      ],
      "execution_count": 31,
      "outputs": [
        {
          "output_type": "execute_result",
          "data": {
            "text/plain": [
              "['loan_amnt',\n",
              " 'int_rate',\n",
              " 'installment',\n",
              " 'sub_grade',\n",
              " 'emp_length',\n",
              " 'annual_inc',\n",
              " 'loan_status',\n",
              " 'dti',\n",
              " 'delinq_2yrs',\n",
              " 'inq_last_6mths',\n",
              " 'mths_since_last_delinq',\n",
              " 'open_acc',\n",
              " 'pub_rec',\n",
              " 'revol_bal',\n",
              " 'revol_util',\n",
              " 'total_acc',\n",
              " 'collections_12_mths_ex_med',\n",
              " 'acc_now_delinq',\n",
              " 'tot_coll_amt',\n",
              " 'tot_cur_bal',\n",
              " 'total_rev_hi_lim',\n",
              " 'tot_vars_NA',\n",
              " 'mths_since_last_delinq_NA',\n",
              " 'earliest_cr_line_year',\n",
              " 'issue_d_year']"
            ]
          },
          "metadata": {
            "tags": []
          },
          "execution_count": 31
        }
      ]
    },
    {
      "cell_type": "markdown",
      "metadata": {
        "id": "NEYTWCVZUHY7",
        "colab_type": "text"
      },
      "source": [
        "## 2. EDA"
      ]
    },
    {
      "cell_type": "code",
      "metadata": {
        "id": "Rteb6nESUHY9",
        "colab_type": "code",
        "outputId": "cf2f72f3-2d51-4403-a3ec-071804e1318c",
        "colab": {
          "base_uri": "https://localhost:8080/",
          "height": 320
        }
      },
      "source": [
        "df.describe()"
      ],
      "execution_count": 32,
      "outputs": [
        {
          "output_type": "execute_result",
          "data": {
            "text/html": [
              "<div>\n",
              "<style scoped>\n",
              "    .dataframe tbody tr th:only-of-type {\n",
              "        vertical-align: middle;\n",
              "    }\n",
              "\n",
              "    .dataframe tbody tr th {\n",
              "        vertical-align: top;\n",
              "    }\n",
              "\n",
              "    .dataframe thead th {\n",
              "        text-align: right;\n",
              "    }\n",
              "</style>\n",
              "<table border=\"1\" class=\"dataframe\">\n",
              "  <thead>\n",
              "    <tr style=\"text-align: right;\">\n",
              "      <th></th>\n",
              "      <th>loan_amnt</th>\n",
              "      <th>int_rate</th>\n",
              "      <th>installment</th>\n",
              "      <th>sub_grade</th>\n",
              "      <th>emp_length</th>\n",
              "      <th>annual_inc</th>\n",
              "      <th>loan_status</th>\n",
              "      <th>dti</th>\n",
              "      <th>delinq_2yrs</th>\n",
              "      <th>inq_last_6mths</th>\n",
              "      <th>mths_since_last_delinq</th>\n",
              "      <th>open_acc</th>\n",
              "      <th>pub_rec</th>\n",
              "      <th>revol_bal</th>\n",
              "      <th>revol_util</th>\n",
              "      <th>total_acc</th>\n",
              "      <th>collections_12_mths_ex_med</th>\n",
              "      <th>acc_now_delinq</th>\n",
              "      <th>tot_coll_amt</th>\n",
              "      <th>tot_cur_bal</th>\n",
              "      <th>total_rev_hi_lim</th>\n",
              "      <th>tot_vars_NA</th>\n",
              "      <th>mths_since_last_delinq_NA</th>\n",
              "      <th>earliest_cr_line_year</th>\n",
              "      <th>issue_d_year</th>\n",
              "    </tr>\n",
              "  </thead>\n",
              "  <tbody>\n",
              "    <tr>\n",
              "      <th>count</th>\n",
              "      <td>199991.000000</td>\n",
              "      <td>199991.000000</td>\n",
              "      <td>199991.000000</td>\n",
              "      <td>199991.000000</td>\n",
              "      <td>199991.000000</td>\n",
              "      <td>1.999910e+05</td>\n",
              "      <td>199991.000000</td>\n",
              "      <td>199991.000000</td>\n",
              "      <td>199991.000000</td>\n",
              "      <td>199991.000000</td>\n",
              "      <td>199991.000000</td>\n",
              "      <td>199991.000000</td>\n",
              "      <td>199991.000000</td>\n",
              "      <td>199991.000000</td>\n",
              "      <td>199991.000000</td>\n",
              "      <td>199991.000000</td>\n",
              "      <td>199991.000000</td>\n",
              "      <td>199991.000000</td>\n",
              "      <td>199991.000000</td>\n",
              "      <td>1.999910e+05</td>\n",
              "      <td>1.999910e+05</td>\n",
              "      <td>199991.000000</td>\n",
              "      <td>199991.000000</td>\n",
              "      <td>199991.000000</td>\n",
              "      <td>199991.000000</td>\n",
              "    </tr>\n",
              "    <tr>\n",
              "      <th>mean</th>\n",
              "      <td>13665.098804</td>\n",
              "      <td>13.877024</td>\n",
              "      <td>420.599910</td>\n",
              "      <td>11.174458</td>\n",
              "      <td>7.409228</td>\n",
              "      <td>7.236342e+04</td>\n",
              "      <td>0.777575</td>\n",
              "      <td>16.712423</td>\n",
              "      <td>0.257617</td>\n",
              "      <td>0.851203</td>\n",
              "      <td>15.674005</td>\n",
              "      <td>10.984509</td>\n",
              "      <td>0.147737</td>\n",
              "      <td>15147.801006</td>\n",
              "      <td>54.532562</td>\n",
              "      <td>25.053412</td>\n",
              "      <td>0.007380</td>\n",
              "      <td>0.003390</td>\n",
              "      <td>121.648389</td>\n",
              "      <td>1.041987e+05</td>\n",
              "      <td>2.240685e+04</td>\n",
              "      <td>0.239281</td>\n",
              "      <td>0.552430</td>\n",
              "      <td>1997.652114</td>\n",
              "      <td>2012.947098</td>\n",
              "    </tr>\n",
              "    <tr>\n",
              "      <th>std</th>\n",
              "      <td>8168.803273</td>\n",
              "      <td>4.426677</td>\n",
              "      <td>245.633541</td>\n",
              "      <td>6.665285</td>\n",
              "      <td>5.636605</td>\n",
              "      <td>5.733992e+04</td>\n",
              "      <td>0.415876</td>\n",
              "      <td>7.851729</td>\n",
              "      <td>0.755798</td>\n",
              "      <td>1.067636</td>\n",
              "      <td>22.727824</td>\n",
              "      <td>4.911751</td>\n",
              "      <td>0.446100</td>\n",
              "      <td>18112.585109</td>\n",
              "      <td>24.759526</td>\n",
              "      <td>11.755008</td>\n",
              "      <td>0.093947</td>\n",
              "      <td>0.064021</td>\n",
              "      <td>1478.639995</td>\n",
              "      <td>1.435205e+05</td>\n",
              "      <td>2.799324e+04</td>\n",
              "      <td>0.426646</td>\n",
              "      <td>0.497245</td>\n",
              "      <td>7.009654</td>\n",
              "      <td>1.441099</td>\n",
              "    </tr>\n",
              "    <tr>\n",
              "      <th>min</th>\n",
              "      <td>500.000000</td>\n",
              "      <td>5.320000</td>\n",
              "      <td>15.690000</td>\n",
              "      <td>0.000000</td>\n",
              "      <td>0.000000</td>\n",
              "      <td>3.000000e+03</td>\n",
              "      <td>0.000000</td>\n",
              "      <td>0.000000</td>\n",
              "      <td>0.000000</td>\n",
              "      <td>0.000000</td>\n",
              "      <td>0.000000</td>\n",
              "      <td>1.000000</td>\n",
              "      <td>0.000000</td>\n",
              "      <td>0.000000</td>\n",
              "      <td>0.000000</td>\n",
              "      <td>2.000000</td>\n",
              "      <td>0.000000</td>\n",
              "      <td>0.000000</td>\n",
              "      <td>0.000000</td>\n",
              "      <td>0.000000e+00</td>\n",
              "      <td>0.000000e+00</td>\n",
              "      <td>0.000000</td>\n",
              "      <td>0.000000</td>\n",
              "      <td>1946.000000</td>\n",
              "      <td>2007.000000</td>\n",
              "    </tr>\n",
              "    <tr>\n",
              "      <th>25%</th>\n",
              "      <td>7500.000000</td>\n",
              "      <td>10.990000</td>\n",
              "      <td>242.570000</td>\n",
              "      <td>6.000000</td>\n",
              "      <td>2.000000</td>\n",
              "      <td>4.500000e+04</td>\n",
              "      <td>1.000000</td>\n",
              "      <td>10.870000</td>\n",
              "      <td>0.000000</td>\n",
              "      <td>0.000000</td>\n",
              "      <td>0.000000</td>\n",
              "      <td>8.000000</td>\n",
              "      <td>0.000000</td>\n",
              "      <td>5876.000000</td>\n",
              "      <td>36.600000</td>\n",
              "      <td>16.000000</td>\n",
              "      <td>0.000000</td>\n",
              "      <td>0.000000</td>\n",
              "      <td>0.000000</td>\n",
              "      <td>4.007000e+03</td>\n",
              "      <td>3.500000e+03</td>\n",
              "      <td>0.000000</td>\n",
              "      <td>0.000000</td>\n",
              "      <td>1994.000000</td>\n",
              "      <td>2012.000000</td>\n",
              "    </tr>\n",
              "    <tr>\n",
              "      <th>50%</th>\n",
              "      <td>12000.000000</td>\n",
              "      <td>13.660000</td>\n",
              "      <td>367.250000</td>\n",
              "      <td>10.000000</td>\n",
              "      <td>6.000000</td>\n",
              "      <td>6.200000e+04</td>\n",
              "      <td>1.000000</td>\n",
              "      <td>16.370000</td>\n",
              "      <td>0.000000</td>\n",
              "      <td>1.000000</td>\n",
              "      <td>0.000000</td>\n",
              "      <td>10.000000</td>\n",
              "      <td>0.000000</td>\n",
              "      <td>10946.000000</td>\n",
              "      <td>56.000000</td>\n",
              "      <td>23.000000</td>\n",
              "      <td>0.000000</td>\n",
              "      <td>0.000000</td>\n",
              "      <td>0.000000</td>\n",
              "      <td>3.949200e+04</td>\n",
              "      <td>1.620000e+04</td>\n",
              "      <td>0.000000</td>\n",
              "      <td>1.000000</td>\n",
              "      <td>1999.000000</td>\n",
              "      <td>2013.000000</td>\n",
              "    </tr>\n",
              "    <tr>\n",
              "      <th>75%</th>\n",
              "      <td>18700.000000</td>\n",
              "      <td>16.780000</td>\n",
              "      <td>549.800000</td>\n",
              "      <td>15.000000</td>\n",
              "      <td>15.000000</td>\n",
              "      <td>8.700000e+04</td>\n",
              "      <td>1.000000</td>\n",
              "      <td>22.190000</td>\n",
              "      <td>0.000000</td>\n",
              "      <td>1.000000</td>\n",
              "      <td>28.000000</td>\n",
              "      <td>14.000000</td>\n",
              "      <td>0.000000</td>\n",
              "      <td>19060.000000</td>\n",
              "      <td>74.000000</td>\n",
              "      <td>32.000000</td>\n",
              "      <td>0.000000</td>\n",
              "      <td>0.000000</td>\n",
              "      <td>0.000000</td>\n",
              "      <td>1.655920e+05</td>\n",
              "      <td>3.090000e+04</td>\n",
              "      <td>0.000000</td>\n",
              "      <td>1.000000</td>\n",
              "      <td>2002.000000</td>\n",
              "      <td>2014.000000</td>\n",
              "    </tr>\n",
              "    <tr>\n",
              "      <th>max</th>\n",
              "      <td>35000.000000</td>\n",
              "      <td>28.990000</td>\n",
              "      <td>1424.570000</td>\n",
              "      <td>34.000000</td>\n",
              "      <td>15.000000</td>\n",
              "      <td>8.706582e+06</td>\n",
              "      <td>1.000000</td>\n",
              "      <td>57.140000</td>\n",
              "      <td>22.000000</td>\n",
              "      <td>8.000000</td>\n",
              "      <td>151.000000</td>\n",
              "      <td>76.000000</td>\n",
              "      <td>12.000000</td>\n",
              "      <td>975800.000000</td>\n",
              "      <td>892.300000</td>\n",
              "      <td>118.000000</td>\n",
              "      <td>6.000000</td>\n",
              "      <td>5.000000</td>\n",
              "      <td>296368.000000</td>\n",
              "      <td>8.000078e+06</td>\n",
              "      <td>1.035000e+06</td>\n",
              "      <td>1.000000</td>\n",
              "      <td>1.000000</td>\n",
              "      <td>2012.000000</td>\n",
              "      <td>2015.000000</td>\n",
              "    </tr>\n",
              "  </tbody>\n",
              "</table>\n",
              "</div>"
            ],
            "text/plain": [
              "           loan_amnt       int_rate  ...  earliest_cr_line_year   issue_d_year\n",
              "count  199991.000000  199991.000000  ...          199991.000000  199991.000000\n",
              "mean    13665.098804      13.877024  ...            1997.652114    2012.947098\n",
              "std      8168.803273       4.426677  ...               7.009654       1.441099\n",
              "min       500.000000       5.320000  ...            1946.000000    2007.000000\n",
              "25%      7500.000000      10.990000  ...            1994.000000    2012.000000\n",
              "50%     12000.000000      13.660000  ...            1999.000000    2013.000000\n",
              "75%     18700.000000      16.780000  ...            2002.000000    2014.000000\n",
              "max     35000.000000      28.990000  ...            2012.000000    2015.000000\n",
              "\n",
              "[8 rows x 25 columns]"
            ]
          },
          "metadata": {
            "tags": []
          },
          "execution_count": 32
        }
      ]
    },
    {
      "cell_type": "markdown",
      "metadata": {
        "id": "lJQ5lXfwUHZI",
        "colab_type": "text"
      },
      "source": [
        "Response variable distribution:"
      ]
    },
    {
      "cell_type": "code",
      "metadata": {
        "id": "jY7unx8DUHZK",
        "colab_type": "code",
        "outputId": "c7ff6996-e684-4b34-b2e7-62a0bbb0564b",
        "colab": {
          "base_uri": "https://localhost:8080/",
          "height": 287
        }
      },
      "source": [
        "df[\"loan_status\"].plot(kind=\"hist\")"
      ],
      "execution_count": 33,
      "outputs": [
        {
          "output_type": "execute_result",
          "data": {
            "text/plain": [
              "<matplotlib.axes._subplots.AxesSubplot at 0x7ff69ef07780>"
            ]
          },
          "metadata": {
            "tags": []
          },
          "execution_count": 33
        },
        {
          "output_type": "display_data",
          "data": {
            "image/png": "[encoded data removed]",
            "text/plain": [
              "<Figure size 432x288 with 1 Axes>"
            ]
          },
          "metadata": {
            "tags": []
          }
        }
      ]
    },
    {
      "cell_type": "markdown",
      "metadata": {
        "id": "UhP2LFRnUHZO",
        "colab_type": "text"
      },
      "source": [
        "Plotting correlation matrix for numerical variables:"
      ]
    },
    {
      "cell_type": "code",
      "metadata": {
        "id": "Cq7a8NjkUHZQ",
        "colab_type": "code",
        "outputId": "2fb8c0fc-1341-48b8-a5d8-2cccbbf2ce82",
        "colab": {
          "base_uri": "https://localhost:8080/",
          "height": 1020
        }
      },
      "source": [
        "corr = df[num_vars].corr()\n",
        "corr=corr.applymap(lambda x: float(\"{0:.2f}\".format(x)))\n",
        "plt.figure(figsize=(15,15))\n",
        "sns.heatmap(corr,\n",
        "            vmin=-1,\n",
        "            cmap='coolwarm', annot=True)"
      ],
      "execution_count": 34,
      "outputs": [
        {
          "output_type": "execute_result",
          "data": {
            "text/plain": [
              "<matplotlib.axes._subplots.AxesSubplot at 0x7ff690459c50>"
            ]
          },
          "metadata": {
            "tags": []
          },
          "execution_count": 34
        },
        {
          "output_type": "display_data",
          "data": {
            "image/png": "[encoded data removed]",
            "text/plain": [
              "<Figure size 1080x1080 with 2 Axes>"
            ]
          },
          "metadata": {
            "tags": []
          }
        }
      ]
    },
    {
      "cell_type": "markdown",
      "metadata": {
        "id": "bnbHwv9-UHZW",
        "colab_type": "text"
      },
      "source": [
        "## 3. Modelling"
      ]
    },
    {
      "cell_type": "markdown",
      "metadata": {
        "id": "RKvCfsm6UHZX",
        "colab_type": "text"
      },
      "source": [
        "Getting response variable:"
      ]
    },
    {
      "cell_type": "code",
      "metadata": {
        "id": "JvnA8xsiUHZY",
        "colab_type": "code",
        "colab": {}
      },
      "source": [
        "y=df[\"loan_status\"]\n",
        "df.drop(labels=[\"loan_status\"],axis=1, inplace=True)"
      ],
      "execution_count": 0,
      "outputs": []
    },
    {
      "cell_type": "markdown",
      "metadata": {
        "id": "037-SDx_UHZe",
        "colab_type": "text"
      },
      "source": [
        "Inverting classes of response variable for further interpretation proposes:"
      ]
    },
    {
      "cell_type": "code",
      "metadata": {
        "id": "Rl3Mrdi-UHZe",
        "colab_type": "code",
        "colab": {}
      },
      "source": [
        "y=1-y"
      ],
      "execution_count": 0,
      "outputs": []
    },
    {
      "cell_type": "markdown",
      "metadata": {
        "id": "b2uv4EHpUHZh",
        "colab_type": "text"
      },
      "source": [
        "Splitting into the train and test sets:"
      ]
    },
    {
      "cell_type": "code",
      "metadata": {
        "id": "pDvof_q0UHZi",
        "colab_type": "code",
        "colab": {}
      },
      "source": [
        "X_train, X_test, y_train, y_test = train_test_split(df,y,test_size=0.3, random_state=30, stratify=y)"
      ],
      "execution_count": 0,
      "outputs": []
    },
    {
      "cell_type": "markdown",
      "metadata": {
        "id": "jxatDY-EUHYe",
        "colab_type": "text"
      },
      "source": [
        "Getting the list of object variables:"
      ]
    },
    {
      "cell_type": "code",
      "metadata": {
        "id": "SZ1yJ3eVUHYg",
        "colab_type": "code",
        "outputId": "f4777452-bf75-4c38-d442-6e30519a70a4",
        "colab": {
          "base_uri": "https://localhost:8080/",
          "height": 300
        }
      },
      "source": [
        "obj_vars=list(df.dtypes[df.dtypes==np.dtype('O')].index)\n",
        "df[obj_vars].describe().T"
      ],
      "execution_count": 38,
      "outputs": [
        {
          "output_type": "execute_result",
          "data": {
            "text/html": [
              "<div>\n",
              "<style scoped>\n",
              "    .dataframe tbody tr th:only-of-type {\n",
              "        vertical-align: middle;\n",
              "    }\n",
              "\n",
              "    .dataframe tbody tr th {\n",
              "        vertical-align: top;\n",
              "    }\n",
              "\n",
              "    .dataframe thead th {\n",
              "        text-align: right;\n",
              "    }\n",
              "</style>\n",
              "<table border=\"1\" class=\"dataframe\">\n",
              "  <thead>\n",
              "    <tr style=\"text-align: right;\">\n",
              "      <th></th>\n",
              "      <th>count</th>\n",
              "      <th>unique</th>\n",
              "      <th>top</th>\n",
              "      <th>freq</th>\n",
              "    </tr>\n",
              "  </thead>\n",
              "  <tbody>\n",
              "    <tr>\n",
              "      <th>term</th>\n",
              "      <td>199991</td>\n",
              "      <td>2</td>\n",
              "      <td>36 months</td>\n",
              "      <td>153732</td>\n",
              "    </tr>\n",
              "    <tr>\n",
              "      <th>home_ownership</th>\n",
              "      <td>199991</td>\n",
              "      <td>6</td>\n",
              "      <td>MORTGAGE</td>\n",
              "      <td>98190</td>\n",
              "    </tr>\n",
              "    <tr>\n",
              "      <th>verification_status</th>\n",
              "      <td>199991</td>\n",
              "      <td>3</td>\n",
              "      <td>Verified</td>\n",
              "      <td>73373</td>\n",
              "    </tr>\n",
              "    <tr>\n",
              "      <th>pymnt_plan</th>\n",
              "      <td>199991</td>\n",
              "      <td>2</td>\n",
              "      <td>n</td>\n",
              "      <td>199985</td>\n",
              "    </tr>\n",
              "    <tr>\n",
              "      <th>purpose</th>\n",
              "      <td>199991</td>\n",
              "      <td>14</td>\n",
              "      <td>debt_consolidation</td>\n",
              "      <td>117885</td>\n",
              "    </tr>\n",
              "    <tr>\n",
              "      <th>addr_state</th>\n",
              "      <td>199991</td>\n",
              "      <td>7</td>\n",
              "      <td>DEFAULT</td>\n",
              "      <td>105063</td>\n",
              "    </tr>\n",
              "    <tr>\n",
              "      <th>initial_list_status</th>\n",
              "      <td>199991</td>\n",
              "      <td>2</td>\n",
              "      <td>f</td>\n",
              "      <td>142020</td>\n",
              "    </tr>\n",
              "    <tr>\n",
              "      <th>application_type</th>\n",
              "      <td>199991</td>\n",
              "      <td>2</td>\n",
              "      <td>INDIVIDUAL</td>\n",
              "      <td>199988</td>\n",
              "    </tr>\n",
              "  </tbody>\n",
              "</table>\n",
              "</div>"
            ],
            "text/plain": [
              "                      count unique                 top    freq\n",
              "term                 199991      2           36 months  153732\n",
              "home_ownership       199991      6            MORTGAGE   98190\n",
              "verification_status  199991      3            Verified   73373\n",
              "pymnt_plan           199991      2                   n  199985\n",
              "purpose              199991     14  debt_consolidation  117885\n",
              "addr_state           199991      7             DEFAULT  105063\n",
              "initial_list_status  199991      2                   f  142020\n",
              "application_type     199991      2          INDIVIDUAL  199988"
            ]
          },
          "metadata": {
            "tags": []
          },
          "execution_count": 38
        }
      ]
    },
    {
      "cell_type": "markdown",
      "metadata": {
        "id": "KOX2U_6jUHYm",
        "colab_type": "text"
      },
      "source": [
        "Transforming them with One-Hot-Encoder in train and test sets separately\n"
      ]
    },
    {
      "cell_type": "code",
      "metadata": {
        "id": "zRbAVu8PUHYn",
        "colab_type": "code",
        "colab": {}
      },
      "source": [
        "X_train=pd.get_dummies(X_train,columns=obj_vars)\n",
        "X_test=pd.get_dummies(X_test,columns=obj_vars)"
      ],
      "execution_count": 0,
      "outputs": []
    },
    {
      "cell_type": "markdown",
      "metadata": {
        "id": "Tdsh5eZ2-7Kk",
        "colab_type": "text"
      },
      "source": [
        "Comparing categories in train and test sets. dropping unique columns of test set."
      ]
    },
    {
      "cell_type": "code",
      "metadata": {
        "id": "6_0PPGbF_2BK",
        "colab_type": "code",
        "outputId": "39319d4f-1322-47a2-c9a9-9a773199d9c3",
        "colab": {
          "base_uri": "https://localhost:8080/",
          "height": 54
        }
      },
      "source": [
        "a=set(X_train.columns.values)\n",
        "b=set(X_test.columns.values)\n",
        "print(a.difference(b))\n",
        "print(b.difference(a))"
      ],
      "execution_count": 40,
      "outputs": [
        {
          "output_type": "stream",
          "text": [
            "{'home_ownership_ANY'}\n",
            "set()\n"
          ],
          "name": "stdout"
        }
      ]
    },
    {
      "cell_type": "code",
      "metadata": {
        "id": "EdGGoUHr-6Kn",
        "colab_type": "code",
        "colab": {}
      },
      "source": [
        "\n",
        "X_test.drop(labels=list(b.difference(a)),axis=1, inplace=True)\n",
        "c= list(a.difference(b))\n",
        "for i in c:\n",
        "  X_test[i]=0"
      ],
      "execution_count": 0,
      "outputs": []
    },
    {
      "cell_type": "markdown",
      "metadata": {
        "id": "afCWoP_JUHZa",
        "colab_type": "text"
      },
      "source": [
        "Casting dataframe into float:"
      ]
    },
    {
      "cell_type": "code",
      "metadata": {
        "scrolled": true,
        "id": "yz-a-QeIUHZa",
        "colab_type": "code",
        "colab": {}
      },
      "source": [
        "X_train = X_train.astype(dtype=\"float64\")\n",
        "X_test = X_test.astype(dtype=\"float64\")"
      ],
      "execution_count": 0,
      "outputs": []
    },
    {
      "cell_type": "markdown",
      "metadata": {
        "id": "YtYuGlXSUHZl",
        "colab_type": "text"
      },
      "source": [
        "Undersampling on train set:"
      ]
    },
    {
      "cell_type": "code",
      "metadata": {
        "id": "f-yBIgG4UHZl",
        "colab_type": "code",
        "colab": {}
      },
      "source": [
        "def samp(y,rat):\n",
        "    pos_ind=y[y==1].index\n",
        "    n = pos_ind.shape[0]\n",
        "    neg_ind= y[y==0].sample(n=int(n*rat)).index\n",
        "    return pos_ind.append(neg_ind)\n"
      ],
      "execution_count": 0,
      "outputs": []
    },
    {
      "cell_type": "code",
      "metadata": {
        "id": "8c-fGXXSUHZo",
        "colab_type": "code",
        "colab": {}
      },
      "source": [
        "samp_ind=samp(y_train,1)"
      ],
      "execution_count": 0,
      "outputs": []
    },
    {
      "cell_type": "markdown",
      "metadata": {
        "id": "-WNrApeCUHZr",
        "colab_type": "text"
      },
      "source": [
        "Log regression pipeline with Grid Search:"
      ]
    },
    {
      "cell_type": "code",
      "metadata": {
        "id": "4kFOhV9aUHZs",
        "colab_type": "code",
        "outputId": "3a01c271-98de-450c-b897-780c93c03196",
        "colab": {
          "base_uri": "https://localhost:8080/",
          "height": 221
        }
      },
      "source": [
        "lr_steps = [('scaler', StandardScaler()), ('logit_reg', LogisticRegression(solver=\"lbfgs\"))]\n",
        "pl_lr = Pipeline(lr_steps) # define the pipeline object.\n",
        "\n",
        "lr_params = {'logit_reg__C': [1e-07*(10**i) for i in range(1,9,1)], 'logit_reg__penalty':[\"l2\"]}\n",
        "\n",
        "lr = GridSearchCV(pl_lr, lr_params, cv=5)\n",
        "lr.fit(X_train, y_train)"
      ],
      "execution_count": 45,
      "outputs": [
        {
          "output_type": "execute_result",
          "data": {
            "text/plain": [
              "GridSearchCV(cv=5, error_score='raise-deprecating',\n",
              "       estimator=Pipeline(memory=None,\n",
              "     steps=[('scaler', StandardScaler(copy=True, with_mean=True, with_std=True)), ('logit_reg', LogisticRegression(C=1.0, class_weight=None, dual=False, fit_intercept=True,\n",
              "          intercept_scaling=1, max_iter=100, multi_class='warn',\n",
              "          n_jobs=None, penalty='l2', random_state=None, solver='lbfgs',\n",
              "          tol=0.0001, verbose=0, warm_start=False))]),\n",
              "       fit_params=None, iid='warn', n_jobs=None,\n",
              "       param_grid={'logit_reg__C': [1e-06, 9.999999999999999e-06, 9.999999999999999e-05, 0.001, 0.01, 0.09999999999999999, 1.0, 10.0], 'logit_reg__penalty': ['l2']},\n",
              "       pre_dispatch='2*n_jobs', refit=True, return_train_score='warn',\n",
              "       scoring=None, verbose=0)"
            ]
          },
          "metadata": {
            "tags": []
          },
          "execution_count": 45
        }
      ]
    },
    {
      "cell_type": "code",
      "metadata": {
        "id": "5AjVpuTEUHZy",
        "colab_type": "code",
        "outputId": "0ea24d91-9a37-4b2d-c475-5f8fde3a20e9",
        "colab": {
          "base_uri": "https://localhost:8080/",
          "height": 293
        }
      },
      "source": [
        "print(lr.best_params_ )\n",
        "probs=lr.predict_proba(X_train)[:,1]\n",
        "print(\"auc: {0:.3f}\".format(roc_auc_score(y_train,probs)))\n",
        "t=lr.best_estimator_\n",
        "t.steps[1][1].coef_ "
      ],
      "execution_count": 46,
      "outputs": [
        {
          "output_type": "stream",
          "text": [
            "{'logit_reg__C': 0.01, 'logit_reg__penalty': 'l2'}\n",
            "auc: 0.709\n"
          ],
          "name": "stdout"
        },
        {
          "output_type": "execute_result",
          "data": {
            "text/plain": [
              "array([[ 0.03933163,  0.20065111,  0.06296219,  0.17250037, -0.02634286,\n",
              "        -0.23969576,  0.19695268,  0.04767396,  0.07575324, -0.03900522,\n",
              "         0.11076988,  0.00473364,  0.02028017,  0.12231414, -0.18658311,\n",
              "         0.02321071,  0.01033263,  0.00128187, -0.10211087, -0.05052496,\n",
              "        -0.05131508, -0.03763838, -0.02373111,  0.20342761, -0.09202357,\n",
              "         0.09202357, -0.01191433, -0.03639478, -0.00778869,  0.00069501,\n",
              "        -0.00389331,  0.03930355, -0.02054806,  0.02035211,  0.00076752,\n",
              "        -0.00723232,  0.00723232, -0.01495187, -0.04319582, -0.01144314,\n",
              "         0.02177356,  0.0228791 , -0.01447008, -0.00102356,  0.0215836 ,\n",
              "         0.00680593,  0.02511803,  0.01548168,  0.08463886,  0.01104377,\n",
              "        -0.02092859, -0.02284095, -0.00356589,  0.03010547, -0.01481853,\n",
              "         0.02198848,  0.03013598, -0.02679251,  0.00895352, -0.00895352,\n",
              "         0.00070791, -0.00070791]])"
            ]
          },
          "metadata": {
            "tags": []
          },
          "execution_count": 46
        }
      ]
    },
    {
      "cell_type": "markdown",
      "metadata": {
        "id": "S-_H_y1yUHZ3",
        "colab_type": "text"
      },
      "source": [
        "Log regression pipeline with Grid Search on undersampled dataset:"
      ]
    },
    {
      "cell_type": "code",
      "metadata": {
        "id": "cfPkQuVkUHZ5",
        "colab_type": "code",
        "outputId": "757b48bd-5d49-4466-dd3c-30e891818926",
        "colab": {
          "base_uri": "https://localhost:8080/",
          "height": 221
        }
      },
      "source": [
        "pl_samp = Pipeline(lr_steps) # define the pipeline object.\n",
        "lr_samp = GridSearchCV(pl_samp, lr_params, cv=5)\n",
        "lr_samp.fit(X_train.loc[samp_ind],y_train.loc[samp_ind])\n"
      ],
      "execution_count": 47,
      "outputs": [
        {
          "output_type": "execute_result",
          "data": {
            "text/plain": [
              "GridSearchCV(cv=5, error_score='raise-deprecating',\n",
              "       estimator=Pipeline(memory=None,\n",
              "     steps=[('scaler', StandardScaler(copy=True, with_mean=True, with_std=True)), ('logit_reg', LogisticRegression(C=1.0, class_weight=None, dual=False, fit_intercept=True,\n",
              "          intercept_scaling=1, max_iter=100, multi_class='warn',\n",
              "          n_jobs=None, penalty='l2', random_state=None, solver='lbfgs',\n",
              "          tol=0.0001, verbose=0, warm_start=False))]),\n",
              "       fit_params=None, iid='warn', n_jobs=None,\n",
              "       param_grid={'logit_reg__C': [1e-06, 9.999999999999999e-06, 9.999999999999999e-05, 0.001, 0.01, 0.09999999999999999, 1.0, 10.0], 'logit_reg__penalty': ['l2']},\n",
              "       pre_dispatch='2*n_jobs', refit=True, return_train_score='warn',\n",
              "       scoring=None, verbose=0)"
            ]
          },
          "metadata": {
            "tags": []
          },
          "execution_count": 47
        }
      ]
    },
    {
      "cell_type": "code",
      "metadata": {
        "id": "0C7SZDVnUHaJ",
        "colab_type": "code",
        "outputId": "d0f44a1c-2c0d-4ec2-a6f5-2fa17350bd43",
        "colab": {
          "base_uri": "https://localhost:8080/",
          "height": 293
        }
      },
      "source": [
        "print(lr_samp.best_params_ )\n",
        "probs=lr_samp.predict_proba(X_train)[:,1]\n",
        "print(\"auc: {0:.3f}\".format(roc_auc_score(y_train,probs)))\n",
        "t=lr_samp.best_estimator_\n",
        "t.steps[1][1].coef_ "
      ],
      "execution_count": 48,
      "outputs": [
        {
          "output_type": "stream",
          "text": [
            "{'logit_reg__C': 0.001, 'logit_reg__penalty': 'l2'}\n",
            "auc: 0.708\n"
          ],
          "name": "stdout"
        },
        {
          "output_type": "execute_result",
          "data": {
            "text/plain": [
              "array([[ 0.03933357,  0.20766761,  0.03854828,  0.19282231, -0.01858331,\n",
              "        -0.15474587,  0.19609797,  0.05402606,  0.07596631, -0.0297021 ,\n",
              "         0.07208197,  0.00508921,  0.00190533,  0.11979832, -0.14118707,\n",
              "         0.02099892,  0.01328522,  0.00558764, -0.09639895, -0.02578677,\n",
              "        -0.06271087, -0.02109124, -0.00848238,  0.16152555, -0.09655516,\n",
              "         0.09655516,  0.        , -0.03832912, -0.00992005,  0.00074808,\n",
              "         0.00385599,  0.03656677, -0.02466756,  0.02008382,  0.00432068,\n",
              "        -0.01248818,  0.01248818, -0.00896623, -0.02917669, -0.01393236,\n",
              "         0.01571373,  0.01779148, -0.02447814, -0.0101613 ,  0.02350071,\n",
              "         0.00976342,  0.02237679,  0.01354023,  0.06387537,  0.00874226,\n",
              "        -0.01668821, -0.0236057 , -0.00232035,  0.03290688, -0.00674296,\n",
              "         0.02305696,  0.02332266, -0.03144053,  0.00332813, -0.00332813,\n",
              "         0.00423718, -0.00423718]])"
            ]
          },
          "metadata": {
            "tags": []
          },
          "execution_count": 48
        }
      ]
    },
    {
      "cell_type": "markdown",
      "metadata": {
        "id": "eCAASPHPUHaM",
        "colab_type": "text"
      },
      "source": [
        "Gradient boosting pipeline with Grid Search:"
      ]
    },
    {
      "cell_type": "code",
      "metadata": {
        "id": "dCco5jjCUHaO",
        "colab_type": "code",
        "outputId": "ba0a4213-ffbc-4972-8424-c42b22eacfcf",
        "colab": {
          "base_uri": "https://localhost:8080/",
          "height": 239
        }
      },
      "source": [
        "gbm_steps = [('scaler', StandardScaler()), ('gbm', GradientBoostingClassifier())]\n",
        "pl_gbm = Pipeline(gbm_steps) # define the pipeline object.\n",
        "#gbm_params = {'gbm__learning_rate': [1e-04*(10**i) for i in range(1,5,1)], 'gbm__n_estimators':[i for i in range(20,160,20)]}\n",
        "gbm_params = {'gbm__learning_rate': [0.1], 'gbm__n_estimators':[100]}\n",
        "gbm = GridSearchCV(pl_gbm, gbm_params, cv=3)\n",
        "gbm.fit(X_train, y_train)"
      ],
      "execution_count": 49,
      "outputs": [
        {
          "output_type": "execute_result",
          "data": {
            "text/plain": [
              "GridSearchCV(cv=3, error_score='raise-deprecating',\n",
              "       estimator=Pipeline(memory=None,\n",
              "     steps=[('scaler', StandardScaler(copy=True, with_mean=True, with_std=True)), ('gbm', GradientBoostingClassifier(criterion='friedman_mse', init=None,\n",
              "              learning_rate=0.1, loss='deviance', max_depth=3,\n",
              "              max_features=None, max_leaf_nodes=None,\n",
              "              min_impurity_decreas...    subsample=1.0, tol=0.0001, validation_fraction=0.1,\n",
              "              verbose=0, warm_start=False))]),\n",
              "       fit_params=None, iid='warn', n_jobs=None,\n",
              "       param_grid={'gbm__learning_rate': [0.1], 'gbm__n_estimators': [100]},\n",
              "       pre_dispatch='2*n_jobs', refit=True, return_train_score='warn',\n",
              "       scoring=None, verbose=0)"
            ]
          },
          "metadata": {
            "tags": []
          },
          "execution_count": 49
        }
      ]
    },
    {
      "cell_type": "code",
      "metadata": {
        "id": "45AWFGW8a2TT",
        "colab_type": "code",
        "outputId": "a435cade-dd22-4f3c-e69a-0eb5aadbc874",
        "colab": {
          "base_uri": "https://localhost:8080/",
          "height": 54
        }
      },
      "source": [
        "print(gbm.best_params_ )\n",
        "probs=gbm.predict_proba(X_train)[:,1]\n",
        "print(\"auc: {0:.3f}\".format(roc_auc_score(y_train,probs)))\n",
        "t=gbm.best_estimator_\n",
        "imp_arr=t.steps[1][1].feature_importances_ "
      ],
      "execution_count": 50,
      "outputs": [
        {
          "output_type": "stream",
          "text": [
            "{'gbm__learning_rate': 0.1, 'gbm__n_estimators': 100}\n",
            "auc: 0.724\n"
          ],
          "name": "stdout"
        }
      ]
    },
    {
      "cell_type": "markdown",
      "metadata": {
        "id": "hk4dn4_qdngb",
        "colab_type": "text"
      },
      "source": [
        "Getting list of important vars:"
      ]
    },
    {
      "cell_type": "code",
      "metadata": {
        "id": "uBa79Uv4b8KG",
        "colab_type": "code",
        "colab": {
          "base_uri": "https://localhost:8080/",
          "height": 35
        },
        "outputId": "6ce1747e-be46-426c-da9f-058c4b8730f6"
      },
      "source": [
        "thr=5\n",
        "imp_ind=np.flip(np.argsort(imp_arr))[0:thr]\n",
        "imp_ind=X_train.columns.values[imp_ind].tolist()\n",
        "imp_ind"
      ],
      "execution_count": 52,
      "outputs": [
        {
          "output_type": "execute_result",
          "data": {
            "text/plain": [
              "['sub_grade', 'int_rate', 'annual_inc', 'dti', 'issue_d_year']"
            ]
          },
          "metadata": {
            "tags": []
          },
          "execution_count": 52
        }
      ]
    },
    {
      "cell_type": "markdown",
      "metadata": {
        "id": "9yZtC6gedwcY",
        "colab_type": "text"
      },
      "source": [
        "Training GBM on important variables:"
      ]
    },
    {
      "cell_type": "code",
      "metadata": {
        "id": "oHUgAJipdrS-",
        "colab_type": "code",
        "outputId": "c149b71f-0ec4-4642-9ae5-4503528baf84",
        "colab": {
          "base_uri": "https://localhost:8080/",
          "height": 239
        }
      },
      "source": [
        "gbm_imp = GridSearchCV(pl_gbm, gbm_params, cv=3)\n",
        "gbm_imp.fit(X_train[imp_ind], y_train)"
      ],
      "execution_count": 53,
      "outputs": [
        {
          "output_type": "execute_result",
          "data": {
            "text/plain": [
              "GridSearchCV(cv=3, error_score='raise-deprecating',\n",
              "       estimator=Pipeline(memory=None,\n",
              "     steps=[('scaler', StandardScaler(copy=True, with_mean=True, with_std=True)), ('gbm', GradientBoostingClassifier(criterion='friedman_mse', init=None,\n",
              "              learning_rate=0.1, loss='deviance', max_depth=3,\n",
              "              max_features=None, max_leaf_nodes=None,\n",
              "              min_impurity_decreas...    subsample=1.0, tol=0.0001, validation_fraction=0.1,\n",
              "              verbose=0, warm_start=False))]),\n",
              "       fit_params=None, iid='warn', n_jobs=None,\n",
              "       param_grid={'gbm__learning_rate': [0.1], 'gbm__n_estimators': [100]},\n",
              "       pre_dispatch='2*n_jobs', refit=True, return_train_score='warn',\n",
              "       scoring=None, verbose=0)"
            ]
          },
          "metadata": {
            "tags": []
          },
          "execution_count": 53
        }
      ]
    },
    {
      "cell_type": "code",
      "metadata": {
        "id": "kKtQqPWIeQDo",
        "colab_type": "code",
        "outputId": "7c6c0b86-0f73-4ba2-ff67-8fee5448f820",
        "colab": {
          "base_uri": "https://localhost:8080/",
          "height": 35
        }
      },
      "source": [
        "probs=gbm_imp.predict_proba(X_train[imp_ind])[:,1]\n",
        "print(\"auc: {0:.3f}\".format(roc_auc_score(y_train,probs)))"
      ],
      "execution_count": 54,
      "outputs": [
        {
          "output_type": "stream",
          "text": [
            "auc: 0.706\n"
          ],
          "name": "stdout"
        }
      ]
    },
    {
      "cell_type": "markdown",
      "metadata": {
        "id": "X4-teLmaUHaT",
        "colab_type": "text"
      },
      "source": [
        "## 4. Model selection"
      ]
    },
    {
      "cell_type": "code",
      "metadata": {
        "id": "gRqSs464UHaU",
        "colab_type": "code",
        "colab": {}
      },
      "source": [
        "def get_thr(y_test, test_probs,thr): \n",
        "    t=tpr-fpr\n",
        "    ind=np.argmax(t[tpr>=thr])\n",
        "    return threshold[ind]"
      ],
      "execution_count": 0,
      "outputs": []
    },
    {
      "cell_type": "code",
      "metadata": {
        "id": "ousuho9DUHaY",
        "colab_type": "code",
        "colab": {}
      },
      "source": [
        "def plot_roc(y_test, test_probs,tit):\n",
        "    fpr, tpr, threshold=roc_curve(y_test, test_probs)\n",
        "    roc_auc = auc(fpr, tpr)\n",
        "    # method I: plt\n",
        "    import matplotlib.pyplot as plt\n",
        "    plt.title(tit)\n",
        "    plt.plot(fpr, tpr, 'b', label = 'AUC = %0.2f' % roc_auc)\n",
        "    plt.legend(loc = 'lower right')\n",
        "    plt.plot([0, 1], [0, 1],'r--')\n",
        "    plt.xlim([0, 1])\n",
        "    plt.ylim([0, 1])\n",
        "    plt.ylabel('True Positive Rate')\n",
        "    plt.xlabel('False Positive Rate')\n",
        "    plt.show()\n"
      ],
      "execution_count": 0,
      "outputs": []
    },
    {
      "cell_type": "code",
      "metadata": {
        "id": "XGKVFGJGUHad",
        "colab_type": "code",
        "outputId": "f2fcebdc-8c07-406f-8b6d-b61074db3655",
        "colab": {
          "base_uri": "https://localhost:8080/",
          "height": 1129
        }
      },
      "source": [
        "gbm_probs=gbm.predict_proba(X_test)[:,1]\n",
        "lr_probs=lr.predict_proba(X_test)[:,1]\n",
        "samp_probs=lr_samp.predict_proba(X_test)[:,1]\n",
        "imp_probs=gbm_imp.predict_proba(X_test[imp_ind])[:,1]\n",
        "probs_arr=[lr_probs,samp_probs,gbm_probs,imp_probs]\n",
        "nms=[\"logit\",\"undersampled\",\"gbm\",\"gbm_imp\"]\n",
        "for ind,i in enumerate(probs_arr):\n",
        "    plot_roc(y_test, i,nms[ind])"
      ],
      "execution_count": 57,
      "outputs": [
        {
          "output_type": "display_data",
          "data": {
            "image/png": "[encoded data removed]",
            "text/plain": [
              "<Figure size 432x288 with 1 Axes>"
            ]
          },
          "metadata": {
            "tags": []
          }
        },
        {
          "output_type": "display_data",
          "data": {
            "image/png": "[encoded data removed]",
            "text/plain": [
              "<Figure size 432x288 with 1 Axes>"
            ]
          },
          "metadata": {
            "tags": []
          }
        },
        {
          "output_type": "display_data",
          "data": {
            "image/png": "[encoded data removed]",
            "text/plain": [
              "<Figure size 432x288 with 1 Axes>"
            ]
          },
          "metadata": {
            "tags": []
          }
        },
        {
          "output_type": "display_data",
          "data": {
            "image/png": "[encoded data removed]",
            "text/plain": [
              "<Figure size 432x288 with 1 Axes>"
            ]
          },
          "metadata": {
            "tags": []
          }
        }
      ]
    },
    {
      "cell_type": "code",
      "metadata": {
        "id": "p_owjGg3UHah",
        "colab_type": "code",
        "colab": {}
      },
      "source": [
        ""
      ],
      "execution_count": 0,
      "outputs": []
    }
  ]
}
