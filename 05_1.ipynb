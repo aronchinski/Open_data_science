{
 "cells": [
  {
   "cell_type": "code",
   "execution_count": 68,
   "metadata": {},
   "outputs": [],
   "source": [
    "%matplotlib inline\n",
    "import matplotlib.pyplot as plt\n",
    "import seaborn as sns\n",
    "# отключим предупреждения Anaconda\n",
    "import warnings\n",
    "warnings.filterwarnings('ignore')\n",
    "import pandas as pd\n",
    "import numpy as np\n",
    "from sklearn.preprocessing import StandardScaler\n",
    "from sklearn.linear_model import LogisticRegression\n",
    "from sklearn.model_selection import StratifiedKFold\n",
    "from sklearn.model_selection import GridSearchCV\n",
    "from sklearn.ensemble import RandomForestClassifier\n",
    "from sklearn.metrics import accuracy_score\n",
    "from sklearn.ensemble import BaggingClassifier\n",
    "import math"
   ]
  },
  {
   "cell_type": "markdown",
   "metadata": {},
   "source": [
    "### Задание 1.\n",
    "В зале суда есть 5 присяжных, каждый из них по отдельности с вероятностью 70% может правильно определить, виновен подсудимый или нет. С какой вероятностью они все вместе вынесут правильный вердикт, если решение принимается большинством голосов?\n",
    "\n"
   ]
  },
  {
   "cell_type": "code",
   "execution_count": 71,
   "metadata": {},
   "outputs": [],
   "source": [
    "def binom_coef(n,k):\n",
    "    return (\n",
    "        math.factorial(n)/\n",
    "        (math.factorial(k)*\n",
    "        math.factorial(n-k)))"
   ]
  },
  {
   "cell_type": "code",
   "execution_count": 83,
   "metadata": {},
   "outputs": [
    {
     "name": "stdout",
     "output_type": "stream",
     "text": [
      "Probability of the right choice: 0.837\n"
     ]
    }
   ],
   "source": [
    "p=0.7\n",
    "t=0\n",
    "n=5\n",
    "maj=int(np.ceil(5/2))\n",
    "for i in range(maj,n+1):\n",
    "    t=t+binom_coef(5,i)*p**(i)*(1-p)**(n-i)\n",
    "print(\"Probability of the right choice: {0:.3f}\".format(t))\n",
    "    "
   ]
  },
  {
   "cell_type": "code",
   "execution_count": 2,
   "metadata": {},
   "outputs": [],
   "source": [
    "## Сделаем функцию, которая будет заменять NaN значения на медиану в каждом столбце таблицы \n",
    "def delete_nan(table):\n",
    "    for col in table.columns:\n",
    "        table[col]= table[col].fillna(table[col].median())\n",
    "    return table   \n"
   ]
  },
  {
   "cell_type": "code",
   "execution_count": 3,
   "metadata": {},
   "outputs": [
    {
     "data": {
      "text/html": [
       "<div>\n",
       "<style scoped>\n",
       "    .dataframe tbody tr th:only-of-type {\n",
       "        vertical-align: middle;\n",
       "    }\n",
       "\n",
       "    .dataframe tbody tr th {\n",
       "        vertical-align: top;\n",
       "    }\n",
       "\n",
       "    .dataframe thead th {\n",
       "        text-align: right;\n",
       "    }\n",
       "</style>\n",
       "<table border=\"1\" class=\"dataframe\">\n",
       "  <thead>\n",
       "    <tr style=\"text-align: right;\">\n",
       "      <th></th>\n",
       "      <th>SeriousDlqin2yrs</th>\n",
       "      <th>age</th>\n",
       "      <th>NumberOfTime30-59DaysPastDueNotWorse</th>\n",
       "      <th>DebtRatio</th>\n",
       "      <th>NumberOfTimes90DaysLate</th>\n",
       "      <th>NumberOfTime60-89DaysPastDueNotWorse</th>\n",
       "      <th>MonthlyIncome</th>\n",
       "      <th>NumberOfDependents</th>\n",
       "    </tr>\n",
       "  </thead>\n",
       "  <tbody>\n",
       "    <tr>\n",
       "      <th>0</th>\n",
       "      <td>0</td>\n",
       "      <td>64</td>\n",
       "      <td>0</td>\n",
       "      <td>0.249908</td>\n",
       "      <td>0</td>\n",
       "      <td>0</td>\n",
       "      <td>8158.0</td>\n",
       "      <td>0.0</td>\n",
       "    </tr>\n",
       "    <tr>\n",
       "      <th>1</th>\n",
       "      <td>0</td>\n",
       "      <td>58</td>\n",
       "      <td>0</td>\n",
       "      <td>3870.000000</td>\n",
       "      <td>0</td>\n",
       "      <td>0</td>\n",
       "      <td>NaN</td>\n",
       "      <td>0.0</td>\n",
       "    </tr>\n",
       "    <tr>\n",
       "      <th>2</th>\n",
       "      <td>0</td>\n",
       "      <td>41</td>\n",
       "      <td>0</td>\n",
       "      <td>0.456127</td>\n",
       "      <td>0</td>\n",
       "      <td>0</td>\n",
       "      <td>6666.0</td>\n",
       "      <td>0.0</td>\n",
       "    </tr>\n",
       "    <tr>\n",
       "      <th>3</th>\n",
       "      <td>0</td>\n",
       "      <td>43</td>\n",
       "      <td>0</td>\n",
       "      <td>0.000190</td>\n",
       "      <td>0</td>\n",
       "      <td>0</td>\n",
       "      <td>10500.0</td>\n",
       "      <td>2.0</td>\n",
       "    </tr>\n",
       "    <tr>\n",
       "      <th>4</th>\n",
       "      <td>1</td>\n",
       "      <td>49</td>\n",
       "      <td>0</td>\n",
       "      <td>0.271820</td>\n",
       "      <td>0</td>\n",
       "      <td>0</td>\n",
       "      <td>400.0</td>\n",
       "      <td>0.0</td>\n",
       "    </tr>\n",
       "  </tbody>\n",
       "</table>\n",
       "</div>"
      ],
      "text/plain": [
       "   SeriousDlqin2yrs  age  NumberOfTime30-59DaysPastDueNotWorse    DebtRatio  \\\n",
       "0                 0   64                                     0     0.249908   \n",
       "1                 0   58                                     0  3870.000000   \n",
       "2                 0   41                                     0     0.456127   \n",
       "3                 0   43                                     0     0.000190   \n",
       "4                 1   49                                     0     0.271820   \n",
       "\n",
       "   NumberOfTimes90DaysLate  NumberOfTime60-89DaysPastDueNotWorse  \\\n",
       "0                        0                                     0   \n",
       "1                        0                                     0   \n",
       "2                        0                                     0   \n",
       "3                        0                                     0   \n",
       "4                        0                                     0   \n",
       "\n",
       "   MonthlyIncome  NumberOfDependents  \n",
       "0         8158.0                 0.0  \n",
       "1            NaN                 0.0  \n",
       "2         6666.0                 0.0  \n",
       "3        10500.0                 2.0  \n",
       "4          400.0                 0.0  "
      ]
     },
     "execution_count": 3,
     "metadata": {},
     "output_type": "execute_result"
    }
   ],
   "source": [
    "data = pd.read_csv('credit_scoring_sample.csv')\n",
    "data.head()"
   ]
  },
  {
   "cell_type": "code",
   "execution_count": 4,
   "metadata": {},
   "outputs": [
    {
     "data": {
      "text/plain": [
       "SeriousDlqin2yrs                          int64\n",
       "age                                       int64\n",
       "NumberOfTime30-59DaysPastDueNotWorse      int64\n",
       "DebtRatio                               float64\n",
       "NumberOfTimes90DaysLate                   int64\n",
       "NumberOfTime60-89DaysPastDueNotWorse      int64\n",
       "MonthlyIncome                           float64\n",
       "NumberOfDependents                      float64\n",
       "dtype: object"
      ]
     },
     "execution_count": 4,
     "metadata": {},
     "output_type": "execute_result"
    }
   ],
   "source": [
    "data.dtypes"
   ]
  },
  {
   "cell_type": "code",
   "execution_count": 5,
   "metadata": {},
   "outputs": [
    {
     "name": "stdout",
     "output_type": "stream",
     "text": [
      "Distribution of target\n"
     ]
    },
    {
     "data": {
      "text/plain": [
       "0    0.777511\n",
       "1    0.222489\n",
       "Name: SeriousDlqin2yrs, dtype: float64"
      ]
     },
     "execution_count": 5,
     "metadata": {},
     "output_type": "execute_result"
    },
    {
     "data": {
      "image/png": "[encoded data removed]",
      "text/plain": [
       "<Figure size 432x288 with 1 Axes>"
      ]
     },
     "metadata": {
      "needs_background": "light"
     },
     "output_type": "display_data"
    }
   ],
   "source": [
    "ax =data['SeriousDlqin2yrs'].hist(orientation='horizontal', color='red')\n",
    "ax.set_xlabel(\"number_of_observations\")\n",
    "ax.set_ylabel(\"unique_value\")\n",
    "ax.set_title(\"Target distribution\")\n",
    "\n",
    "print('Distribution of target')\n",
    "data['SeriousDlqin2yrs'].value_counts()/data.shape[0]"
   ]
  },
  {
   "cell_type": "code",
   "execution_count": 6,
   "metadata": {},
   "outputs": [
    {
     "data": {
      "text/plain": [
       "['age',\n",
       " 'NumberOfTime30-59DaysPastDueNotWorse',\n",
       " 'DebtRatio',\n",
       " 'NumberOfTimes90DaysLate',\n",
       " 'NumberOfTime60-89DaysPastDueNotWorse',\n",
       " 'MonthlyIncome',\n",
       " 'NumberOfDependents']"
      ]
     },
     "execution_count": 6,
     "metadata": {},
     "output_type": "execute_result"
    }
   ],
   "source": [
    "## Выберем названия всех признаков из таблицы, кроме прогнозируемого\n",
    "\n",
    "independent_columns_names = data.columns.values\n",
    "independent_columns_names = [x for x in data if x != 'SeriousDlqin2yrs']\n",
    "independent_columns_names"
   ]
  },
  {
   "cell_type": "code",
   "execution_count": 7,
   "metadata": {},
   "outputs": [],
   "source": [
    "## Применяем функцию, заменяющую все NaN значения на медианное значение соответствующего столбца\n",
    "table =delete_nan(data)"
   ]
  },
  {
   "cell_type": "code",
   "execution_count": 8,
   "metadata": {},
   "outputs": [],
   "source": [
    "## Разделяем таргет и признаки \n",
    "X =table[independent_columns_names]\n",
    "y = table['SeriousDlqin2yrs']"
   ]
  },
  {
   "cell_type": "markdown",
   "metadata": {},
   "source": [
    "## Бутстрэп"
   ]
  },
  {
   "cell_type": "markdown",
   "metadata": {},
   "source": [
    "#### Задание 2. Сделайте интервальную оценку среднего возраста (age) для клиентов, которые просрочили выплату кредита, с 90% \"уверенностью\". Используйте пример из статьи, поставьте np.random.seed(0), как это сделано в статье."
   ]
  },
  {
   "cell_type": "code",
   "execution_count": 9,
   "metadata": {},
   "outputs": [],
   "source": [
    "def get_bootstrap_samples(data, n_samples):\n",
    "    # функция для генерации подвыборок с помощью бутстрэпа\n",
    "    indices = np.random.randint(0, len(data), (n_samples, len(data)))\n",
    "    samples = data[indices]\n",
    "    return samples\n",
    "def stat_intervals(stat, alpha):\n",
    "    # функция для интервальной оценки\n",
    "    boundaries = np.percentile(stat, [100 * alpha / 2., 100 * (1 - alpha / 2.)])\n",
    "    return boundaries"
   ]
  },
  {
   "cell_type": "code",
   "execution_count": 10,
   "metadata": {},
   "outputs": [
    {
     "name": "stdout",
     "output_type": "stream",
     "text": [
      "90% interval estimation of the age of credit default:  [52.59454006 52.84540486]\n"
     ]
    }
   ],
   "source": [
    "bad_age_est = [np.mean(sample) for sample in get_bootstrap_samples(X.loc[y==0,\"age\"].values, 1000)]\n",
    "print(\"90% interval estimation of the age of credit default: \",  stat_intervals(bad_age_est, 0.1))\n"
   ]
  },
  {
   "cell_type": "markdown",
   "metadata": {},
   "source": [
    "------------//-------------"
   ]
  },
  {
   "cell_type": "code",
   "execution_count": 11,
   "metadata": {},
   "outputs": [],
   "source": [
    "from sklearn.linear_model import LogisticRegression\n",
    "from sklearn.model_selection import GridSearchCV, StratifiedKFold\n",
    "\n",
    "## Используем модуль LogisticRegression для построения логистической регрессии.\n",
    "## Из-за несбалансированности классов  в таргете добавляем параметр балансировки.\n",
    "## Используем также параметр random_state=5 для воспроизводимости результатов\n",
    "lr = LogisticRegression(random_state=5, class_weight= 'balanced')\n",
    "\n",
    "## Попробуем подобрать лучший коэффициент регуляризации (коэффициент C в логистической регрессии) для модели лог.регрессии.\n",
    "## Этот параметр необходим для того, чтобы подобрать оптимальную модель, которая не будет переобучена, с одной стороны, \n",
    "## и будет хорошо предсказывать значения таргета, с другой.\n",
    "## Остальные параметры оставляем по умолчанию.\n",
    "parameters = {'C': (0.0001, 0.001, 0.01, 0.1, 1, 10)}\n",
    "\n",
    "## Для того, чтобы подобрать коэффициент регуляризации, попробуем для каждого его возможного значения посмотреть \n",
    "## значения roc-auc на стрэтифайд кросс-валидации из 5 фолдов с помощью функции StratifiedKFold\n",
    "\n",
    "skf = StratifiedKFold(n_splits=5, shuffle=True, random_state=5)\n"
   ]
  },
  {
   "cell_type": "markdown",
   "metadata": {},
   "source": [
    "#### Задание 3. Сделайте GridSearch с метрикой \"roc-auc\" по параметру C. Какое оптимальное значение параметра С?"
   ]
  },
  {
   "cell_type": "code",
   "execution_count": 16,
   "metadata": {},
   "outputs": [
    {
     "name": "stdout",
     "output_type": "stream",
     "text": [
      "best score:0.795\n"
     ]
    }
   ],
   "source": [
    "lr_m=GridSearchCV(lr,parameters,cv=skf,scoring='roc_auc')\n",
    "lr_m.fit(X,y)\n",
    "print(\"best score:{0:.3f}\".format(lr_m.best_score_))\n",
    "lr_cofs=lr_m.best_estimator_.coef_[0]"
   ]
  },
  {
   "cell_type": "code",
   "execution_count": 17,
   "metadata": {},
   "outputs": [
    {
     "name": "stdout",
     "output_type": "stream",
     "text": [
      "best estimator:  LogisticRegression(C=0.001, class_weight='balanced', dual=False,\n",
      "          fit_intercept=True, intercept_scaling=1, max_iter=100,\n",
      "          multi_class='warn', n_jobs=None, penalty='l2', random_state=5,\n",
      "          solver='warn', tol=0.0001, verbose=0, warm_start=False)\n",
      "best score:0.795\n"
     ]
    },
    {
     "data": {
      "text/plain": [
       "{'mean_fit_time': array([0.11661425, 0.13487148, 0.15093455, 0.14186072, 0.14256535,\n",
       "        0.15063295]),\n",
       " 'std_fit_time': array([0.01119961, 0.01386585, 0.01559854, 0.01493294, 0.01336402,\n",
       "        0.01424039]),\n",
       " 'mean_score_time': array([0.00200391, 0.0032083 , 0.00481648, 0.00321007, 0.00521884,\n",
       "        0.0080276 ]),\n",
       " 'std_score_time': array([0.00400782, 0.00413505, 0.00393266, 0.00349218, 0.00432575,\n",
       "        0.00401384]),\n",
       " 'param_C': masked_array(data=[0.0001, 0.001, 0.01, 0.1, 1, 10],\n",
       "              mask=[False, False, False, False, False, False],\n",
       "        fill_value='?',\n",
       "             dtype=object),\n",
       " 'params': [{'C': 0.0001},\n",
       "  {'C': 0.001},\n",
       "  {'C': 0.01},\n",
       "  {'C': 0.1},\n",
       "  {'C': 1},\n",
       "  {'C': 10}],\n",
       " 'split0_test_score': array([0.78867909, 0.79501895, 0.79187911, 0.78943922, 0.78904763,\n",
       "        0.78904635]),\n",
       " 'split1_test_score': array([0.79339284, 0.79696261, 0.78919699, 0.78641876, 0.78651164,\n",
       "        0.78627472]),\n",
       " 'split2_test_score': array([0.79316483, 0.79784779, 0.7927515 , 0.79052074, 0.79023865,\n",
       "        0.79021089]),\n",
       " 'split3_test_score': array([0.7807311 , 0.78393665, 0.77718067, 0.77553366, 0.77520815,\n",
       "        0.77465303]),\n",
       " 'split4_test_score': array([0.79569639, 0.80328112, 0.80270876, 0.80126432, 0.80106096,\n",
       "        0.8010384 ]),\n",
       " 'mean_test_score': array([0.79033284, 0.79540944, 0.79074342, 0.78863533, 0.78841339,\n",
       "        0.78824467]),\n",
       " 'std_test_score': array([0.00531173, 0.00635744, 0.00818302, 0.00824909, 0.00826641,\n",
       "        0.00844723]),\n",
       " 'rank_test_score': array([3, 1, 2, 4, 5, 6]),\n",
       " 'split0_train_score': array([0.78943693, 0.79465671, 0.7911784 , 0.78862832, 0.78827945,\n",
       "        0.78827856]),\n",
       " 'split1_train_score': array([0.78802488, 0.7922789 , 0.7866312 , 0.78428954, 0.78436907,\n",
       "        0.78416048]),\n",
       " 'split2_train_score': array([0.79163306, 0.79716266, 0.79223977, 0.79011186, 0.78984787,\n",
       "        0.78982225]),\n",
       " 'split3_train_score': array([0.79461137, 0.79921917, 0.79420414, 0.79287846, 0.79241617,\n",
       "        0.79194704]),\n",
       " 'split4_train_score': array([0.78997101, 0.79564305, 0.79204125, 0.7898355 , 0.78953237,\n",
       "        0.78949684]),\n",
       " 'mean_train_score': array([0.79073545, 0.7957921 , 0.79125895, 0.78914873, 0.78888898,\n",
       "        0.78874104]),\n",
       " 'std_train_score': array([0.00225593, 0.00233569, 0.00251677, 0.00279974, 0.00262966,\n",
       "        0.00257737])}"
      ]
     },
     "execution_count": 17,
     "metadata": {},
     "output_type": "execute_result"
    }
   ],
   "source": [
    "print(\"best estimator: \",lr_m.best_estimator_)\n",
    "print(\"best score:{0:.3f}\".format(lr_m.best_score_))\n",
    "lr_m.cv_results_"
   ]
  },
  {
   "cell_type": "markdown",
   "metadata": {},
   "source": [
    "------------//-------------"
   ]
  },
  {
   "cell_type": "markdown",
   "metadata": {},
   "source": [
    "#### Задание 4. Можно ли считать лучшую модель устойчивой? (модель считаем устойчивой, если стандартное отклонение на валидации меньше 0.5%) Сохраните точность лучшей модели, она вам приходится для следующих заданий"
   ]
  },
  {
   "cell_type": "code",
   "execution_count": 18,
   "metadata": {},
   "outputs": [
    {
     "data": {
      "text/plain": [
       "False"
      ]
     },
     "execution_count": 18,
     "metadata": {},
     "output_type": "execute_result"
    }
   ],
   "source": [
    "lr_m.cv_results_['std_test_score'][1]<0.005"
   ]
  },
  {
   "cell_type": "markdown",
   "metadata": {},
   "source": [
    "No."
   ]
  },
  {
   "cell_type": "markdown",
   "metadata": {},
   "source": [
    "------------//-------------"
   ]
  },
  {
   "cell_type": "markdown",
   "metadata": {},
   "source": [
    "#### Задание 5. Определите самый важный признак. Важность признака определяется абсолютным значением его коэффициента. Так же нужно нормализировать все признаки, что бы можно их было корректно сравнить.\n",
    "\n"
   ]
  },
  {
   "cell_type": "code",
   "execution_count": 19,
   "metadata": {},
   "outputs": [
    {
     "data": {
      "text/plain": [
       "array(['age', 'NumberOfTime30-59DaysPastDueNotWorse', 'DebtRatio',\n",
       "       'NumberOfTimes90DaysLate', 'NumberOfTime60-89DaysPastDueNotWorse',\n",
       "       'MonthlyIncome', 'NumberOfDependents'], dtype=object)"
      ]
     },
     "execution_count": 19,
     "metadata": {},
     "output_type": "execute_result"
    }
   ],
   "source": [
    "X.columns.values"
   ]
  },
  {
   "cell_type": "code",
   "execution_count": 21,
   "metadata": {},
   "outputs": [
    {
     "data": {
      "text/plain": [
       "array([-3.49650346, -0.0434381 , -0.14267666, -0.02274349, -0.07148841,\n",
       "       -0.54564116, -0.58276392])"
      ]
     },
     "execution_count": 21,
     "metadata": {},
     "output_type": "execute_result"
    }
   ],
   "source": [
    "cofs_norm=lr_cofs.copy()\n",
    "for ind,i in enumerate(X.columns.values):\n",
    "    cofs_norm[ind]=(cofs_norm[ind]-X[i].mean())/X[i].std()\n",
    "t=np.flip(np.argsort(cofs_norm))\n",
    "cofs_norm\n",
    "\n",
    "#X.columns[t]"
   ]
  },
  {
   "cell_type": "code",
   "execution_count": 22,
   "metadata": {},
   "outputs": [
    {
     "data": {
      "text/plain": [
       "'NumberOfTime30-59DaysPastDueNotWorse'"
      ]
     },
     "execution_count": 22,
     "metadata": {},
     "output_type": "execute_result"
    }
   ],
   "source": [
    "X_norm = StandardScaler().fit_transform(X)\n",
    "t=LogisticRegression(C=0.001)\n",
    "t.fit(X_norm,y)\n",
    "cofs_norm=t.coef_[0]\n",
    "ind=np.flip(np.argsort(cofs_norm))\n",
    "X.columns.values[ind[0]]"
   ]
  },
  {
   "cell_type": "markdown",
   "metadata": {},
   "source": [
    "------------//-------------"
   ]
  },
  {
   "cell_type": "markdown",
   "metadata": {},
   "source": [
    "#### Задание 6. Посчитайте долю влияния DebtRatio на предсказание. (Воспользуйтесь функцией softmax)"
   ]
  },
  {
   "cell_type": "code",
   "execution_count": 23,
   "metadata": {},
   "outputs": [],
   "source": [
    "def softmax(x,cofs):\n",
    "    t=cofs.copy()\n",
    "    k=np.power(np.e, cofs*x)\n",
    "    for ind, i in enumerate(k):\n",
    "        t[ind]=i/k.sum()\n",
    "    return t"
   ]
  },
  {
   "cell_type": "code",
   "execution_count": 24,
   "metadata": {},
   "outputs": [
    {
     "data": {
      "text/plain": [
       "0        [0.05018051168784283, 0.1606912401162013, 0.16...\n",
       "1        [0.055725559141773254, 0.1600018289477946, 0.1...\n",
       "2        [0.07412170415124161, 0.15622619712723093, 0.1...\n",
       "3        [0.06927965390395058, 0.15142922854955942, 0.1...\n",
       "4        [0.0640393284972713, 0.15611239067617497, 0.15...\n",
       "5        [0.05865627545439193, 0.15947466282767783, 0.1...\n",
       "6        [0.09602119378676499, 0.15129037081377467, 0.1...\n",
       "7        [0.08723474548611274, 0.15329228196071112, 0.1...\n",
       "8        [0.06334188226908541, 0.32574036453745836, 0.1...\n",
       "9        [0.05814446748432632, 0.15808315948338186, 0.1...\n",
       "10       [0.0028799285392132235, 0.9392462603753399, 0....\n",
       "11       [0.057322612933268915, 0.16162134750501153, 0....\n",
       "12       [0.009284976098082784, 0.894636455341717, 0.01...\n",
       "13       [0.05163647369155032, 0.1565742682622329, 0.15...\n",
       "14       [0.039203841928339506, 0.1619401326412774, 0.1...\n",
       "15       [0.05328558388750333, 0.15299605800026017, 0.1...\n",
       "16       [0.08851906890602365, 0.1527460051326426, 0.15...\n",
       "17       [0.09337314673065723, 0.152567389822896, 0.152...\n",
       "18       [0.05281254940030596, 0.15725453532102832, 0.1...\n",
       "19       [0.09414964467112363, 0.15106388135431859, 0.1...\n",
       "20       [0.05727992076688443, 0.1585905794253638, 0.15...\n",
       "21       [0.0572872230232456, 0.16152156550531957, 0.16...\n",
       "22       [0.08582910830448261, 0.15082224172639638, 0.1...\n",
       "23       [0.04990060969110311, 0.15408750884376676, 0.1...\n",
       "24       [0.06127106030054371, 0.15210509738328348, 0.1...\n",
       "25       [0.04830430190049049, 0.4406937277755919, 0.10...\n",
       "26       [0.037189710282969496, 0.1622340308277986, 0.1...\n",
       "27       [0.03755926186746982, 0.16089347985694494, 0.1...\n",
       "28       [0.04432512537976085, 0.16718103004692056, 0.1...\n",
       "29       [0.020187692340136773, 0.6583593399642492, 0.0...\n",
       "                               ...                        \n",
       "45033    [0.06717562605282762, 0.15226891666825018, 0.1...\n",
       "45034    [0.054573050137031225, 0.15956825922282408, 0....\n",
       "45035    [0.0723959465532889, 0.15538907581780204, 0.15...\n",
       "45036    [0.07045823942031838, 0.15970971046026422, 0.1...\n",
       "45037    [0.06357247156139348, 0.15781833920141852, 0.1...\n",
       "45038    [0.05003801696516967, 0.32007659089975243, 0.1...\n",
       "45039    [0.0962308695728882, 0.15162073462391115, 0.15...\n",
       "45040    [0.04548083800387446, 0.23166979609028868, 0.1...\n",
       "45041    [0.055962474535238275, 0.15778643158903735, 0....\n",
       "45042    [0.06161634804356098, 0.15862800484950787, 0.1...\n",
       "45043    [0.044224000595788245, 0.16084201909152962, 0....\n",
       "45044    [0.08553432974067347, 0.1503042453882676, 0.15...\n",
       "45045    [0.048325823548341924, 0.1575919931040248, 0.1...\n",
       "45046    [0.06171601269165415, 0.15320968944434463, 0.1...\n",
       "45047    [0.05732015616375886, 0.13973267400886893, 0.1...\n",
       "45048    [0.07455434450123405, 0.14879492516359077, 0.1...\n",
       "45049    [0.053349221027366715, 0.16176773213866766, 0....\n",
       "45050    [0.05812093090428381, 0.15801916823713721, 0.1...\n",
       "45051    [0.07990935327263478, 0.22746260869966065, 0.1...\n",
       "45052    [0.07707337134395388, 0.13792179946856223, 0.1...\n",
       "45053    [0.05637826230922823, 0.14780644134698884, 0.1...\n",
       "45054    [0.08544234206481366, 0.15014260107250518, 0.1...\n",
       "45055    [0.07677542776859259, 0.21073618311485562, 0.1...\n",
       "45056    [0.055099500249404416, 0.15255366197456274, 0....\n",
       "45057    [0.040793610040463696, 0.15668482303676654, 0....\n",
       "45058    [0.08547771134960029, 0.15020475335306777, 0.1...\n",
       "45059    [0.057594546533477516, 0.14040157135055678, 0....\n",
       "45060    [0.07448643762358027, 0.14865939719609025, 0.1...\n",
       "45061    [0.05524755212064926, 0.21037286394566657, 0.1...\n",
       "45062    [0.05363367377041934, 0.31900706321802363, 0.1...\n",
       "Length: 45063, dtype: object"
      ]
     },
     "execution_count": 24,
     "metadata": {},
     "output_type": "execute_result"
    }
   ],
   "source": [
    "t=X.apply(lambda x: softmax(x.values,lr_cofs),axis=1)\n",
    "t"
   ]
  },
  {
   "cell_type": "code",
   "execution_count": 25,
   "metadata": {},
   "outputs": [
    {
     "name": "stdout",
     "output_type": "stream",
     "text": [
      "Fraction of influence for DebtRatio: 0.146\n"
     ]
    }
   ],
   "source": [
    "ind=np.where(X.columns.values==\"DebtRatio\")\n",
    "debt_imp=np.asarray([i[ind] for i in t]).flatten()\n",
    "t=debt_imp.mean()\n",
    "print(\"Fraction of influence for DebtRatio: {0:.3f}\".format(t))"
   ]
  },
  {
   "cell_type": "markdown",
   "metadata": {},
   "source": [
    "------------//-------------"
   ]
  },
  {
   "cell_type": "markdown",
   "metadata": {},
   "source": [
    "#### Задание 7. Давайте посмотрим как можно интерпретировать влияние наших признаков. Для этого заного оценим логистическую регрессию в абсолютных величинах. После этого посчитайте во сколько раз увеличатся шансы, что клиент не выплатит кредит, если увеличить возраст на 20 лет при всех остальных равных значениях признаков. (теоретический расчет можно посмотреть здесь)"
   ]
  },
  {
   "cell_type": "code",
   "execution_count": 26,
   "metadata": {},
   "outputs": [],
   "source": [
    "def odds(cofs,x):\n",
    "    return(np.power(np.e,x*cofs).sum())"
   ]
  },
  {
   "cell_type": "code",
   "execution_count": 27,
   "metadata": {},
   "outputs": [
    {
     "data": {
      "text/plain": [
       "0          6.223115\n",
       "1          6.249929\n",
       "2          6.400975\n",
       "3          6.603745\n",
       "4          6.405641\n",
       "5          6.270589\n",
       "6          6.609806\n",
       "7          6.523486\n",
       "8          8.055484\n",
       "9          6.325785\n",
       "10       132.445319\n",
       "11         6.187301\n",
       "12        52.991508\n",
       "13         6.386745\n",
       "14         6.175122\n",
       "15         6.536116\n",
       "16         6.546816\n",
       "17         6.554481\n",
       "18         6.359117\n",
       "19         6.619716\n",
       "20         6.305545\n",
       "21         6.191124\n",
       "22         6.630322\n",
       "23         6.489819\n",
       "24         6.574402\n",
       "25         9.645127\n",
       "26         6.163935\n",
       "27         6.215292\n",
       "28         5.981540\n",
       "29        16.941234\n",
       "            ...    \n",
       "45033      6.567329\n",
       "45034      6.266911\n",
       "45035      6.435459\n",
       "45036      6.261360\n",
       "45037      6.336399\n",
       "45038      8.198026\n",
       "45039      6.595404\n",
       "45040      6.992173\n",
       "45041      6.337681\n",
       "45042      6.304057\n",
       "45043      6.217281\n",
       "45044      6.653172\n",
       "45045      6.345500\n",
       "45046      6.527002\n",
       "45047      7.156522\n",
       "45048      6.720659\n",
       "45049      6.181703\n",
       "45050      6.328346\n",
       "45051      7.121502\n",
       "45052      7.250485\n",
       "45053      6.765605\n",
       "45054      6.660335\n",
       "45055      7.686745\n",
       "45056      6.555070\n",
       "45057      6.382239\n",
       "45058      6.657579\n",
       "45059      7.122427\n",
       "45060      6.726786\n",
       "45061      7.700021\n",
       "45062      8.225512\n",
       "Length: 45063, dtype: float64"
      ]
     },
     "execution_count": 27,
     "metadata": {},
     "output_type": "execute_result"
    }
   ],
   "source": [
    "odds_regul=X.apply(lambda x: odds(x.values,lr_cofs),axis=1)\n",
    "odds_regul"
   ]
  },
  {
   "cell_type": "code",
   "execution_count": 33,
   "metadata": {},
   "outputs": [
    {
     "name": "stdout",
     "output_type": "stream",
     "text": [
      "quotient of odds with increased age and regular odds: 0.982\n"
     ]
    }
   ],
   "source": [
    "X_age=X.copy()\n",
    "X_age[\"age\"]=X_age[\"age\"]+20\n",
    "odds_age=X_age.apply(lambda x: odds(x.values,lr_cofs),axis=1)\n",
    "t=odds_age/odds_regul\n",
    "print(\"quotient of odds with increased age and regular odds: {0:.3f}\".format(t.mean()))"
   ]
  },
  {
   "cell_type": "markdown",
   "metadata": {},
   "source": [
    "------------//-------------"
   ]
  },
  {
   "cell_type": "markdown",
   "metadata": {},
   "source": [
    "## Случайный лес"
   ]
  },
  {
   "cell_type": "code",
   "execution_count": 34,
   "metadata": {},
   "outputs": [],
   "source": [
    "# Инициализируем случайный лес с 100 деревьями и сбалансированными классами \n",
    "rf = RandomForestClassifier(n_estimators=100, n_jobs=-1, \n",
    "                            random_state=42, oob_score=True, \n",
    "                            class_weight='balanced')\n",
    "\n",
    "## Будем искать лучшие параметры среди следующего набора\n",
    "parameters = {'max_features': [1, 2, 4], \n",
    "              'min_samples_leaf': [3, 5, 7, 9], \n",
    "              'max_depth': [5,10,15]}\n",
    "\n",
    "## Делаем опять же стрэтифайд k-fold валидацию. Инициализация которой должна у вас продолжать храниться в skf"
   ]
  },
  {
   "cell_type": "markdown",
   "metadata": {},
   "source": [
    "#### Задание 8. На сколько точность лучшей модели случайного леса выше точности логистической регрессии на валидации?"
   ]
  },
  {
   "cell_type": "code",
   "execution_count": 42,
   "metadata": {},
   "outputs": [
    {
     "name": "stdout",
     "output_type": "stream",
     "text": [
      "Fitting 3 folds for each of 36 candidates, totalling 108 fits\n"
     ]
    },
    {
     "name": "stderr",
     "output_type": "stream",
     "text": [
      "[Parallel(n_jobs=-1)]: Using backend LokyBackend with 8 concurrent workers.\n",
      "[Parallel(n_jobs=-1)]: Done  34 tasks      | elapsed:   18.1s\n",
      "[Parallel(n_jobs=-1)]: Done 108 out of 108 | elapsed:   54.8s finished\n"
     ]
    },
    {
     "data": {
      "text/plain": [
       "GridSearchCV(cv=StratifiedKFold(n_splits=3, random_state=42, shuffle=False),\n",
       "       error_score='raise-deprecating',\n",
       "       estimator=RandomForestClassifier(bootstrap=True, class_weight='balanced',\n",
       "            criterion='gini', max_depth=None, max_features='auto',\n",
       "            max_leaf_nodes=None, min_impurity_decrease=0.0,\n",
       "            min_impurity_split=None, min_samples_leaf=1,\n",
       "            min_samples_split=2, min_weight_fraction_leaf=0.0,\n",
       "            n_estimators=100, n_jobs=-1, oob_score=True, random_state=42,\n",
       "            verbose=0, warm_start=False),\n",
       "       fit_params=None, iid='warn', n_jobs=-1,\n",
       "       param_grid={'max_features': [1, 2, 4], 'min_samples_leaf': [3, 5, 7, 9], 'max_depth': [5, 10, 15]},\n",
       "       pre_dispatch='2*n_jobs', refit=True, return_train_score='warn',\n",
       "       scoring=None, verbose=1)"
      ]
     },
     "execution_count": 42,
     "metadata": {},
     "output_type": "execute_result"
    }
   ],
   "source": [
    "skf= StratifiedKFold(n_splits=3, shuffle=False, random_state=42)\n",
    "gcv = GridSearchCV(rf, parameters, n_jobs=-1, cv=skf, verbose=1)\n",
    "gcv.fit(X, y)\n"
   ]
  },
  {
   "cell_type": "code",
   "execution_count": 46,
   "metadata": {},
   "outputs": [
    {
     "name": "stdout",
     "output_type": "stream",
     "text": [
      "Log Regression accuracy: 0.803\n",
      "Random forest accuracy: 0.862\n"
     ]
    }
   ],
   "source": [
    "rf_est=gcv.best_estimator_ \n",
    "rf_pred=rf_est.predict(X)\n",
    "log_pred=lr_m.best_estimator_.predict(X)\n",
    "rf_acc=accuracy_score(y,rf_pred)\n",
    "log_acc=accuracy_score(y,log_pred)\n",
    "print(\"Log Regression accuracy: {0:.3f}\".format(log_acc))\n",
    "print(\"Random forest accuracy: {0:.3f}\".format(rf_acc))"
   ]
  },
  {
   "cell_type": "markdown",
   "metadata": {},
   "source": [
    "------------//-------------"
   ]
  },
  {
   "cell_type": "markdown",
   "metadata": {},
   "source": [
    "#### Задание 9. Определите какой признак имеет самое слабое влияние.\n",
    "\n"
   ]
  },
  {
   "cell_type": "code",
   "execution_count": 53,
   "metadata": {},
   "outputs": [
    {
     "name": "stdout",
     "output_type": "stream",
     "text": [
      "[0.14710464 0.21780516 0.16992599 0.19753667 0.11279971 0.12818763\n",
      " 0.0266402 ]\n",
      "NumberOfDependents\n"
     ]
    }
   ],
   "source": [
    "rf_imps=rf_est.feature_importances_\n",
    "print(rf_imps)\n",
    "ind=np.argsort(rf_imps)[0]\n",
    "print(X.columns.values[ind])"
   ]
  },
  {
   "cell_type": "markdown",
   "metadata": {},
   "source": [
    "#### Задание 10. Какое наиболее существенное примущество логистической регрессии перед случайным лесом для нашей бизнес-задачи?\n",
    "\n"
   ]
  },
  {
   "cell_type": "markdown",
   "metadata": {},
   "source": [
    "меньше тратится времени для тренировки модели;\n",
    "меньше параметров для перебора;\n",
    "интепретируемость признаков;\n",
    "линейные свойства алгоритма."
   ]
  },
  {
   "cell_type": "code",
   "execution_count": null,
   "metadata": {},
   "outputs": [],
   "source": [
    "#интепретируемость признаков"
   ]
  },
  {
   "cell_type": "markdown",
   "metadata": {},
   "source": [
    "## Бэггинг"
   ]
  },
  {
   "cell_type": "code",
   "execution_count": 57,
   "metadata": {},
   "outputs": [],
   "source": [
    "from sklearn.ensemble import BaggingClassifier\n",
    "from sklearn.model_selection import RandomizedSearchCV\n",
    "parameters = {'max_features': [2, 3, 4], 'max_samples': [0.5, 0.7, 0.9], \n",
    "              \"base_estimator__C\": [0.0001, 0.001, 0.01, 1, 10, 100]}"
   ]
  },
  {
   "cell_type": "markdown",
   "metadata": {},
   "source": [
    "#### Задание 11. \n",
    "Следующая задача обучить бэггинг классификатор (random_state=42). В качестве базовых классификаторов возьмите 100 логистических регрессий и на этот раз используйте не GridSearchCV, а RandomizedSearchCV. Так как перебирать все 54 варианта комбинаций долго, то поставьте максимальное число итераций 20 для RandomizedSearchCV. Также не забудьте передать параметр валидации cv и random_state=1. Какая лучшая точность получилась?\n",
    "\n"
   ]
  },
  {
   "cell_type": "code",
   "execution_count": 63,
   "metadata": {},
   "outputs": [
    {
     "data": {
      "text/plain": [
       "RandomizedSearchCV(cv=StratifiedKFold(n_splits=3, random_state=42, shuffle=False),\n",
       "          error_score='raise-deprecating',\n",
       "          estimator=BaggingClassifier(base_estimator=LogisticRegression(C=0.001, class_weight='balanced', dual=False,\n",
       "          fit_intercept=True, intercept_scaling=1, max_iter=100,\n",
       "          multi_class='warn', n_jobs=None, penalty='l2', random_state=5,\n",
       "          solver='warn', tol=0.0001, verbose=0, warm_s...timators=100, n_jobs=None, oob_score=False,\n",
       "         random_state=None, verbose=0, warm_start=False),\n",
       "          fit_params=None, iid='warn', n_iter=20, n_jobs=-1,\n",
       "          param_distributions={'max_features': [2, 3, 4], 'max_samples': [0.5, 0.7, 0.9], 'base_estimator__C': [0.0001, 0.001, 0.01, 1, 10, 100]},\n",
       "          pre_dispatch='2*n_jobs', random_state=None, refit=True,\n",
       "          return_train_score='warn', scoring=None, verbose=0)"
      ]
     },
     "execution_count": 63,
     "metadata": {},
     "output_type": "execute_result"
    }
   ],
   "source": [
    "bc=BaggingClassifier(base_estimator=lr_m.best_estimator_, n_estimators=100)\n",
    "rcv=RandomizedSearchCV(bc, parameters, n_jobs=-1, cv=skf, verbose=1, n_iter=20, randomstate=1)\n",
    "rcv.fit(X,y)"
   ]
  },
  {
   "cell_type": "code",
   "execution_count": 64,
   "metadata": {},
   "outputs": [
    {
     "name": "stdout",
     "output_type": "stream",
     "text": [
      "0.8143488005680936\n"
     ]
    }
   ],
   "source": [
    "rcv_est=rcv.best_estimator_\n",
    "rcv_pred=rcv.predict(X)\n",
    "rcv_acc=accuracy_score(y,rcv_pred)\n",
    "print(rcv_acc)"
   ]
  },
  {
   "cell_type": "markdown",
   "metadata": {},
   "source": [
    "#### Задача 12. Дайте интерпретацию лучших параметров для бэггинга. Почему именно такие значения оказались лучшими?\n",
    "\n"
   ]
  },
  {
   "cell_type": "code",
   "execution_count": 66,
   "metadata": {},
   "outputs": [
    {
     "data": {
      "text/plain": [
       "{'max_samples': 0.5, 'max_features': 4, 'base_estimator__C': 0.0001}"
      ]
     },
     "execution_count": 66,
     "metadata": {},
     "output_type": "execute_result"
    }
   ],
   "source": [
    "rcv.best_params_"
   ]
  },
  {
   "cell_type": "code",
   "execution_count": null,
   "metadata": {},
   "outputs": [],
   "source": []
  }
 ],
 "metadata": {
  "kernelspec": {
   "display_name": "Python 3",
   "language": "python",
   "name": "python3"
  },
  "language_info": {
   "codemirror_mode": {
    "name": "ipython",
    "version": 3
   },
   "file_extension": ".py",
   "mimetype": "text/x-python",
   "name": "python",
   "nbconvert_exporter": "python",
   "pygments_lexer": "ipython3",
   "version": "3.7.3"
  }
 },
 "nbformat": 4,
 "nbformat_minor": 2
}
